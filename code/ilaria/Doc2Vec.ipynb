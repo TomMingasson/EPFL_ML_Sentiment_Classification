{
 "cells": [
  {
   "cell_type": "code",
   "execution_count": 1,
   "metadata": {},
   "outputs": [],
   "source": [
    "%matplotlib inline\n",
    "%load_ext autoreload\n",
    "%autoreload 2\n",
    "\n",
    "# imports\n",
    "import numpy as np \n",
    "import matplotlib.pyplot as plt\n",
    "import pickle"
   ]
  },
  {
   "cell_type": "markdown",
   "metadata": {},
   "source": [
    "# Application of Doc2Vec to twitter dataset epfl"
   ]
  },
  {
   "cell_type": "code",
   "execution_count": 3,
   "metadata": {},
   "outputs": [],
   "source": [
    "import os\n",
    "os.chdir(r'/home/ilaria/Scrivania/data_ML/twitter_datasets_epfl/short')\n"
   ]
  },
  {
   "cell_type": "markdown",
   "metadata": {},
   "source": [
    "# Doc2Vec by itself (build its vocab with Word2Vec)"
   ]
  },
  {
   "cell_type": "markdown",
   "metadata": {},
   "source": [
    "Building the Doc2Vec model following the example: https://github.com/RaRe-Technologies/gensim/blob/develop/docs/notebooks/doc2vec-lee.ipynb"
   ]
  },
  {
   "cell_type": "code",
   "execution_count": 4,
   "metadata": {
    "collapsed": true
   },
   "outputs": [],
   "source": [
    "import gensim\n",
    "import os\n",
    "import collections\n",
    "import smart_open\n",
    "import random\n",
    "\n",
    "import multiprocessing\n",
    "\n",
    "cores = multiprocessing.cpu_count()\n",
    "assert gensim.models.doc2vec.FAST_VERSION > -1, \"This will be painfully slow otherwise\"\n"
   ]
  },
  {
   "cell_type": "code",
   "execution_count": 5,
   "metadata": {
    "collapsed": true
   },
   "outputs": [],
   "source": [
    "def read_corpus(fname, tokens_only=False):\n",
    "    with smart_open.smart_open(fname, encoding=\"iso-8859-1\") as f:\n",
    "        for i, line in enumerate(f):\n",
    "            if tokens_only:\n",
    "                yield gensim.utils.simple_preprocess(line)\n",
    "            else:\n",
    "                # For training data, add tags\n",
    "                yield gensim.models.doc2vec.TaggedDocument(gensim.utils.simple_preprocess(line), [i])"
   ]
  },
  {
   "cell_type": "code",
   "execution_count": 6,
   "metadata": {
    "collapsed": true
   },
   "outputs": [],
   "source": [
    "train_corpus = list(read_corpus('all_short_processed.txt'))"
   ]
  },
  {
   "cell_type": "code",
   "execution_count": 7,
   "metadata": {
    "collapsed": true
   },
   "outputs": [],
   "source": [
    "#setting hyperparameters\n",
    "vector_size = 25\n",
    "window_size = 10\n",
    "min_count = 5\n",
    "sampling_threshold = 1e-5\n",
    "negative_size = 5\n",
    "train_epoch = 100\n",
    "dm = 0 #0 = dbow; 1 = dmpv\n",
    "\n",
    "\n",
    "model = gensim.models.doc2vec.Doc2Vec(size=vector_size, min_count=min_count, sample=sampling_threshold, workers=cores, hs=0,dm=dm,negative=negative_size, dbow_words=1, dm_concat=1, iter=train_epoch)"
   ]
  },
  {
   "cell_type": "code",
   "execution_count": 8,
   "metadata": {
    "collapsed": true
   },
   "outputs": [],
   "source": [
    "model.build_vocab(train_corpus)\n"
   ]
  },
  {
   "cell_type": "markdown",
   "metadata": {},
   "source": [
    "One important thing to note is that you can now infer a vector for any piece of text without having to re-train the model by passing a list of words to the model.infer_vector function."
   ]
  },
  {
   "cell_type": "code",
   "execution_count": 9,
   "metadata": {
    "collapsed": true
   },
   "outputs": [],
   "source": [
    "# infearing the positive vectors \n",
    "fname = 'train_pos_processed.txt'\n",
    "num_lines = sum(1 for line in open(fname))\n",
    "X_pos = np.zeros((num_lines, vector_size))\n",
    "\n",
    "# define a function that create a list of lists of words: we need to infear to doc2vec model a list of separate word\n",
    "# to obtain the corresponding vectors from the entire twit\n",
    "\n",
    "def read_words(words_file):\n",
    "    row = []\n",
    "    for line in open(fname, 'r', encoding=\"utf-8-sig\"):\n",
    "        word = [w for w in line.split()]\n",
    "        row.append(word)\n",
    "        \n",
    "    return row\n",
    "    \n",
    "    \n",
    "content_pos = read_words(fname)\n",
    "\n",
    "for i in range(len(content_pos)):\n",
    "    X_pos[i,:] = model.infer_vector(content_pos[i])\n",
    "\n",
    "X_pos = np.array(X_pos)"
   ]
  },
  {
   "cell_type": "code",
   "execution_count": 10,
   "metadata": {
    "collapsed": true
   },
   "outputs": [],
   "source": [
    "fname = 'train_neg_processed.txt'\n",
    "num_lines = sum(1 for line in open(fname))\n",
    "X_neg = np.zeros((num_lines, vector_size))\n",
    "\n",
    "content_neg = read_words(fname)\n",
    "\n",
    "for i in range(len(content_neg)):\n",
    "    X_neg[i,:] = model.infer_vector(content_neg[i])\n",
    "\n",
    "X_neg = np.array(X_neg)"
   ]
  },
  {
   "cell_type": "code",
   "execution_count": 11,
   "metadata": {
    "collapsed": true
   },
   "outputs": [],
   "source": [
    "y_pos = np.ones(X_pos.shape[0])\n",
    "y_neg = -np.ones(X_neg.shape[0])"
   ]
  },
  {
   "cell_type": "code",
   "execution_count": 12,
   "metadata": {},
   "outputs": [
    {
     "name": "stdout",
     "output_type": "stream",
     "text": [
      "(90233, 25)\n",
      "(91088, 25)\n"
     ]
    }
   ],
   "source": [
    "print(X_pos.shape)\n",
    "print(X_neg.shape)"
   ]
  },
  {
   "cell_type": "code",
   "execution_count": 13,
   "metadata": {
    "collapsed": true
   },
   "outputs": [],
   "source": [
    "X_pos_neg = np.concatenate([X_pos, X_neg])\n",
    "y_pos_neg = np.concatenate([y_pos, y_neg])"
   ]
  },
  {
   "cell_type": "code",
   "execution_count": 14,
   "metadata": {},
   "outputs": [
    {
     "name": "stdout",
     "output_type": "stream",
     "text": [
      "(181321, 25)\n",
      "(181321,)\n"
     ]
    },
    {
     "data": {
      "text/plain": [
       "array([ 1.,  1.,  1., ..., -1., -1., -1.])"
      ]
     },
     "execution_count": 14,
     "metadata": {},
     "output_type": "execute_result"
    }
   ],
   "source": [
    "print(X_pos_neg.shape)\n",
    "print(y_pos_neg.shape)\n",
    "y_pos_neg"
   ]
  },
  {
   "cell_type": "code",
   "execution_count": 15,
   "metadata": {
    "collapsed": true
   },
   "outputs": [],
   "source": [
    "#ind = np.arange(X_pos_neg.shape[0])\n",
    "#ind_shuf = np.random.permutation(ind)\n",
    "\n",
    "#X_pos_neg = X_pos_neg[ind_shuf, :]\n",
    "#y_pos_neg = y_pos_neg[ind_shuf]"
   ]
  },
  {
   "cell_type": "markdown",
   "metadata": {},
   "source": [
    "# SVM"
   ]
  },
  {
   "cell_type": "code",
   "execution_count": 16,
   "metadata": {},
   "outputs": [
    {
     "data": {
      "text/plain": [
       "SVC(C=1.0, cache_size=200, class_weight=None, coef0=0.0,\n",
       "  decision_function_shape='ovr', degree=3, gamma='auto', kernel='rbf',\n",
       "  max_iter=-1, probability=False, random_state=None, shrinking=True,\n",
       "  tol=0.001, verbose=False)"
      ]
     },
     "execution_count": 16,
     "metadata": {},
     "output_type": "execute_result"
    }
   ],
   "source": [
    "from sklearn.svm import SVC\n",
    "\n",
    "clf = SVC()\n",
    "clf.fit(X_pos_neg, y_pos_neg) "
   ]
  },
  {
   "cell_type": "markdown",
   "metadata": {
    "collapsed": true
   },
   "source": [
    "# Submission"
   ]
  },
  {
   "cell_type": "code",
   "execution_count": 17,
   "metadata": {
    "collapsed": true
   },
   "outputs": [],
   "source": [
    "# Building the X matrix\n",
    "fname = 'test_data_no_id_processed.txt'\n",
    "num_lines = sum(1 for line in open(fname))\n",
    "X_test = np.zeros((num_lines, vector_size))\n",
    "\n",
    "content = read_words(fname)\n",
    "\n",
    "for i in range(len(content)):\n",
    "    X_test[i,:] = model.infer_vector(content[i])\n"
   ]
  },
  {
   "cell_type": "code",
   "execution_count": 18,
   "metadata": {
    "collapsed": true
   },
   "outputs": [],
   "source": [
    "y_pred = clf.predict(X_test)\n"
   ]
  },
  {
   "cell_type": "code",
   "execution_count": 19,
   "metadata": {},
   "outputs": [
    {
     "data": {
      "text/plain": [
       "(10000, 25)"
      ]
     },
     "execution_count": 19,
     "metadata": {},
     "output_type": "execute_result"
    }
   ],
   "source": [
    "X_test.shape"
   ]
  },
  {
   "cell_type": "code",
   "execution_count": 20,
   "metadata": {
    "collapsed": true
   },
   "outputs": [],
   "source": [
    "os.chdir(r'/home/ilaria/Scrivania/Machine_Learning/Project_2/COMMON')"
   ]
  },
  {
   "cell_type": "code",
   "execution_count": 22,
   "metadata": {},
   "outputs": [],
   "source": [
    "from create_csv_submission import create_csv_submission\n",
    "import time\n",
    "import datetime\n",
    "i = datetime.datetime.now()\n",
    "\n",
    "name = \"sub_\" + time.strftime(\"%d_%m_%Y\") +  \"_%sh_%smin\" % (i.hour, i.minute)\n",
    "#name = \"vrf\"\n",
    "ids_test = range(1, len(y_pred)+1)\n",
    "create_csv_submission(ids_test, y_pred, name)"
   ]
  }
 ],
 "metadata": {
  "kernelspec": {
   "display_name": "Python 3",
   "language": "python",
   "name": "python3"
  },
  "language_info": {
   "codemirror_mode": {
    "name": "ipython",
    "version": 3
   },
   "file_extension": ".py",
   "mimetype": "text/x-python",
   "name": "python",
   "nbconvert_exporter": "python",
   "pygments_lexer": "ipython3",
   "version": "3.6.1"
  }
 },
 "nbformat": 4,
 "nbformat_minor": 2
}
