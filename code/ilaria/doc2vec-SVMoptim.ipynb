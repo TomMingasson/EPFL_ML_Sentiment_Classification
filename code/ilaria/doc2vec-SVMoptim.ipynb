{
 "cells": [
  {
   "cell_type": "markdown",
   "metadata": {},
   "source": [
    "## Setup\n",
    "\n",
    "### Modules\n",
    "\n",
    "We use `gensim`, since `gensim` has a much more readable implementation of Word2Vec (and Doc2Vec)."
   ]
  },
  {
   "cell_type": "code",
   "execution_count": 1,
   "metadata": {
    "collapsed": true
   },
   "outputs": [],
   "source": [
    "# gensim modules\n",
    "from gensim import utils\n",
    "from gensim.models.doc2vec import LabeledSentence\n",
    "from gensim.models import Doc2Vec\n",
    "\n",
    "# numpy\n",
    "import numpy as np\n",
    "\n",
    "# classifier\n",
    "from sklearn.linear_model import LogisticRegression\n",
    "from sklearn.svm import SVC\n",
    "\n",
    "# random\n",
    "import random\n",
    "\n",
    "# add path\n",
    "import sys\n",
    "my_path = r'home/ilaria/Scrivania/Machine_Learning/Project_2/Project2'\n",
    "sys.path.insert(0,my_path + r'/code/COMMON')\n",
    "\n",
    "#change path for data\n",
    "import os\n",
    "os.chdir(r'/home/ilaria/Scrivania/Machine_Learning/Project_2/Project2/data/twitter_datasets_epfl/short')"
   ]
  },
  {
   "cell_type": "markdown",
   "metadata": {},
   "source": [
    "### Input Format\n",
    "\n",
    "The samples contains tweet, each one taking up one entire line. Yes, **each document should be on one line, separated by new lines**. This is extremely important, because our parser depends on this to identify sentences."
   ]
  },
  {
   "cell_type": "markdown",
   "metadata": {},
   "source": [
    "### Feeding Data to Doc2Vec\n",
    "\n",
    "Doc2Vec (the portion of `gensim` that implements the Doc2Vec algorithm) does a great job at word embedding, but a terrible job at reading in files. It only takes in `LabeledLineSentence` classes which basically yields `LabeledSentence`, a class from `gensim.models.doc2vec` representing a single sentence. Why the \"Labeled\" word? Well, here's how Doc2Vec differs from Word2Vec.\n",
    "\n",
    "Word2Vec simply converts a word into a vector.\n",
    "\n",
    "Doc2Vec not only does that, but also aggregates all the words in a sentence into a vector. To do that, it simply treats a sentence label as a special word, and does some voodoo on that special word. Hence, that special word is a label for a sentence. \n",
    "\n",
    "So we have to format sentences into\n",
    "\n",
    "```python\n",
    "[['word1', 'word2', 'word3', 'lastword'], ['label1']]\n",
    "```\n",
    "\n",
    "`LabeledSentence` is simply a tidier way to do that. It contains a list of words, and a label for the sentence. We don't really need to care about how `LabeledSentence` works exactly, we just have to know that it stores those two things -- a list of words and a label.\n",
    "\n",
    "However, we need a way to convert our new line separated corpus into a collection of `LabeledSentence`s. The default constructor for the default `LabeledLineSentence` class in Doc2Vec can do that for a single text file, but can't do that for multiple files. In classification tasks however, we usually deal with multiple documents (test, training, positive, negative etc). Ain't that annoying?\n",
    "\n",
    "So we write our own `LabeledLineSentence` class. The constructor takes in a dictionary that defines the files to read and the label prefixes sentences from that document should take on. Then, Doc2Vec can either read the collection directly via the iterator, or we can access the array directly. We also need a function to return a permutated version of the array of `LabeledSentence`s. We'll see why later on."
   ]
  },
  {
   "cell_type": "code",
   "execution_count": 2,
   "metadata": {
    "collapsed": true
   },
   "outputs": [],
   "source": [
    "class LabeledLineSentence(object):\n",
    "    def __init__(self, sources):\n",
    "        self.sources = sources\n",
    "        \n",
    "        flipped = {}\n",
    "        \n",
    "        # make sure that keys are unique\n",
    "        for key, value in sources.items():\n",
    "            if value not in flipped:\n",
    "                flipped[value] = [key]\n",
    "            else:\n",
    "                raise Exception('Non-unique prefix encountered')\n",
    "    \n",
    "    def __iter__(self):\n",
    "        for source, prefix in self.sources.items():\n",
    "            with open(source, 'r', encoding=\"ISO-8859-1\") as fin:\n",
    "                for item_no, line in enumerate(fin):\n",
    "                    yield LabeledSentence(utils.to_unicode(line).split(), [prefix + '_%s' % item_no])\n",
    "    \n",
    "    def to_array(self):\n",
    "        self.sentences = []\n",
    "        for source, prefix in self.sources.items():\n",
    "            print(source)\n",
    "            with open(source, 'r', encoding=\"ISO-8859-1\") as fin:\n",
    "                for item_no, line in enumerate(fin):\n",
    "                    self.sentences.append(LabeledSentence(utils.to_unicode(line).split(), [prefix + '_%s' % item_no]))\n",
    "        return self.sentences\n",
    "    \n",
    "    def sentences_perm(self):\n",
    "        shuffled = list(self.sentences)\n",
    "        random.shuffle(shuffled)\n",
    "        return shuffled"
   ]
  },
  {
   "cell_type": "markdown",
   "metadata": {},
   "source": [
    "Now we can feed the data files to `LabeledLineSentence`. As we mentioned earlier, `LabeledLineSentence` simply takes a dictionary with keys as the file names and values the special prefixes for sentences from that document. The prefixes need to be unique, so that there is no ambiguitiy for sentences from different documents.\n",
    "\n",
    "The prefixes will have a counter appended to them to label individual sentences in the documetns."
   ]
  },
  {
   "cell_type": "code",
   "execution_count": 3,
   "metadata": {
    "collapsed": true
   },
   "outputs": [],
   "source": [
    "sources = {'train_neg_processed.txt':'TRAIN_NEG', 'train_pos_processed.txt':'TRAIN_POS', 'test_data_no_id_processed.txt':'TEST'}\n",
    "\n",
    "sentences = LabeledLineSentence(sources)"
   ]
  },
  {
   "cell_type": "markdown",
   "metadata": {},
   "source": [
    "## Model\n",
    "\n",
    "### Building the Vocabulary Table\n",
    "\n",
    "Doc2Vec requires us to build the vocabulary table (simply digesting all the words and filtering out the unique words, and doing some basic counts on them). So we feed it the array of sentences. `model.build_vocab` takes an array of `LabeledLineSentence`, hence our `to_array` function in the `LabeledLineSentences` class. \n",
    "\n",
    "If you're curious about the parameters, do read the Word2Vec documentation. Otherwise, here's a quick rundown:\n",
    "\n",
    "- `min_count`: ignore all words with total frequency lower than this. You have to set this to 1, since the sentence labels only appear once. Setting it any higher than 1 will miss out on the sentences.\n",
    "- `window`: the maximum distance between the current and predicted word within a sentence. Word2Vec uses a skip-gram model, and this is simply the window size of the skip-gram model.\n",
    "- `size`: dimensionality of the feature vectors in output. 100 is a good number. If you're extreme, you can go up to around 400.\n",
    "- `sample`: threshold for configuring which higher-frequency words are randomly downsampled\n",
    "- `workers`: use this many worker threads to train the model "
   ]
  },
  {
   "cell_type": "code",
   "execution_count": 4,
   "metadata": {},
   "outputs": [
    {
     "name": "stdout",
     "output_type": "stream",
     "text": [
      "train_neg_processed.txt\n"
     ]
    },
    {
     "name": "stderr",
     "output_type": "stream",
     "text": [
      "/home/ilaria/anaconda3/lib/python3.6/site-packages/ipykernel_launcher.py:26: DeprecationWarning: Call to deprecated `LabeledSentence` (Class will be removed in 4.0.0, use TaggedDocument instead).\n"
     ]
    },
    {
     "name": "stdout",
     "output_type": "stream",
     "text": [
      "train_pos_processed.txt\n",
      "test_data_no_id_processed.txt\n"
     ]
    }
   ],
   "source": [
    "model = Doc2Vec(min_count=1, window=10, size=100, sample=1e-4, negative=5, workers=7)\n",
    "\n",
    "model.build_vocab(sentences.to_array())"
   ]
  },
  {
   "cell_type": "markdown",
   "metadata": {},
   "source": [
    "### Training Doc2Vec\n",
    "\n",
    "Now we train the model. The model is better trained if **in each training epoch, the sequence of sentences fed to the model is randomized**. This is important: missing out on this steps gives you really shitty results. This is the reason for the `sentences_perm` method in our `LabeledLineSentences` class.\n",
    "\n",
    "We train it for 10 epochs. If I had more time, I'd have done 20.\n",
    "\n",
    "This process takes around 10 mins, so go grab some coffee."
   ]
  },
  {
   "cell_type": "code",
   "execution_count": 7,
   "metadata": {},
   "outputs": [
    {
     "data": {
      "text/plain": [
       "16035354"
      ]
     },
     "execution_count": 7,
     "metadata": {},
     "output_type": "execute_result"
    }
   ],
   "source": [
    "model.train(sentences.sentences_perm(), total_examples=model.corpus_count, epochs=10)"
   ]
  },
  {
   "cell_type": "markdown",
   "metadata": {},
   "source": [
    "### Inspecting the Model\n",
    "\n",
    "Let's see what our model gives. It seems that it has kind of understood the word `good`, since the most similar words to good are `glamorous`, `spectacular`, `astounding` etc. This is really awesome (and important), since we are doing sentiment analysis."
   ]
  },
  {
   "cell_type": "code",
   "execution_count": null,
   "metadata": {},
   "outputs": [],
   "source": [
    "model.most_similar('good')"
   ]
  },
  {
   "cell_type": "markdown",
   "metadata": {},
   "source": [
    "We can also prop the hood open and see what the model actually contains. This is each of the vectors of the words and sentences in the model. We can access all of them using `model.syn0` (for the geekier ones among you, `syn0` is simply the output layer of the shallow neural network). However, we don't want to use the entire `syn0` since that contains the vectors for the words as well, but we are only interested in the ones for sentences.\n",
    "\n",
    "Here's a sample vector for the first sentence in the training set for negative reviews:"
   ]
  },
  {
   "cell_type": "code",
   "execution_count": null,
   "metadata": {},
   "outputs": [],
   "source": [
    "model.docvecs['TRAIN_POS_1']"
   ]
  },
  {
   "cell_type": "markdown",
   "metadata": {},
   "source": [
    "## Classifying Sentiments\n",
    "\n",
    "### Training Vectors\n"
   ]
  },
  {
   "cell_type": "code",
   "execution_count": 8,
   "metadata": {
    "collapsed": true
   },
   "outputs": [],
   "source": [
    "train_arrays = np.zeros((180000, 100))\n",
    "train_labels = np.zeros(180000)\n",
    "\n",
    "for i in range(90000):\n",
    "    prefix_train_pos = 'TRAIN_POS_' + str(i)\n",
    "    prefix_train_neg = 'TRAIN_NEG_' + str(i)\n",
    "    train_arrays[i] = model.docvecs[prefix_train_pos]\n",
    "    train_arrays[90000 + i] = model.docvecs[prefix_train_neg]\n",
    "    train_labels[i] = 1\n",
    "    train_labels[90000 + i] = -1"
   ]
  },
  {
   "cell_type": "markdown",
   "metadata": {},
   "source": [
    "The training array looks like this: rows and rows of vectors representing each sentence."
   ]
  },
  {
   "cell_type": "code",
   "execution_count": 9,
   "metadata": {
    "scrolled": true
   },
   "outputs": [
    {
     "name": "stdout",
     "output_type": "stream",
     "text": [
      "[[ -8.65951553e-03  -1.81227818e-01   1.75191388e-02 ...,  -1.23258188e-01\n",
      "   -1.27799893e-02  -1.56774715e-01]\n",
      " [  8.29608552e-03   1.32956222e-01   3.84071320e-02 ...,  -1.06061772e-02\n",
      "    7.48382583e-02   1.75294638e-01]\n",
      " [  1.11585677e-01  -7.31966496e-02   4.10510078e-02 ...,   9.28450227e-02\n",
      "   -1.20057724e-01   7.61712715e-02]\n",
      " ..., \n",
      " [  9.36760828e-02  -3.73742729e-02   5.13873249e-02 ...,  -7.17999041e-03\n",
      "    1.05007784e-03   1.65333768e-04]\n",
      " [  1.64792791e-01  -9.49910432e-02   1.13734312e-01 ...,  -2.34314743e-02\n",
      "   -8.21909010e-02  -1.72997434e-02]\n",
      " [ -7.73340240e-02   3.32785323e-02  -7.81462938e-02 ...,   1.13021567e-01\n",
      "   -8.29291493e-02   2.00522259e-01]]\n"
     ]
    }
   ],
   "source": [
    "print(train_arrays)"
   ]
  },
  {
   "cell_type": "markdown",
   "metadata": {},
   "source": [
    "The labels are simply category labels for the sentence vectors -- 1 representing positive and 0 for negative."
   ]
  },
  {
   "cell_type": "code",
   "execution_count": 10,
   "metadata": {},
   "outputs": [
    {
     "name": "stdout",
     "output_type": "stream",
     "text": [
      "[ 1.  1.  1. ..., -1. -1. -1.]\n"
     ]
    }
   ],
   "source": [
    "print(train_labels)"
   ]
  },
  {
   "cell_type": "markdown",
   "metadata": {},
   "source": [
    "### Testing Vectors\n",
    "\n",
    "We do the same for testing data -- data that we are going to feed to the classifier after we've trained it using the training data. This allows us to evaluate our results. The process is pretty much the same as extracting the results for the training data."
   ]
  },
  {
   "cell_type": "code",
   "execution_count": 11,
   "metadata": {
    "collapsed": true
   },
   "outputs": [],
   "source": [
    "test_arrays = np.zeros((10000, 100))\n",
    "test_labels = np.zeros(10000)\n",
    "\n",
    "for i in range(10000):\n",
    "    prefix_test = 'TEST_' + str(i)\n",
    "    test_arrays[i] = model.docvecs[prefix_test]"
   ]
  },
  {
   "cell_type": "markdown",
   "metadata": {},
   "source": [
    "## Hyperparameters optimization SVM : C and gamma"
   ]
  },
  {
   "cell_type": "code",
   "execution_count": 19,
   "metadata": {
    "collapsed": true
   },
   "outputs": [],
   "source": [
    "# shuffle of training matrix\n",
    "ind = np.arange(train_arrays.shape[0])\n",
    "ind_shuf = np.random.permutation(ind)\n",
    "\n",
    "X_pos_neg = train_arrays[ind_shuf, :]\n",
    "y_pos_neg = train_labels[ind_shuf]\n",
    "\n",
    "\n",
    "# number of training samples\n",
    "N_samples_train = 3500\n",
    "\n",
    "# cut samples\n",
    "X_cut = X_pos_neg[:N_samples_train,:]\n",
    "\n",
    "\n",
    "# cut targets\n",
    "y_cut = y_pos_neg[:N_samples_train]\n"
   ]
  },
  {
   "cell_type": "markdown",
   "metadata": {},
   "source": [
    "## Grid search and cross validation"
   ]
  },
  {
   "cell_type": "code",
   "execution_count": 20,
   "metadata": {
    "scrolled": true
   },
   "outputs": [
    {
     "name": "stdout",
     "output_type": "stream",
     "text": [
      "Grid Search: execution time=1358.185 seconds\n"
     ]
    }
   ],
   "source": [
    "from sklearn.model_selection import train_test_split\n",
    "from sklearn.model_selection import GridSearchCV\n",
    "from sklearn.metrics import classification_report\n",
    "from sklearn.svm import SVC\n",
    "import datetime\n",
    "\n",
    "# data\n",
    "X = X_cut\n",
    "y = y_cut\n",
    "\n",
    "# Split the dataset in two equal parts\n",
    "X_train, X_test, y_train, y_test = train_test_split(X, y, test_size=0.25, random_state=0)\n",
    "\n",
    "# range for hyperparameters\n",
    "C_range = np.logspace(-1, 3, 10)\n",
    "\n",
    "gamma_range = np.logspace(-6, 2, 10)\n",
    "\n",
    "# Set the parameters by cross-validation\n",
    "tuned_parameters = [{'gamma': gamma_range, 'C': C_range}]\n",
    "                    \n",
    "# define grid search CV\n",
    "\n",
    "\n",
    "start_time = datetime.datetime.now()\n",
    "clf = GridSearchCV(SVC(kernel='rbf'), tuned_parameters, cv=5, scoring= 'accuracy')\n",
    "\n",
    "# fit for every parameters combinations in grid search CV\n",
    "clf.fit(X_train, y_train)\n",
    "\n",
    "end_time = datetime.datetime.now()\n",
    "\n",
    "exection_time = (end_time - start_time).total_seconds()\n",
    "print(\"Grid Search: execution time={t:.3f} seconds\".format(t=exection_time))"
   ]
  },
  {
   "cell_type": "markdown",
   "metadata": {},
   "source": [
    "# Display Results"
   ]
  },
  {
   "cell_type": "code",
   "execution_count": 21,
   "metadata": {},
   "outputs": [
    {
     "name": "stdout",
     "output_type": "stream",
     "text": [
      "Best parameters set found on development set:\n",
      "\n",
      "{'C': 2.1544346900318834, 'gamma': 1.6681005372000557}\n",
      "\n",
      "Grid scores on development set:\n",
      "\n",
      "0.500 (+/-0.001) for {'C': 0.10000000000000001, 'gamma': 9.9999999999999995e-07}\n",
      "0.500 (+/-0.001) for {'C': 0.10000000000000001, 'gamma': 7.7426368268112769e-06}\n",
      "0.500 (+/-0.001) for {'C': 0.10000000000000001, 'gamma': 5.9948425031894089e-05}\n",
      "0.500 (+/-0.001) for {'C': 0.10000000000000001, 'gamma': 0.00046415888336127773}\n",
      "0.500 (+/-0.001) for {'C': 0.10000000000000001, 'gamma': 0.0035938136638046258}\n",
      "0.550 (+/-0.012) for {'C': 0.10000000000000001, 'gamma': 0.02782559402207126}\n",
      "0.667 (+/-0.034) for {'C': 0.10000000000000001, 'gamma': 0.21544346900318823}\n",
      "0.636 (+/-0.023) for {'C': 0.10000000000000001, 'gamma': 1.6681005372000557}\n",
      "0.524 (+/-0.029) for {'C': 0.10000000000000001, 'gamma': 12.915496650148826}\n",
      "0.500 (+/-0.001) for {'C': 0.10000000000000001, 'gamma': 100.0}\n",
      "0.500 (+/-0.001) for {'C': 0.27825594022071243, 'gamma': 9.9999999999999995e-07}\n",
      "0.500 (+/-0.001) for {'C': 0.27825594022071243, 'gamma': 7.7426368268112769e-06}\n",
      "0.500 (+/-0.001) for {'C': 0.27825594022071243, 'gamma': 5.9948425031894089e-05}\n",
      "0.500 (+/-0.001) for {'C': 0.27825594022071243, 'gamma': 0.00046415888336127773}\n",
      "0.500 (+/-0.001) for {'C': 0.27825594022071243, 'gamma': 0.0035938136638046258}\n",
      "0.647 (+/-0.010) for {'C': 0.27825594022071243, 'gamma': 0.02782559402207126}\n",
      "0.691 (+/-0.026) for {'C': 0.27825594022071243, 'gamma': 0.21544346900318823}\n",
      "0.683 (+/-0.025) for {'C': 0.27825594022071243, 'gamma': 1.6681005372000557}\n",
      "0.527 (+/-0.013) for {'C': 0.27825594022071243, 'gamma': 12.915496650148826}\n",
      "0.500 (+/-0.001) for {'C': 0.27825594022071243, 'gamma': 100.0}\n",
      "0.500 (+/-0.001) for {'C': 0.774263682681127, 'gamma': 9.9999999999999995e-07}\n",
      "0.500 (+/-0.001) for {'C': 0.774263682681127, 'gamma': 7.7426368268112769e-06}\n",
      "0.500 (+/-0.001) for {'C': 0.774263682681127, 'gamma': 5.9948425031894089e-05}\n",
      "0.500 (+/-0.001) for {'C': 0.774263682681127, 'gamma': 0.00046415888336127773}\n",
      "0.591 (+/-0.035) for {'C': 0.774263682681127, 'gamma': 0.0035938136638046258}\n",
      "0.685 (+/-0.015) for {'C': 0.774263682681127, 'gamma': 0.02782559402207126}\n",
      "0.706 (+/-0.019) for {'C': 0.774263682681127, 'gamma': 0.21544346900318823}\n",
      "0.708 (+/-0.033) for {'C': 0.774263682681127, 'gamma': 1.6681005372000557}\n",
      "0.559 (+/-0.024) for {'C': 0.774263682681127, 'gamma': 12.915496650148826}\n",
      "0.500 (+/-0.001) for {'C': 0.774263682681127, 'gamma': 100.0}\n",
      "0.500 (+/-0.001) for {'C': 2.1544346900318834, 'gamma': 9.9999999999999995e-07}\n",
      "0.500 (+/-0.001) for {'C': 2.1544346900318834, 'gamma': 7.7426368268112769e-06}\n",
      "0.500 (+/-0.001) for {'C': 2.1544346900318834, 'gamma': 5.9948425031894089e-05}\n",
      "0.500 (+/-0.001) for {'C': 2.1544346900318834, 'gamma': 0.00046415888336127773}\n",
      "0.655 (+/-0.003) for {'C': 2.1544346900318834, 'gamma': 0.0035938136638046258}\n",
      "0.701 (+/-0.018) for {'C': 2.1544346900318834, 'gamma': 0.02782559402207126}\n",
      "0.709 (+/-0.027) for {'C': 2.1544346900318834, 'gamma': 0.21544346900318823}\n",
      "0.714 (+/-0.040) for {'C': 2.1544346900318834, 'gamma': 1.6681005372000557}\n",
      "0.595 (+/-0.035) for {'C': 2.1544346900318834, 'gamma': 12.915496650148826}\n",
      "0.504 (+/-0.011) for {'C': 2.1544346900318834, 'gamma': 100.0}\n",
      "0.500 (+/-0.001) for {'C': 5.9948425031894086, 'gamma': 9.9999999999999995e-07}\n",
      "0.500 (+/-0.001) for {'C': 5.9948425031894086, 'gamma': 7.7426368268112769e-06}\n",
      "0.500 (+/-0.001) for {'C': 5.9948425031894086, 'gamma': 5.9948425031894089e-05}\n",
      "0.596 (+/-0.031) for {'C': 5.9948425031894086, 'gamma': 0.00046415888336127773}\n",
      "0.692 (+/-0.021) for {'C': 5.9948425031894086, 'gamma': 0.0035938136638046258}\n",
      "0.705 (+/-0.022) for {'C': 5.9948425031894086, 'gamma': 0.02782559402207126}\n",
      "0.708 (+/-0.034) for {'C': 5.9948425031894086, 'gamma': 0.21544346900318823}\n",
      "0.695 (+/-0.043) for {'C': 5.9948425031894086, 'gamma': 1.6681005372000557}\n",
      "0.595 (+/-0.032) for {'C': 5.9948425031894086, 'gamma': 12.915496650148826}\n",
      "0.504 (+/-0.011) for {'C': 5.9948425031894086, 'gamma': 100.0}\n",
      "0.500 (+/-0.001) for {'C': 16.681005372000591, 'gamma': 9.9999999999999995e-07}\n",
      "0.500 (+/-0.001) for {'C': 16.681005372000591, 'gamma': 7.7426368268112769e-06}\n",
      "0.500 (+/-0.001) for {'C': 16.681005372000591, 'gamma': 5.9948425031894089e-05}\n",
      "0.657 (+/-0.005) for {'C': 16.681005372000591, 'gamma': 0.00046415888336127773}\n",
      "0.697 (+/-0.024) for {'C': 16.681005372000591, 'gamma': 0.0035938136638046258}\n",
      "0.703 (+/-0.012) for {'C': 16.681005372000591, 'gamma': 0.02782559402207126}\n",
      "0.701 (+/-0.035) for {'C': 16.681005372000591, 'gamma': 0.21544346900318823}\n",
      "0.687 (+/-0.035) for {'C': 16.681005372000591, 'gamma': 1.6681005372000557}\n",
      "0.595 (+/-0.032) for {'C': 16.681005372000591, 'gamma': 12.915496650148826}\n",
      "0.504 (+/-0.011) for {'C': 16.681005372000591, 'gamma': 100.0}\n",
      "0.500 (+/-0.001) for {'C': 46.415888336127772, 'gamma': 9.9999999999999995e-07}\n",
      "0.500 (+/-0.001) for {'C': 46.415888336127772, 'gamma': 7.7426368268112769e-06}\n",
      "0.596 (+/-0.032) for {'C': 46.415888336127772, 'gamma': 5.9948425031894089e-05}\n",
      "0.691 (+/-0.020) for {'C': 46.415888336127772, 'gamma': 0.00046415888336127773}\n",
      "0.703 (+/-0.020) for {'C': 46.415888336127772, 'gamma': 0.0035938136638046258}\n",
      "0.702 (+/-0.021) for {'C': 46.415888336127772, 'gamma': 0.02782559402207126}\n",
      "0.698 (+/-0.037) for {'C': 46.415888336127772, 'gamma': 0.21544346900318823}\n",
      "0.680 (+/-0.028) for {'C': 46.415888336127772, 'gamma': 1.6681005372000557}\n",
      "0.595 (+/-0.032) for {'C': 46.415888336127772, 'gamma': 12.915496650148826}\n",
      "0.504 (+/-0.011) for {'C': 46.415888336127772, 'gamma': 100.0}\n",
      "0.500 (+/-0.001) for {'C': 129.15496650148827, 'gamma': 9.9999999999999995e-07}\n",
      "0.500 (+/-0.001) for {'C': 129.15496650148827, 'gamma': 7.7426368268112769e-06}\n",
      "0.658 (+/-0.006) for {'C': 129.15496650148827, 'gamma': 5.9948425031894089e-05}\n",
      "0.700 (+/-0.030) for {'C': 129.15496650148827, 'gamma': 0.00046415888336127773}\n",
      "0.701 (+/-0.024) for {'C': 129.15496650148827, 'gamma': 0.0035938136638046258}\n",
      "0.699 (+/-0.034) for {'C': 129.15496650148827, 'gamma': 0.02782559402207126}\n",
      "0.685 (+/-0.041) for {'C': 129.15496650148827, 'gamma': 0.21544346900318823}\n",
      "0.669 (+/-0.012) for {'C': 129.15496650148827, 'gamma': 1.6681005372000557}\n",
      "0.595 (+/-0.032) for {'C': 129.15496650148827, 'gamma': 12.915496650148826}\n",
      "0.504 (+/-0.011) for {'C': 129.15496650148827, 'gamma': 100.0}\n",
      "0.500 (+/-0.001) for {'C': 359.38136638046257, 'gamma': 9.9999999999999995e-07}\n",
      "0.597 (+/-0.033) for {'C': 359.38136638046257, 'gamma': 7.7426368268112769e-06}\n",
      "0.692 (+/-0.021) for {'C': 359.38136638046257, 'gamma': 5.9948425031894089e-05}\n",
      "0.702 (+/-0.019) for {'C': 359.38136638046257, 'gamma': 0.00046415888336127773}\n",
      "0.698 (+/-0.016) for {'C': 359.38136638046257, 'gamma': 0.0035938136638046258}\n",
      "0.701 (+/-0.034) for {'C': 359.38136638046257, 'gamma': 0.02782559402207126}\n",
      "0.673 (+/-0.048) for {'C': 359.38136638046257, 'gamma': 0.21544346900318823}\n",
      "0.666 (+/-0.009) for {'C': 359.38136638046257, 'gamma': 1.6681005372000557}\n",
      "0.595 (+/-0.032) for {'C': 359.38136638046257, 'gamma': 12.915496650148826}\n",
      "0.504 (+/-0.011) for {'C': 359.38136638046257, 'gamma': 100.0}\n",
      "0.500 (+/-0.001) for {'C': 1000.0, 'gamma': 9.9999999999999995e-07}\n",
      "0.658 (+/-0.006) for {'C': 1000.0, 'gamma': 7.7426368268112769e-06}\n",
      "0.700 (+/-0.031) for {'C': 1000.0, 'gamma': 5.9948425031894089e-05}\n",
      "0.701 (+/-0.028) for {'C': 1000.0, 'gamma': 0.00046415888336127773}\n",
      "0.701 (+/-0.014) for {'C': 1000.0, 'gamma': 0.0035938136638046258}\n",
      "0.698 (+/-0.036) for {'C': 1000.0, 'gamma': 0.02782559402207126}\n",
      "0.659 (+/-0.035) for {'C': 1000.0, 'gamma': 0.21544346900318823}\n",
      "0.666 (+/-0.009) for {'C': 1000.0, 'gamma': 1.6681005372000557}\n",
      "0.595 (+/-0.032) for {'C': 1000.0, 'gamma': 12.915496650148826}\n",
      "0.504 (+/-0.011) for {'C': 1000.0, 'gamma': 100.0}\n",
      "\n",
      "Detailed classification report:\n",
      "\n",
      "The model is trained on the full development set.\n",
      "The scores are computed on the full evaluation set.\n",
      "\n",
      "             precision    recall  f1-score   support\n",
      "\n",
      "       -1.0       0.70      0.69      0.69       593\n",
      "        1.0       0.72      0.73      0.72       657\n",
      "\n",
      "avg / total       0.71      0.71      0.71      1250\n",
      "\n",
      "\n"
     ]
    }
   ],
   "source": [
    "print(\"Best parameters set found on development set:\")\n",
    "print()\n",
    "print(clf.best_params_)\n",
    "print()\n",
    "print(\"Grid scores on development set:\")\n",
    "print()\n",
    "\n",
    "means = clf.cv_results_['mean_test_score']\n",
    "stds = clf.cv_results_['std_test_score']\n",
    "for mean, std, params in zip(means, stds, clf.cv_results_['params']):\n",
    "    print(\"%0.3f (+/-%0.03f) for %r\"\n",
    "          % (mean, std * 2, params))\n",
    "    \n",
    "print()\n",
    "print(\"Detailed classification report:\")\n",
    "print()\n",
    "print(\"The model is trained on the full development set.\")\n",
    "print(\"The scores are computed on the full evaluation set.\")\n",
    "print()\n",
    "y_true, y_pred = y_test, clf.predict(X_test)\n",
    "print(classification_report(y_true, y_pred))\n",
    "print()"
   ]
  },
  {
   "cell_type": "code",
   "execution_count": 22,
   "metadata": {
    "collapsed": true
   },
   "outputs": [],
   "source": [
    "scores = clf.cv_results_['mean_test_score']"
   ]
  },
  {
   "cell_type": "code",
   "execution_count": 23,
   "metadata": {},
   "outputs": [
    {
     "data": {
      "text/plain": [
       "array([ 0.50026667,  0.50026667,  0.50026667,  0.50026667,  0.50026667,\n",
       "        0.55013333,  0.66666667,  0.636     ,  0.524     ,  0.50026667,\n",
       "        0.50026667,  0.50026667,  0.50026667,  0.50026667,  0.50026667,\n",
       "        0.64666667,  0.69066667,  0.6832    ,  0.5272    ,  0.50026667,\n",
       "        0.50026667,  0.50026667,  0.50026667,  0.50026667,  0.59093333,\n",
       "        0.6848    ,  0.7056    ,  0.70826667,  0.55866667,  0.50026667,\n",
       "        0.50026667,  0.50026667,  0.50026667,  0.50026667,  0.6552    ,\n",
       "        0.70053333,  0.70906667,  0.71413333,  0.59546667,  0.50373333,\n",
       "        0.50026667,  0.50026667,  0.50026667,  0.59573333,  0.692     ,\n",
       "        0.70453333,  0.70826667,  0.6952    ,  0.59466667,  0.50373333,\n",
       "        0.50026667,  0.50026667,  0.50026667,  0.6568    ,  0.69733333,\n",
       "        0.70346667,  0.7008    ,  0.6872    ,  0.59466667,  0.50373333,\n",
       "        0.50026667,  0.50026667,  0.59626667,  0.69146667,  0.70266667,\n",
       "        0.70186667,  0.69813333,  0.68026667,  0.59466667,  0.50373333,\n",
       "        0.50026667,  0.50026667,  0.6576    ,  0.7       ,  0.70133333,\n",
       "        0.69893333,  0.68506667,  0.66933333,  0.59466667,  0.50373333,\n",
       "        0.50026667,  0.59653333,  0.69173333,  0.7024    ,  0.6984    ,\n",
       "        0.70053333,  0.6728    ,  0.66613333,  0.59466667,  0.50373333,\n",
       "        0.50026667,  0.6576    ,  0.70026667,  0.7008    ,  0.70053333,\n",
       "        0.6984    ,  0.65946667,  0.66613333,  0.59466667,  0.50373333])"
      ]
     },
     "execution_count": 23,
     "metadata": {},
     "output_type": "execute_result"
    }
   ],
   "source": [
    "scores"
   ]
  },
  {
   "cell_type": "code",
   "execution_count": 28,
   "metadata": {
    "scrolled": false
   },
   "outputs": [
    {
     "data": {
      "image/png": "[encoded data removed]",
      "text/plain": [
       "<matplotlib.figure.Figure at 0x7f0bb0bc6940>"
      ]
     },
     "metadata": {},
     "output_type": "display_data"
    }
   ],
   "source": [
    "import matplotlib.pyplot as plt\n",
    "from matplotlib.colors import Normalize\n",
    "\n",
    "# Utility function to move the midpoint of a colormap to be around\n",
    "# the values of interest.\n",
    "\n",
    "class MidpointNormalize(Normalize):\n",
    "\n",
    "    def __init__(self, vmin=None, vmax=None, midpoint=None, clip=False):\n",
    "        self.midpoint = midpoint\n",
    "        Normalize.__init__(self, vmin, vmax, clip)\n",
    "\n",
    "    def __call__(self, value, clip=None):\n",
    "        x, y = [self.vmin, self.midpoint, self.vmax], [0, 0.5, 1]\n",
    "        return np.ma.masked_array(np.interp(value, x, y))\n",
    "\n",
    "scores = clf.cv_results_['mean_test_score'].reshape(len(C_range), len(gamma_range))\n",
    "\n",
    "plt.figure(figsize=(12,10))\n",
    "plt.subplots_adjust(left=.2, right=0.95, bottom=0.15, top=0.95)\n",
    "plt.imshow(scores, interpolation='nearest', cmap=plt.cm.hot, norm=MidpointNormalize(vmin=0.2, midpoint=0.92))\n",
    "plt.xlabel('gamma',fontsize=20)\n",
    "plt.ylabel('C', fontsize=20)\n",
    "plt.colorbar()\n",
    "plt.xticks(np.arange(len(gamma_range)), gamma_range, rotation=45)\n",
    "plt.yticks(np.arange(len(C_range)), C_range)\n",
    "plt.title('Validation accuracy', fontsize=23)\n",
    "plt.savefig(\"Boh\")\n",
    "plt.show()"
   ]
  },
  {
   "cell_type": "code",
   "execution_count": null,
   "metadata": {
    "collapsed": true
   },
   "outputs": [],
   "source": []
  }
 ],
 "metadata": {
  "kernelspec": {
   "display_name": "Python 3",
   "language": "python",
   "name": "python3"
  },
  "language_info": {
   "codemirror_mode": {
    "name": "ipython",
    "version": 3
   },
   "file_extension": ".py",
   "mimetype": "text/x-python",
   "name": "python",
   "nbconvert_exporter": "python",
   "pygments_lexer": "ipython3",
   "version": "3.6.1"
  },
  "widgets": {
   "state": {},
   "version": "1.1.1"
  }
 },
 "nbformat": 4,
 "nbformat_minor": 1
}
