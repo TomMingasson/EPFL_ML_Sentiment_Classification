{
 "cells": [
  {
   "cell_type": "markdown",
   "metadata": {},
   "source": [
    "# Tempt with PCA"
   ]
  },
  {
   "cell_type": "code",
   "execution_count": 24,
   "metadata": {},
   "outputs": [
    {
     "name": "stdout",
     "output_type": "stream",
     "text": [
      "The autoreload extension is already loaded. To reload it, use:\n",
      "  %reload_ext autoreload\n"
     ]
    }
   ],
   "source": [
    "%matplotlib inline\n",
    "%load_ext autoreload\n",
    "%autoreload 2\n",
    "\n",
    "# change path if necessary\n",
    "#import sys\n",
    "#my_path = r'Scrivania/Machine_Learning/Project_2/Project2'\n",
    "#sys.path.insert(0,my_path + r'/code/ilaria')\n",
    "\n",
    "# imports\n",
    "import numpy as np \n",
    "import matplotlib.pyplot as plt\n",
    "import pickle\n"
   ]
  },
  {
   "cell_type": "code",
   "execution_count": 25,
   "metadata": {
    "collapsed": true
   },
   "outputs": [],
   "source": [
    "%%bash\n",
    "chmod u+x ./build_vocab.sh\n",
    "chmod u+x ./cut_vocab.sh"
   ]
  },
  {
   "cell_type": "code",
   "execution_count": 26,
   "metadata": {},
   "outputs": [
    {
     "name": "stdout",
     "output_type": "stream",
     "text": [
      "pickle_vocab.py executed\n",
      "10000\n",
      "20000\n",
      "30000\n",
      "40000\n",
      "50000\n",
      "60000\n",
      "70000\n",
      "80000\n",
      "90000\n",
      "100000\n",
      "110000\n",
      "120000\n",
      "130000\n",
      "140000\n",
      "150000\n",
      "160000\n",
      "170000\n",
      "180000\n",
      "190000\n",
      "200000\n",
      "summing duplicates ... (this can take a while)\n",
      "summing duplicates FINISHED !\n"
     ]
    }
   ],
   "source": [
    "from pickle_vocab import main as pickle_vocab\n",
    "from cooc import main as cooc\n",
    "\n",
    "os.system('build_vocab.sh')\n",
    "os.system('cut_vocab.sh')\n",
    "\n",
    "pickle_vocab()\n",
    "cooc()# cooccurrence matrix"
   ]
  },
  {
   "cell_type": "code",
   "execution_count": 27,
   "metadata": {},
   "outputs": [
    {
     "name": "stdout",
     "output_type": "stream",
     "text": [
      "loading cooccurrence matrix\n",
      "6546685 nonzero entries\n",
      "using nmax = 100 , cooc.max() = 207302\n",
      "initializing embeddings\n",
      "epoch 0\n",
      "epoch 1\n",
      "epoch 2\n",
      "epoch 3\n",
      "epoch 4\n",
      "epoch 5\n",
      "epoch 6\n",
      "epoch 7\n",
      "epoch 8\n",
      "epoch 9\n"
     ]
    }
   ],
   "source": [
    "from glove_solution import main as glove\n",
    "\n",
    "glove()\n"
   ]
  },
  {
   "cell_type": "code",
   "execution_count": 28,
   "metadata": {},
   "outputs": [
    {
     "name": "stdout",
     "output_type": "stream",
     "text": [
      "(21750, 25)\n"
     ]
    }
   ],
   "source": [
    "X = np.load('embeddings.npy')\n",
    "print(X.shape)"
   ]
  },
  {
   "cell_type": "code",
   "execution_count": 29,
   "metadata": {
    "collapsed": true
   },
   "outputs": [],
   "source": [
    "with open('vocab.pkl', 'rb') as f:\n",
    "    vocab = pickle.load(f)"
   ]
  },
  {
   "cell_type": "code",
   "execution_count": 30,
   "metadata": {
    "collapsed": true
   },
   "outputs": [],
   "source": [
    "# build positive tweet feature set\n",
    "X_pos = []\n",
    "\n",
    "with open('train_pos.txt') as f:\n",
    "    \n",
    "    for line in f:\n",
    "        \n",
    "        tweet = line.lstrip().split()\n",
    "        tweet = ' '.join([word for word in tweet if word not in remove_list])\n",
    "\n",
    "        X_tweet = []\n",
    "        for w, word in enumerate(tweet.split()):\n",
    "\n",
    "            if word in vocab:\n",
    "                X_tweet.append(X[vocab.get(word),:])\n",
    "                \n",
    "        if X_tweet:\n",
    "            X_pos.append(list(np.mean(X_tweet, 0)))\n",
    "        \n",
    "    X_pos = np.array(X_pos)"
   ]
  },
  {
   "cell_type": "code",
   "execution_count": 31,
   "metadata": {
    "collapsed": true
   },
   "outputs": [],
   "source": [
    "# build negative tweet feature set\n",
    "X_neg = []\n",
    "\n",
    "with open('train_neg.txt') as f:\n",
    "    \n",
    "    for line in f:\n",
    "        \n",
    "        tweet = line.lstrip().split()\n",
    "        tweet = ' '.join([word for word in tweet if word not in remove_list])\n",
    "\n",
    "        X_tweet = []\n",
    "        for w, word in enumerate(tweet.split()):\n",
    "\n",
    "            if word in vocab:\n",
    "                X_tweet.append(X[vocab.get(word),:])\n",
    "                \n",
    "        if X_tweet:\n",
    "            X_neg.append(list(np.mean(X_tweet, 0)))\n",
    "        \n",
    "    X_neg = np.array(X_neg)     "
   ]
  },
  {
   "cell_type": "code",
   "execution_count": 32,
   "metadata": {
    "collapsed": true
   },
   "outputs": [],
   "source": [
    "y_pos = np.ones(X_pos.shape[0])\n",
    "y_neg = -np.ones(X_neg.shape[0])"
   ]
  },
  {
   "cell_type": "code",
   "execution_count": 33,
   "metadata": {},
   "outputs": [
    {
     "name": "stdout",
     "output_type": "stream",
     "text": [
      "(99952, 25)\n",
      "(99989, 25)\n"
     ]
    }
   ],
   "source": [
    "print(X_pos.shape)\n",
    "print(X_neg.shape)"
   ]
  },
  {
   "cell_type": "code",
   "execution_count": 34,
   "metadata": {},
   "outputs": [
    {
     "data": {
      "text/plain": [
       "(199941, 25)"
      ]
     },
     "execution_count": 34,
     "metadata": {},
     "output_type": "execute_result"
    }
   ],
   "source": [
    "X_pos_neg = np.concatenate([X_pos, X_neg])\n",
    "y_pos_neg = np.concatenate([y_pos, y_neg])\n",
    "\n",
    "X_pos_neg.shape"
   ]
  },
  {
   "cell_type": "markdown",
   "metadata": {},
   "source": [
    "# Training and testing set"
   ]
  },
  {
   "cell_type": "code",
   "execution_count": 35,
   "metadata": {
    "collapsed": true
   },
   "outputs": [],
   "source": [
    "ind = np.arange(y_pos_neg.shape[0])\n",
    "np.random.shuffle(ind)\n",
    "\n",
    "r = 0.7\n",
    "ir = round(r*X_pos_neg.shape[0])\n",
    "\n",
    "X_tr = X_pos_neg[ind[:ir],:]\n",
    "X_te = X_pos_neg[ind[ir:],:]\n",
    "y_tr = y_pos_neg[ind[:ir]]\n",
    "y_te = y_pos_neg[ind[ir:]]\n",
    "\n",
    "\n",
    "n_samples, n_features = np.shape(X_pos_neg)"
   ]
  },
  {
   "cell_type": "markdown",
   "metadata": {},
   "source": [
    "# PCA"
   ]
  },
  {
   "cell_type": "code",
   "execution_count": 36,
   "metadata": {
    "collapsed": true
   },
   "outputs": [],
   "source": [
    "from sklearn.decomposition import PCA\n",
    "from sklearn import preprocessing"
   ]
  },
  {
   "cell_type": "code",
   "execution_count": 37,
   "metadata": {
    "collapsed": true
   },
   "outputs": [],
   "source": [
    "std_scale = preprocessing.StandardScaler().fit(X_pos_neg)\n",
    "X_pos_neg_norm = std_scale.transform(X_pos_neg)\n",
    "\n",
    "pca = PCA(n_components=min(n_samples, n_features))"
   ]
  },
  {
   "cell_type": "code",
   "execution_count": null,
   "metadata": {},
   "outputs": [
    {
     "name": "stdout",
     "output_type": "stream",
     "text": [
      "(199941, 25)\n",
      "(199941, 25)\n"
     ]
    }
   ],
   "source": [
    "pca.fit(X_pos_neg_norm)\n",
    "Xposneg_PCA=pca.transform(X_pos_neg_norm)\n",
    "\n",
    "print(X_pos_neg.shape)\n",
    "print(Xposneg_PCA.shape)"
   ]
  },
  {
   "cell_type": "markdown",
   "metadata": {},
   "source": [
    "# SVM"
   ]
  },
  {
   "cell_type": "code",
   "execution_count": null,
   "metadata": {
    "collapsed": true
   },
   "outputs": [],
   "source": [
    "from sklearn.svm import SVC\n",
    "\n",
    "clf = SVC()\n",
    "clf.fit(Xposneg_PCA, y_pos_neg) "
   ]
  },
  {
   "cell_type": "markdown",
   "metadata": {},
   "source": [
    "# Submission"
   ]
  },
  {
   "cell_type": "code",
   "execution_count": null,
   "metadata": {
    "collapsed": true
   },
   "outputs": [],
   "source": [
    "X_test = []\n",
    "ids_test = []\n",
    "\n",
    "with open('test_data.txt') as f:\n",
    "    \n",
    "    for idx, line in enumerate(f):\n",
    "        #print(line)\n",
    "        id_ = line.lstrip().split(',')[0]\n",
    "        ids_test.append(id_)\n",
    "        tweet = line.lstrip().split(',')[1:]\n",
    "        #print(id_)\n",
    "        #print(tweet)\n",
    "        tweet = ' '.join([word for word in tweet if word not in remove_list])\n",
    "\n",
    "        X_tweet = []\n",
    "        for w, word in enumerate(tweet.split()):\n",
    "\n",
    "            if word in vocab:\n",
    "                X_tweet.append(X[vocab.get(word),:])\n",
    "                \n",
    "        if X_tweet:\n",
    "            X_test.append(list(np.mean(X_tweet, 0)))\n",
    "        else:\n",
    "            print(tweet)\n",
    "            print(line)\n",
    "            X_test.append(np.random.rand(20))    \n",
    "            \n",
    "        \n",
    "print(len(X_test))        \n",
    "X_test = np.array(X_test)\n",
    "ids_test = np.array(ids_test)"
   ]
  },
  {
   "cell_type": "code",
   "execution_count": null,
   "metadata": {
    "collapsed": true
   },
   "outputs": [],
   "source": [
    "X_test= std_scale.transform(X_test)\n",
    "\n",
    "pca.fit(X_test)\n",
    "X_test=pca.transform(X_test)\n",
    "\n",
    "y_pred = clf.predict(X_test)"
   ]
  },
  {
   "cell_type": "code",
   "execution_count": null,
   "metadata": {
    "collapsed": true
   },
   "outputs": [],
   "source": [
    "from create_csv_submission import create_csv_submission\n",
    "\n",
    "name = 'sub512'\n",
    "create_csv_submission(ids_test, y_pred, name)"
   ]
  },
  {
   "cell_type": "code",
   "execution_count": null,
   "metadata": {
    "collapsed": true
   },
   "outputs": [],
   "source": []
  }
 ],
 "metadata": {
  "kernelspec": {
   "display_name": "Python 3",
   "language": "python",
   "name": "python3"
  },
  "language_info": {
   "codemirror_mode": {
    "name": "ipython",
    "version": 3
   },
   "file_extension": ".py",
   "mimetype": "text/x-python",
   "name": "python",
   "nbconvert_exporter": "python",
   "pygments_lexer": "ipython3",
   "version": "3.6.1"
  }
 },
 "nbformat": 4,
 "nbformat_minor": 2
}
