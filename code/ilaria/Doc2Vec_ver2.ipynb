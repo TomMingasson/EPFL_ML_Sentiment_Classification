{
 "cells": [
  {
   "cell_type": "code",
   "execution_count": 1,
   "metadata": {
    "collapsed": true
   },
   "outputs": [],
   "source": [
    "%matplotlib inline\n",
    "%load_ext autoreload\n",
    "%autoreload 2\n",
    "\n",
    "# imports\n",
    "import numpy as np \n",
    "import matplotlib.pyplot as plt\n",
    "import pickle"
   ]
  },
  {
   "cell_type": "code",
   "execution_count": 2,
   "metadata": {
    "collapsed": true
   },
   "outputs": [],
   "source": [
    "import os\n",
    "os.chdir(r'/home/ilaria/Scrivania/Machine_Learning/Project_2/Project2/data/twitter_datasets_epfl/unique/short')\n"
   ]
  },
  {
   "cell_type": "markdown",
   "metadata": {},
   "source": [
    "# Doc2Vec by itself (build its vocab with Word2Vec)"
   ]
  },
  {
   "cell_type": "markdown",
   "metadata": {},
   "source": [
    "Building the Doc2Vec model following the example: https://github.com/bariscimen/doc2vec-sentiment/blob/master/run.ipynb"
   ]
  },
  {
   "cell_type": "code",
   "execution_count": 3,
   "metadata": {
    "collapsed": true
   },
   "outputs": [],
   "source": [
    "from random import shuffle\n",
    "\n",
    "# gensim modules\n",
    "import gensim\n",
    "from gensim import utils\n",
    "from gensim.models.doc2vec import TaggedDocument\n",
    "from gensim.models import Doc2Vec\n",
    "\n",
    "import multiprocessing\n",
    "\n",
    "cores = multiprocessing.cpu_count()\n",
    "assert gensim.models.doc2vec.FAST_VERSION > -1, \"This will be painfully slow otherwise\"\n"
   ]
  },
  {
   "cell_type": "code",
   "execution_count": 4,
   "metadata": {
    "collapsed": true
   },
   "outputs": [],
   "source": [
    "class TaggedLineSentence(object):\n",
    "    def __init__(self, sources):\n",
    "        self.sources = sources\n",
    "        \n",
    "        flipped = {}\n",
    "        \n",
    "        # make sure that keys are unique\n",
    "        for key, value in sources.items():\n",
    "            if value not in flipped:\n",
    "                flipped[value] = [key]\n",
    "            else:\n",
    "                raise Exception('Non-unique prefix encountered')\n",
    "    \n",
    "    def __iter__(self):\n",
    "        for source, prefix in self.sources.items():\n",
    "            with utils.smart_open(source) as fin:\n",
    "                for item_no, line in enumerate(fin):\n",
    "                    yield TaggedDocument(words=utils.to_unicode(line).split(), tags=[prefix + '_%s' % item_no])\n",
    "    \n",
    "    def to_array(self):\n",
    "        self.sentences = []\n",
    "        for source, prefix in self.sources.items():\n",
    "            with utils.smart_open(source) as fin:\n",
    "                for item_no, line in enumerate(fin):\n",
    "                    self.sentences.append(TaggedDocument(words=utils.to_unicode(line).split(), tags=[prefix + '_%s' % item_no]))\n",
    "        return self.sentences\n",
    "    \n",
    "    def shuffle_sentences(self):\n",
    "        return shuffle(self.sentences)"
   ]
  },
  {
   "cell_type": "code",
   "execution_count": 5,
   "metadata": {
    "collapsed": true
   },
   "outputs": [],
   "source": [
    "sources = {'test_data_unique_no_id.txt':'TEST', 'train_neg_unique.txt':'TRAIN_NEG', 'train_pos_unique.txt':'TRAIN_POS', 'all_short.txt':'TRAIN_UNS'}\n",
    "\n",
    "sentences = TaggedLineSentence(sources)"
   ]
  },
  {
   "cell_type": "code",
   "execution_count": 6,
   "metadata": {
    "collapsed": true
   },
   "outputs": [],
   "source": [
    "#setting hyperparameters\n",
    "vector_size = 25\n",
    "window_size = 10\n",
    "min_count = 5\n",
    "sampling_threshold = 1e-5\n",
    "negative_size = 5\n",
    "#train_epoch = 100\n",
    "dm = 0 #0 = dbow; 1 = dmpv\n",
    "\n",
    "model = Doc2Vec(size=vector_size, min_count=min_count, sample=sampling_threshold, workers=cores, hs=0,dm=dm,negative=negative_size, dbow_words=1, dm_concat=1)#, iter=train_epoch)"
   ]
  },
  {
   "cell_type": "code",
   "execution_count": 7,
   "metadata": {
    "collapsed": true
   },
   "outputs": [],
   "source": [
    "model.build_vocab(sentences.to_array())"
   ]
  },
  {
   "cell_type": "code",
   "execution_count": 8,
   "metadata": {},
   "outputs": [
    {
     "name": "stdout",
     "output_type": "stream",
     "text": [
      "epoch :  1\n",
      "epoch :  2\n",
      "epoch :  3\n",
      "epoch :  4\n",
      "epoch :  5\n",
      "epoch :  6\n",
      "epoch :  7\n",
      "epoch :  8\n",
      "epoch :  9\n",
      "epoch :  10\n"
     ]
    }
   ],
   "source": [
    "for epoch in range(10):\n",
    "    sentences.shuffle_sentences()\n",
    "    model.train(sentences.sentences, total_examples=model.corpus_count, epochs=model.iter)\n",
    "    print('epoch : ', epoch+1)"
   ]
  },
  {
   "cell_type": "code",
   "execution_count": 46,
   "metadata": {
    "collapsed": true
   },
   "outputs": [],
   "source": [
    "fname_n = 'train_neg_unique.txt'\n",
    "fname_p = 'train_pos_unique.txt'\n",
    "fname = 'all_short.txt'\n",
    "num_lines_n = sum(1 for line in open(fname_n))\n",
    "num_lines_p = sum(1 for line in open(fname_p))\n",
    "num_lines = num_lines_n+num_lines_p\n",
    "\n",
    "train_arrays = np.zeros((num_lines, 25))\n",
    "train_labels = np.zeros(num_lines)\n",
    "\n",
    "for i in range(num_lines_p):\n",
    "    prefix_train_pos = 'TRAIN_POS_' + str(i)\n",
    "    train_arrays[i] = model.docvecs[prefix_train_pos]\n",
    "    train_labels[i] = 1\n",
    "\n",
    "    \n",
    "for i in range(num_lines_n):\n",
    "    prefix_train_neg = 'TRAIN_NEG_' + str(i)\n",
    "    train_arrays[i+num_lines_p] = model.docvecs[prefix_train_neg]\n",
    "    train_labels[i+num_lines_p] = 0"
   ]
  },
  {
   "cell_type": "code",
   "execution_count": 3,
   "metadata": {},
   "outputs": [
    {
     "name": "stdout",
     "output_type": "stream",
     "text": [
      "181321\n"
     ]
    }
   ],
   "source": [
    "fname_n = 'train_neg_unique.txt'\n",
    "fname_p = 'train_pos_unique.txt'\n",
    "fname = 'all_short.txt'\n",
    "num_lines_n = sum(1 for line in open(fname_n))\n",
    "num_lines_p = sum(1 for line in open(fname_p))\n",
    "num_lines = num_lines_n+num_lines_p\n",
    "\n",
    "train_arrays = np.zeros((num_lines, 25))\n",
    "train_labels = np.zeros(num_lines)\n",
    "print(num_lines)"
   ]
  },
  {
   "cell_type": "code",
   "execution_count": 47,
   "metadata": {},
   "outputs": [
    {
     "data": {
      "text/plain": [
       "array([[ 0.07024649,  0.04121226,  0.09486401, ..., -0.366135  ,\n",
       "         0.22673237,  0.293228  ],\n",
       "       [ 0.20097168,  0.09412365,  0.16070902, ..., -0.02224808,\n",
       "        -0.00505873,  0.30946195],\n",
       "       [-0.04262437, -0.21278168,  0.26415163, ...,  0.09859272,\n",
       "        -0.15508561,  0.2746335 ],\n",
       "       ..., \n",
       "       [ 0.36948472, -0.26978615,  0.15946236, ..., -0.79108208,\n",
       "        -0.94520468,  0.6064015 ],\n",
       "       [-0.04055488,  0.10100127,  0.04305083, ...,  0.00284125,\n",
       "        -0.05670581,  0.03889457],\n",
       "       [-0.11072072,  0.22389984,  0.03755175, ..., -0.14977589,\n",
       "        -0.03372359, -0.07821357]])"
      ]
     },
     "execution_count": 47,
     "metadata": {},
     "output_type": "execute_result"
    }
   ],
   "source": [
    "train_arrays"
   ]
  },
  {
   "cell_type": "markdown",
   "metadata": {},
   "source": [
    "# Build the classifier with SVM"
   ]
  },
  {
   "cell_type": "code",
   "execution_count": 48,
   "metadata": {},
   "outputs": [
    {
     "data": {
      "text/plain": [
       "SVC(C=1.0, cache_size=200, class_weight=None, coef0=0.0,\n",
       "  decision_function_shape='ovr', degree=3, gamma='auto', kernel='rbf',\n",
       "  max_iter=-1, probability=False, random_state=None, shrinking=True,\n",
       "  tol=0.001, verbose=False)"
      ]
     },
     "execution_count": 48,
     "metadata": {},
     "output_type": "execute_result"
    }
   ],
   "source": [
    "from sklearn.svm import SVC\n",
    "\n",
    "clf = SVC()\n",
    "clf.fit(train_arrays, train_labels) "
   ]
  },
  {
   "cell_type": "markdown",
   "metadata": {},
   "source": [
    "# Submission "
   ]
  },
  {
   "cell_type": "code",
   "execution_count": 52,
   "metadata": {
    "collapsed": true
   },
   "outputs": [],
   "source": [
    "# Reading the ids from the file \n",
    "ids_test = np.zeros(10000)\n",
    "\n",
    "with open('test_data_unique.txt', 'r', encoding=\"utf-8-sig\") as f:\n",
    "    i = 0\n",
    "    for line in f:\n",
    "        id_ = line.lstrip().split(',')[0]\n",
    "        ids_test[i] = id_\n",
    "        i = i+1\n",
    "        \n",
    "test_arrays = np.zeros((i, 25))\n",
    "        \n",
    "# Build the X matrix to compute the prediction with the testing\n",
    "for j in range(i):\n",
    "    prefix_test = 'TEST_' + str(j)\n",
    "    test_arrays[j] = model.docvecs[prefix_test]\n"
   ]
  },
  {
   "cell_type": "code",
   "execution_count": 53,
   "metadata": {},
   "outputs": [
    {
     "name": "stdout",
     "output_type": "stream",
     "text": [
      "(10000, 25)\n",
      "(10000,)\n"
     ]
    }
   ],
   "source": [
    "y_pred = clf.predict(test_arrays)\n",
    "print(test_arrays.shape)\n",
    "print(y_pred.shape)"
   ]
  },
  {
   "cell_type": "code",
   "execution_count": 57,
   "metadata": {
    "collapsed": true
   },
   "outputs": [],
   "source": [
    "os.chdir(r'/home/ilaria/Scrivania/Machine_Learning/Project_2/COMMON')"
   ]
  },
  {
   "cell_type": "code",
   "execution_count": 58,
   "metadata": {
    "collapsed": true
   },
   "outputs": [],
   "source": [
    "from create_csv_submission import create_csv_submission\n",
    "\n",
    "name = 'sub1'\n",
    "create_csv_submission(ids_test, y_pred, name)"
   ]
  },
  {
   "cell_type": "code",
   "execution_count": null,
   "metadata": {
    "collapsed": true
   },
   "outputs": [],
   "source": []
  }
 ],
 "metadata": {
  "kernelspec": {
   "display_name": "Python 3",
   "language": "python",
   "name": "python3"
  },
  "language_info": {
   "codemirror_mode": {
    "name": "ipython",
    "version": 3
   },
   "file_extension": ".py",
   "mimetype": "text/x-python",
   "name": "python",
   "nbconvert_exporter": "python",
   "pygments_lexer": "ipython3",
   "version": "3.6.1"
  }
 },
 "nbformat": 4,
 "nbformat_minor": 2
}
