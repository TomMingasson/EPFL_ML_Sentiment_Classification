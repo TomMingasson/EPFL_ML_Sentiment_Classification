{
 "cells": [
  {
   "cell_type": "code",
   "execution_count": 1,
   "metadata": {
    "collapsed": true
   },
   "outputs": [],
   "source": [
    "%load_ext autoreload\n",
    "%autoreload 2\n",
    "\n",
    "import numpy as np\n",
    "import os"
   ]
  },
  {
   "cell_type": "code",
   "execution_count": 16,
   "metadata": {
    "collapsed": true
   },
   "outputs": [],
   "source": [
    "def read_vocab(filename):\n",
    "    \n",
    "    dict_ = {}\n",
    "    with open(filename, 'r', encoding='utf-8-sig') as datafile:\n",
    "        for line in datafile:\n",
    "            occurence = line.strip().split()[0]\n",
    "            word = line.strip().split()[1]\n",
    "            dict_[word] = int(occurence)\n",
    "    return dict_"
   ]
  },
  {
   "cell_type": "code",
   "execution_count": 3,
   "metadata": {
    "collapsed": true
   },
   "outputs": [],
   "source": [
    "import os\n",
    "os.chdir(r'D:/Documents/etudes/epfl/MA1/cours/MachineLearning/Project2/data/twitter_datasets_epfl/full/')"
   ]
  },
  {
   "cell_type": "code",
   "execution_count": null,
   "metadata": {
    "collapsed": true
   },
   "outputs": [],
   "source": [
    "#  vocab pos\n",
    "os.system('build_vocab_pos_full.sh')\n",
    "os.system('cut_vocab_pos_full.sh')\n",
    "\n",
    "#  vocab neg\n",
    "os.system('build_vocab_neg_full.sh')\n",
    "os.system('cut_vocab_neg_full.sh')"
   ]
  },
  {
   "cell_type": "code",
   "execution_count": 17,
   "metadata": {
    "collapsed": true
   },
   "outputs": [],
   "source": [
    "# read the vocabs\n",
    "vocab_neg = read_vocab('vocab_neg_full.txt')\n",
    "vocab_pos = read_vocab('vocab_pos_full.txt')"
   ]
  },
  {
   "cell_type": "code",
   "execution_count": 5,
   "metadata": {
    "collapsed": true
   },
   "outputs": [],
   "source": [
    "import operator\n",
    "\n",
    "def extract_most_freq(vocab_dict, max_words=10):\n",
    "    \n",
    "    most_freq_words = []\n",
    "    vocab_list_sorted = sorted(vocab_dict.copy().items(), key=operator.itemgetter(1), reverse = True)\n",
    "\n",
    "    for i in range(max_words):\n",
    "        most_freq_words.append((vocab_list_sorted[i][0], vocab_list_sorted[i][1]))\n",
    "    \n",
    "    return most_freq_words"
   ]
  },
  {
   "cell_type": "code",
   "execution_count": 6,
   "metadata": {},
   "outputs": [
    {
     "name": "stdout",
     "output_type": "stream",
     "text": [
      ".\t751865\n",
      "i\t625066\n",
      "<user>\t557268\n",
      "(\t461668\n",
      "<number>\t420633\n",
      "<repeat>\t414073\n",
      "the\t384681\n",
      "<url>\t359419\n",
      ",\t357807\n",
      "!\t356189\n"
     ]
    }
   ],
   "source": [
    "most_neg = extract_most_freq(vocab_neg, max_words=10)\n",
    "print(\"\\n\".join(\"{}\\t{}\".format(x[0], x[1]) for x in most_neg))"
   ]
  },
  {
   "cell_type": "code",
   "execution_count": 7,
   "metadata": {},
   "outputs": [
    {
     "name": "stdout",
     "output_type": "stream",
     "text": [
      "﻿<user>\t951004\n",
      "!\t585557\n",
      "i\t543778\n",
      ".\t499484\n",
      "you\t386420\n",
      "to\t317352\n",
      ",\t305792\n",
      "the\t297102\n",
      "a\t239967\n",
      "is\t239662\n"
     ]
    }
   ],
   "source": [
    "most_pos = extract_most_freq(vocab_pos, max_words=10)\n",
    "print(\"\\n\".join(\"{}\\t{}\".format(x[0], x[1]) for x in most_pos))"
   ]
  },
  {
   "cell_type": "code",
   "execution_count": 8,
   "metadata": {
    "collapsed": true
   },
   "outputs": [],
   "source": [
    "def word_ratio_neg_pos(vocab_dict_neg, vocab_dict_pos):\n",
    "    \n",
    "    word_ratio = {}\n",
    "\n",
    "    # neg\n",
    "    for word_neg, occu_neg in vocab_dict_neg.items():  \n",
    "        \n",
    "        # if word in both neg and pos vocab\n",
    "        if word_neg in vocab_dict_pos:\n",
    "            \n",
    "            occu_pos = vocab_dict_pos.get(word_neg)\n",
    "            word_ratio[word_neg] = [occu_neg/occu_pos, occu_neg, occu_pos]\n",
    "            \n",
    "    return word_ratio"
   ]
  },
  {
   "cell_type": "code",
   "execution_count": 9,
   "metadata": {
    "collapsed": true
   },
   "outputs": [],
   "source": [
    "freq_min = 100\n",
    "vocab_neg_thr = {k: v for k, v in vocab_neg.copy().items() if v > freq_min}\n",
    "vocab_pos_thr = {k: v for k, v in vocab_pos.copy().items() if v > freq_min}"
   ]
  },
  {
   "cell_type": "code",
   "execution_count": 10,
   "metadata": {
    "collapsed": true
   },
   "outputs": [],
   "source": [
    "word_ratio = word_ratio_neg_pos(vocab_neg_thr, vocab_pos_thr)"
   ]
  },
  {
   "cell_type": "code",
   "execution_count": 19,
   "metadata": {},
   "outputs": [
    {
     "name": "stdout",
     "output_type": "stream",
     "text": [
      "[0.2264985696227796, 6809, 30062]\n",
      "[1.5165902801165565, 207145, 136586]\n",
      "None\n"
     ]
    }
   ],
   "source": [
    "print(word_ratio.get('happy'))\n",
    "print(word_ratio.get('not'))"
   ]
  },
  {
   "cell_type": "code",
   "execution_count": null,
   "metadata": {
    "collapsed": true
   },
   "outputs": [],
   "source": [
    "# build exclusion vocab with stop words\n",
    "\n",
    "ratio_margin = 0.2\n",
    "freq_min = 100\n",
    "stop_vocab = {}\n",
    "for word, values in word_ratio.items():\n",
    "    \n",
    "    ratio = values[0]\n",
    "    occu_neg = values[1]\n",
    "    occu_pos = values[2]\n",
    "    \n",
    "    # remove non discriminant word\n",
    "    if ratio > 1 - ratio_margin and ratio < 1 + ratio_margin:\n",
    "        stop_vocab[word] = values\n",
    "        \n",
    "    # remove unfrequent word\n",
    "    if occu_neg < freq_min and occu_pos < freq_min:\n",
    "        stop_vocab[word] = values\n",
    "    \n",
    "print(\"Number of stop words: \", len(stop_vocab))"
   ]
  },
  {
   "cell_type": "code",
   "execution_count": null,
   "metadata": {
    "collapsed": true
   },
   "outputs": [],
   "source": [
    "print(\"\\n\".join(\"{}\\t{}\".format(k,v) for k,v in stop_vocab.items()))"
   ]
  },
  {
   "cell_type": "code",
   "execution_count": null,
   "metadata": {
    "collapsed": true
   },
   "outputs": [],
   "source": [
    "import os\n",
    "os.chdir(r'D:/Documents/etudes/epfl/MA1/cours/MachineLearning/Project2/data/stop_words/')"
   ]
  },
  {
   "cell_type": "code",
   "execution_count": null,
   "metadata": {
    "collapsed": true
   },
   "outputs": [],
   "source": [
    "# write stop word in a text\n",
    "outputfilename = \"stop_word_\" + \"freq_min_\" + str(freq_min) + \"_ratio_marg_\" + str(ratio_margin) + \".txt\"\n",
    "with open(outputfilename, 'w', encoding='utf-8-sig') as outfile:\n",
    "    for word, value in stop_vocab.items():\n",
    "        outfile.write(word)   \n",
    "        outfile.write(\"\\n\")      \n",
    "outfile.close()"
   ]
  }
 ],
 "metadata": {
  "kernelspec": {
   "display_name": "Python 3",
   "language": "python",
   "name": "python3"
  },
  "language_info": {
   "codemirror_mode": {
    "name": "ipython",
    "version": 3
   },
   "file_extension": ".py",
   "mimetype": "text/x-python",
   "name": "python",
   "nbconvert_exporter": "python",
   "pygments_lexer": "ipython3",
   "version": "3.6.1"
  }
 },
 "nbformat": 4,
 "nbformat_minor": 2
}
