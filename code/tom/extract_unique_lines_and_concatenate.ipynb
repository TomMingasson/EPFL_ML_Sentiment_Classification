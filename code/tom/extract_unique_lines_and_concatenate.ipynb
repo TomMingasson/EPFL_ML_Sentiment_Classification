{
 "cells": [
  {
   "cell_type": "code",
   "execution_count": 1,
   "metadata": {},
   "outputs": [],
   "source": [
    "%matplotlib inline\n",
    "%load_ext autoreload\n",
    "%autoreload 2"
   ]
  },
  {
   "cell_type": "code",
   "execution_count": 2,
   "metadata": {
    "collapsed": true
   },
   "outputs": [],
   "source": [
    "def write_unique_from_txt(infilename, outfilename):\n",
    "    \n",
    "    # holds lines already seen\n",
    "    lines_seen = set() \n",
    "    outfile = open(outfilename, \"w\", encoding='utf-8-sig')\n",
    "    for line in open(infilename, \"r\", encoding='utf-8-sig'):\n",
    "        if line not in lines_seen: # not a duplicate\n",
    "            outfile.write(line)\n",
    "            lines_seen.add(line)\n",
    "    outfile.close()"
   ]
  },
  {
   "cell_type": "markdown",
   "metadata": {},
   "source": [
    "# FULL"
   ]
  },
  {
   "cell_type": "code",
   "execution_count": 3,
   "metadata": {
    "collapsed": true
   },
   "outputs": [],
   "source": [
    "import os \n",
    "os.chdir(r'D:\\Documents\\etudes\\epfl\\MA1\\cours\\MachineLearning\\Project2\\data\\twitter_datasets_epfl\\unique\\full')"
   ]
  },
  {
   "cell_type": "code",
   "execution_count": 4,
   "metadata": {
    "collapsed": true
   },
   "outputs": [],
   "source": [
    "# test data\n",
    "infilename = 'test_data.txt'\n",
    "outfilename = infilename[:-4] + '_unique.txt'\n",
    "write_unique_from_txt(infilename, outfilename)"
   ]
  },
  {
   "cell_type": "code",
   "execution_count": 5,
   "metadata": {
    "collapsed": true
   },
   "outputs": [],
   "source": [
    "# remove id in 'test_data.txt'\n",
    "outfile = open('test_data_unique_no_id.txt', \"w\", encoding='utf-8-sig')\n",
    "with open('test_data_unique.txt', 'r', encoding='utf-8-sig') as f:\n",
    "    for line in f:\n",
    "        tweet = line.split(',')[1:]\n",
    "        outfile.write(''.join(tweet))      \n",
    "outfile.close()"
   ]
  },
  {
   "cell_type": "code",
   "execution_count": 6,
   "metadata": {
    "collapsed": true
   },
   "outputs": [],
   "source": [
    "# train_neg_full\n",
    "infilename = 'train_neg_full.txt'\n",
    "outfilename = infilename[:-4] + '_unique.txt'\n",
    "write_unique_from_txt(infilename, outfilename)"
   ]
  },
  {
   "cell_type": "code",
   "execution_count": 7,
   "metadata": {
    "collapsed": true
   },
   "outputs": [],
   "source": [
    "# train_pos_full\n",
    "infilename = 'train_pos_full.txt'\n",
    "outfilename = infilename[:-4] + '_unique.txt'\n",
    "write_unique_from_txt(infilename, outfilename)"
   ]
  },
  {
   "cell_type": "code",
   "execution_count": 8,
   "metadata": {
    "collapsed": true
   },
   "outputs": [],
   "source": [
    "# concatenate \n",
    "filenames = ['train_pos_full_unique.txt', 'train_neg_full_unique.txt', 'test_data_unique_no_id.txt']\n",
    "with open('all_full.txt', \"w\", encoding='utf-8-sig') as outfile:\n",
    "    for fname in filenames:\n",
    "        with open(fname, 'r', encoding='utf-8-sig') as infile:\n",
    "            for line in infile:\n",
    "                outfile.write(line)\n",
    "        infile.close()\n",
    "outfile.close()"
   ]
  },
  {
   "cell_type": "markdown",
   "metadata": {},
   "source": [
    "# Short"
   ]
  },
  {
   "cell_type": "code",
   "execution_count": 9,
   "metadata": {
    "collapsed": true
   },
   "outputs": [],
   "source": [
    "import os \n",
    "os.chdir(r'D:\\Documents\\etudes\\epfl\\MA1\\cours\\MachineLearning\\Project2\\data\\twitter_datasets_epfl\\unique\\short')"
   ]
  },
  {
   "cell_type": "code",
   "execution_count": 10,
   "metadata": {
    "collapsed": true
   },
   "outputs": [],
   "source": [
    "# test data\n",
    "infilename = 'test_data.txt'\n",
    "outfilename = infilename[:-4] + '_unique.txt'\n",
    "write_unique_from_txt(infilename, outfilename)"
   ]
  },
  {
   "cell_type": "code",
   "execution_count": 11,
   "metadata": {
    "collapsed": true
   },
   "outputs": [],
   "source": [
    "# remove id in 'test_data.txt'\n",
    "outfile = open('test_data_unique_no_id.txt', \"w\", encoding='utf-8-sig')\n",
    "with open('test_data_unique.txt', 'r', encoding='utf-8-sig') as f:\n",
    "    for line in f:\n",
    "        tweet = line.split(',')[1:]\n",
    "        outfile.write(''.join(tweet))      \n"
   ]
  },
  {
   "cell_type": "code",
   "execution_count": 12,
   "metadata": {
    "collapsed": true
   },
   "outputs": [],
   "source": [
    "# train_pos\n",
    "infilename = 'train_pos.txt'\n",
    "outfilename = infilename[:-4] + '_unique.txt'\n",
    "write_unique_from_txt(infilename, outfilename)"
   ]
  },
  {
   "cell_type": "code",
   "execution_count": 13,
   "metadata": {
    "collapsed": true
   },
   "outputs": [],
   "source": [
    "# train_neg\n",
    "infilename = 'train_neg.txt'\n",
    "outfilename = infilename[:-4] + '_unique.txt'\n",
    "write_unique_from_txt(infilename, outfilename)"
   ]
  },
  {
   "cell_type": "code",
   "execution_count": 14,
   "metadata": {
    "collapsed": true
   },
   "outputs": [],
   "source": [
    "# concatenate \n",
    "filenames = ['train_pos_unique.txt', 'train_neg_unique.txt', 'test_data_unique_no_id.txt']\n",
    "with open('all_short.txt', \"w\", encoding='utf-8-sig') as outfile:\n",
    "    for fname in filenames:\n",
    "        with open(fname, 'r', encoding='utf-8-sig') as infile:\n",
    "            for line in infile:\n",
    "                outfile.write(line)\n",
    "        infile.close()\n",
    "outfile.close()"
   ]
  },
  {
   "cell_type": "code",
   "execution_count": null,
   "metadata": {
    "collapsed": true
   },
   "outputs": [],
   "source": []
  }
 ],
 "metadata": {
  "kernelspec": {
   "display_name": "Python 3",
   "language": "python",
   "name": "python3"
  },
  "language_info": {
   "codemirror_mode": {
    "name": "ipython",
    "version": 3
   },
   "file_extension": ".py",
   "mimetype": "text/x-python",
   "name": "python",
   "nbconvert_exporter": "python",
   "pygments_lexer": "ipython3",
   "version": "3.6.1"
  }
 },
 "nbformat": 4,
 "nbformat_minor": 2
}
