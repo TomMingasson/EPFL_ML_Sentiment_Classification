{
 "cells": [
  {
   "cell_type": "code",
   "execution_count": 4,
   "metadata": {},
   "outputs": [
    {
     "name": "stdout",
     "output_type": "stream",
     "text": [
      "The autoreload extension is already loaded. To reload it, use:\n",
      "  %reload_ext autoreload\n"
     ]
    }
   ],
   "source": [
    "%matplotlib inline\n",
    "%load_ext autoreload\n",
    "%autoreload 2\n",
    "\n",
    "from glove import Glove\n",
    "from glove import Corpus"
   ]
  },
  {
   "cell_type": "code",
   "execution_count": 30,
   "metadata": {
    "collapsed": true
   },
   "outputs": [],
   "source": [
    "import os\n",
    "os.chdir('D:\\Documents\\etudes\\epfl\\MA1\\cours\\MachineLearning\\Project2\\data\\data_epfl')"
   ]
  },
  {
   "cell_type": "code",
   "execution_count": 27,
   "metadata": {},
   "outputs": [],
   "source": [
    "def read_corpus(filename):\n",
    "\n",
    "    with open(filename, 'r', encoding='utf-8-sig') as datafile:\n",
    "        for line in datafile:\n",
    "            yield line.strip().lower().split(' ')       "
   ]
  },
  {
   "cell_type": "code",
   "execution_count": 28,
   "metadata": {},
   "outputs": [
    {
     "name": "stdout",
     "output_type": "stream",
     "text": [
      "['tresorpack', '6', '(', 'difficulty', '10', 'of', '10', 'object', ':', 'disassemble', 'and', 'reassemble', 'the', 'wooden', 'pieces', 'this', 'beautiful', 'wo', '...', '<url>']\n",
      "['glad', 'i', 'dot', 'have', 'taks', 'tomorrow', '!', '!', '#thankful', '#startho']\n",
      "['1-3', 'vs', 'celtics', 'in', 'the', 'regular', 'season', '=', 'were', 'fucked', 'if', 'we', 'play', 'them', 'in', 'the', 'playoffs']\n"
     ]
    }
   ],
   "source": [
    "# read epfl data sets\n",
    "\n",
    "corpus_train_neg = read_corpus('train_neg.txt')\n",
    "corpus_train_pos = read_corpus('train_pos.txt')\n",
    "corpus_train_neg_full = read_corpus('train_neg_full.txt')\n",
    "corpus_train_pos_full = read_corpus('train_pos_full.txt')\n",
    "corpus_test = read_corpus('train_pos.txt')\n",
    "\n",
    "\n",
    "\n",
    "for word in corpus_data:\n",
    "    print(word)"
   ]
  },
  {
   "cell_type": "code",
   "execution_count": null,
   "metadata": {
    "collapsed": true
   },
   "outputs": [],
   "source": []
  }
 ],
 "metadata": {
  "kernelspec": {
   "display_name": "Python 3",
   "language": "python",
   "name": "python3"
  },
  "language_info": {
   "codemirror_mode": {
    "name": "ipython",
    "version": 3
   },
   "file_extension": ".py",
   "mimetype": "text/x-python",
   "name": "python",
   "nbconvert_exporter": "python",
   "pygments_lexer": "ipython3",
   "version": "3.6.1"
  }
 },
 "nbformat": 4,
 "nbformat_minor": 2
}
