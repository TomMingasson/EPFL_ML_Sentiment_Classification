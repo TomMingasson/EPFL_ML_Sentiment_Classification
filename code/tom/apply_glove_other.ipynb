{
 "cells": [
  {
   "cell_type": "code",
   "execution_count": 14,
   "metadata": {},
   "outputs": [
    {
     "name": "stdout",
     "output_type": "stream",
     "text": [
      "The autoreload extension is already loaded. To reload it, use:\n",
      "  %reload_ext autoreload\n"
     ]
    }
   ],
   "source": [
    "%matplotlib inline\n",
    "%load_ext autoreload\n",
    "%autoreload 2\n",
    "\n",
    "from glove import Corpus\n",
    "from glove import Glove"
   ]
  },
  {
   "cell_type": "code",
   "execution_count": 2,
   "metadata": {
    "collapsed": true,
    "scrolled": true
   },
   "outputs": [],
   "source": [
    "def read_corpus(filename, ind_beg=0):\n",
    "\n",
    "    with open(filename, 'r', encoding='utf-8-sig') as datafile:\n",
    "        for line in datafile:\n",
    "            yield line.lower().strip().split(' ')"
   ]
  },
  {
   "cell_type": "code",
   "execution_count": 3,
   "metadata": {
    "collapsed": true
   },
   "outputs": [],
   "source": [
    "import os\n",
    "os.chdir(r'D:/Documents/etudes/epfl/MA1/cours/MachineLearning/Project2/data/twitter_datasets_epfl/unique/full/')"
   ]
  },
  {
   "cell_type": "code",
   "execution_count": 5,
   "metadata": {
    "scrolled": false
   },
   "outputs": [
    {
     "name": "stdout",
     "output_type": "stream",
     "text": [
      "Dict size: 594112\n",
      "Collocations: 36888353\n"
     ]
    }
   ],
   "source": [
    "# build the corpus (dictionary and the cooccurrence matrix)\n",
    "filename_corpus = 'all_full.txt'\n",
    "corpus_data = read_corpus(filename_corpus)\n",
    "corpus_model = Corpus()\n",
    "corpus_model.fit(corpus_data, window=15)\n",
    "corpus_model.save('corpus_' + filename_corpus[:-4]+ '.model')"
   ]
  },
  {
   "cell_type": "code",
   "execution_count": 15,
   "metadata": {},
   "outputs": [],
   "source": [
    "# load a corpus\n",
    "corpus_model = Corpus()\n",
    "corpus_model = corpus_model.load('corpus_all_full.model')"
   ]
  },
  {
   "cell_type": "code",
   "execution_count": 16,
   "metadata": {},
   "outputs": [
    {
     "name": "stdout",
     "output_type": "stream",
     "text": [
      "Dict size: 594112\n",
      "Collocations: 36888353\n",
      "296\n",
      "(36888353,)\n"
     ]
    }
   ],
   "source": [
    "print('Dict size: %s' % len(corpus_model.dictionary))\n",
    "print('Collocations: %s' % corpus_model.matrix.nnz)\n",
    "print(corpus_model.dictionary.get('love'))\n",
    "print(corpus_model.matrix.data.shape)"
   ]
  },
  {
   "cell_type": "code",
   "execution_count": 17,
   "metadata": {},
   "outputs": [
    {
     "name": "stdout",
     "output_type": "stream",
     "text": [
      "Performing 25 training epochs with 2 threads\n",
      "Epoch 0\n",
      "Epoch 1\n",
      "Epoch 2\n",
      "Epoch 3\n",
      "Epoch 4\n",
      "Epoch 5\n",
      "Epoch 6\n",
      "Epoch 7\n",
      "Epoch 8\n",
      "Epoch 9\n",
      "Epoch 10\n",
      "Epoch 11\n",
      "Epoch 12\n",
      "Epoch 13\n",
      "Epoch 14\n",
      "Epoch 15\n",
      "Epoch 16\n",
      "Epoch 17\n",
      "Epoch 18\n",
      "Epoch 19\n",
      "Epoch 20\n",
      "Epoch 21\n",
      "Epoch 22\n",
      "Epoch 23\n",
      "Epoch 24\n"
     ]
    }
   ],
   "source": [
    "# Training Glove model\n",
    "glove_model = Glove(no_components=100, learning_rate=0.05)\n",
    "glove_model.fit(corpus_model.matrix, epochs=25, no_threads=2, verbose=True)\n",
    "glove_model.add_dictionary(corpus_model.dictionary)\n",
    "glove_model.save('glove_all_full_100d.model')"
   ]
  },
  {
   "cell_type": "code",
   "execution_count": 18,
   "metadata": {},
   "outputs": [
    {
     "name": "stdout",
     "output_type": "stream",
     "text": [
      "[-0.68846516 -0.70690947  0.84385673  0.53711556 -0.25419486 -0.82499602\n",
      " -0.17141413 -0.13099526 -0.50955189  0.55384729 -0.43850645 -0.44889927\n",
      " -0.29712453 -0.22082503 -0.85790122 -0.95250038 -0.4992478   0.50172504\n",
      " -0.84615346  0.68058036  0.81319852  0.84307148  0.80855779 -0.52287477\n",
      " -0.02046046]\n",
      "[('tweets', 0.9352889892686751), ('miss', 0.93399459027726173), ('guys', 0.93367821444971166), ('<3', 0.91283630441287755), ('fans', 0.91272008728821141), ('justin', 0.91141923502037991), ('boyfriend', 0.90982304019580251), (\"y'all\", 0.90612380563754147), ('yall', 0.90574304141199802), ('especially', 0.90264809399038992), ('both', 0.90225620033372556), ('direction', 0.89938283047643264), ('boys', 0.89936732469698522), ('singing', 0.89815784920186459), ('ladies', 0.89637983033328661), ('btw', 0.89522869925698223), ('yours', 0.89400416859857057), ('babies', 0.89064911343610731), ('1d', 0.88992828452815076), ('lucky', 0.88906346609073195), ('welcome', 0.88831899561665251), ('friend', 0.88801154984019415), ('dear', 0.88775493806534345), ('laugh', 0.88740558674683789)]\n",
      "(594112, 25)\n",
      "(594112,)\n"
     ]
    }
   ],
   "source": [
    "print(glove_model.word_vectors[glove_model.dictionary.get('love')])\n",
    "print(glove_model.most_similar('love', number=25))\n",
    "print(glove_model.word_vectors.shape)\n",
    "print(glove_model.word_biases.shape)"
   ]
  },
  {
   "cell_type": "code",
   "execution_count": 18,
   "metadata": {},
   "outputs": [
    {
     "name": "stdout",
     "output_type": "stream",
     "text": [
      "[('twirerr', 0.84012715557882189), ('<3', 0.83244706996984141), ('youu', 0.8002561384736645), ('youuu', 0.79645254518411013), ('korangg', 0.78108426627701255), ('miss', 0.75142889108438538), ('much', 0.7478040709138426), ('pessoal', 0.7460029836490778), ('yourself.follow', 0.74408352252409737), (\":')\", 0.74323102968139243), ('shukk', 0.74276581392585095), ('xo', 0.741340628869256), ('guys', 0.74099163996842765), ('33', 0.73633722320370343), ('you', 0.73559725016990407), (\"y'all\", 0.73490504520288158), ('0.120', 0.73420495374573935), ('xoxo', 0.73402266324297827), ('arorm', 0.72982488093755638), ('loveee', 0.72915013090140024), ('eridan', 0.72871497234893245), ('0.150', 0.72572534151606782), ('tooo', 0.72356033954520427), ('would', 0.72351558020431694)]\n",
      "(594112, 100)\n",
      "(594112,)\n"
     ]
    }
   ],
   "source": [
    "print(glove_model.most_similar('love', number=25))\n",
    "print(glove_model.word_vectors.shape)\n",
    "print(glove_model.word_biases.shape)"
   ]
  },
  {
   "cell_type": "code",
   "execution_count": null,
   "metadata": {
    "collapsed": true
   },
   "outputs": [],
   "source": []
  }
 ],
 "metadata": {
  "kernelspec": {
   "display_name": "Python 3",
   "language": "python",
   "name": "python3"
  },
  "language_info": {
   "codemirror_mode": {
    "name": "ipython",
    "version": 3
   },
   "file_extension": ".py",
   "mimetype": "text/x-python",
   "name": "python",
   "nbconvert_exporter": "python",
   "pygments_lexer": "ipython3",
   "version": "3.6.1"
  }
 },
 "nbformat": 4,
 "nbformat_minor": 2
}
