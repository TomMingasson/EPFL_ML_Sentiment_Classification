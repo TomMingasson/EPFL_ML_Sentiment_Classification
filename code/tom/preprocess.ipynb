{
 "cells": [
  {
   "cell_type": "code",
   "execution_count": 1,
   "metadata": {
    "scrolled": true
   },
   "outputs": [],
   "source": [
    "%matplotlib inline\n",
    "%load_ext autoreload\n",
    "%autoreload 2\n",
    "\n",
    "# change path if necessary\n",
    "import sys\n",
    "my_path = r'D:\\Documents\\etudes\\epfl\\MA1\\cours\\MachineLearning\\Project2'\n",
    "sys.path.insert(0,my_path + r'/code/tom')"
   ]
  },
  {
   "cell_type": "code",
   "execution_count": 57,
   "metadata": {
    "collapsed": true
   },
   "outputs": [],
   "source": [
    "from preprocessings import process\n",
    "\n",
    "def preprocess_txt_file(infilename, outfilename):\n",
    "    \n",
    "    # holds lines already seen\n",
    "    lines_seen = set() \n",
    "    outfile = open(outfilename, \"w\", encoding='utf-8-sig')\n",
    "    for line in open(infilename, \"r\", encoding='utf-8-sig'):\n",
    "        if line not in lines_seen: # not a duplicate\n",
    "            outfile.write(process(line)) # processed and write\n",
    "            outfile.write(\"\\n\")\n",
    "            lines_seen.add(line)\n",
    "    outfile.close()"
   ]
  },
  {
   "cell_type": "markdown",
   "metadata": {},
   "source": [
    "# simple example to test"
   ]
  },
  {
   "cell_type": "code",
   "execution_count": 60,
   "metadata": {},
   "outputs": [
    {
     "data": {
      "text/plain": [
       "'i have been you are <smile> ! <repeat> <url> <heart> <number>'"
      ]
     },
     "execution_count": 60,
     "metadata": {},
     "output_type": "execute_result"
    }
   ],
   "source": [
    "process(\"I've been you're :) !!! www.site.com <3 3.111    \")"
   ]
  },
  {
   "cell_type": "code",
   "execution_count": 62,
   "metadata": {},
   "outputs": [],
   "source": [
    "import os \n",
    "os.chdir(r'D:\\Documents\\etudes\\epfl\\MA1\\cours\\MachineLearning\\Project2\\data\\twitter_datasets_epfl\\unique\\full')\n",
    "preprocess_txt_file('example.txt', 'example_out.txt')"
   ]
  },
  {
   "cell_type": "markdown",
   "metadata": {},
   "source": [
    "# FULL"
   ]
  },
  {
   "cell_type": "code",
   "execution_count": 26,
   "metadata": {
    "collapsed": true
   },
   "outputs": [],
   "source": [
    "import os \n",
    "os.chdir(r'D:\\Documents\\etudes\\epfl\\MA1\\cours\\MachineLearning\\Project2\\data\\twitter_datasets_epfl\\unique\\full')"
   ]
  },
  {
   "cell_type": "code",
   "execution_count": 33,
   "metadata": {
    "collapsed": true
   },
   "outputs": [],
   "source": [
    "# remove id in 'test_data.txt'\n",
    "outfile = open('test_data_no_id.txt', \"w\", encoding='utf-8-sig')\n",
    "with open('test_data.txt', 'r', encoding='utf-8-sig') as f:\n",
    "    for line in f:\n",
    "        tweet = line.split(',')[1:]\n",
    "        outfile.write(''.join(tweet))      \n",
    "outfile.close()"
   ]
  },
  {
   "cell_type": "code",
   "execution_count": 34,
   "metadata": {
    "collapsed": true
   },
   "outputs": [],
   "source": [
    "# test data\n",
    "infilename = 'test_data_no_id.txt'\n",
    "outfilename = infilename[:-4] + '_processed.txt'\n",
    "preprocess_txt_file(infilename, outfilename)"
   ]
  },
  {
   "cell_type": "code",
   "execution_count": null,
   "metadata": {
    "collapsed": true
   },
   "outputs": [],
   "source": [
    "# train_neg_full\n",
    "infilename = 'train_neg_full.txt'\n",
    "outfilename = infilename[:-4] + '_processed.txt'\n",
    "preprocess_txt_file(infilename, outfilename)"
   ]
  },
  {
   "cell_type": "code",
   "execution_count": null,
   "metadata": {
    "collapsed": true
   },
   "outputs": [],
   "source": [
    "# train_pos_full\n",
    "infilename = 'train_pos_full.txt'\n",
    "outfilename = infilename[:-4] + '_processed.txt'\n",
    "preprocess_txt_file(infilename, outfilename)"
   ]
  },
  {
   "cell_type": "code",
   "execution_count": null,
   "metadata": {
    "collapsed": true
   },
   "outputs": [],
   "source": [
    "# concatenate \n",
    "filenames = ['train_pos_full_processed.txt', 'train_neg_full_processed.txt', 'test_data_processed_no_id.txt']\n",
    "with open('all_full_processed.txt', 'w', encoding='utf-8-sig') as outfile:\n",
    "    for fname in filenames:\n",
    "        with open(fname, 'r', encoding='utf-8-sig') as infile:\n",
    "            for line in infile:\n",
    "                outfile.write(line)"
   ]
  },
  {
   "cell_type": "markdown",
   "metadata": {},
   "source": [
    "# Short"
   ]
  },
  {
   "cell_type": "code",
   "execution_count": null,
   "metadata": {
    "collapsed": true
   },
   "outputs": [],
   "source": [
    "import os \n",
    "os.chdir(r'D:\\Documents\\etudes\\epfl\\MA1\\cours\\MachineLearning\\Project2\\data\\twitter_datasets_epfl\\unique\\short')"
   ]
  },
  {
   "cell_type": "code",
   "execution_count": null,
   "metadata": {
    "collapsed": true
   },
   "outputs": [],
   "source": [
    "# test data\n",
    "infilename = 'test_data.txt'\n",
    "outfilename = infilename[:-4] + '_processed.txt'\n",
    "preprocess_txt_file(infilename, outfilename)"
   ]
  },
  {
   "cell_type": "code",
   "execution_count": null,
   "metadata": {
    "collapsed": true
   },
   "outputs": [],
   "source": [
    "# remove id in 'test_data.txt'\n",
    "outfile = open('test_data_processed_no_id.txt', \"w\", encoding='utf-8-sig')\n",
    "with open('test_data_processed.txt', 'r', encoding='utf-8-sig') as f:\n",
    "    for line in f:\n",
    "        tweet = line.split(',')[1:]\n",
    "        outfile.write(''.join(tweet))      \n"
   ]
  },
  {
   "cell_type": "code",
   "execution_count": null,
   "metadata": {
    "collapsed": true
   },
   "outputs": [],
   "source": [
    "# train_pos\n",
    "infilename = 'train_pos.txt'\n",
    "outfilename = infilename[:-4] + '_processed.txt'\n",
    "preprocess_txt_file(infilename, outfilename)"
   ]
  },
  {
   "cell_type": "code",
   "execution_count": null,
   "metadata": {
    "collapsed": true
   },
   "outputs": [],
   "source": [
    "# train_neg\n",
    "infilename = 'train_neg.txt'\n",
    "outfilename = infilename[:-4] + '_processed.txt'\n",
    "preprocess_txt_file(infilename, outfilename)"
   ]
  },
  {
   "cell_type": "code",
   "execution_count": null,
   "metadata": {
    "collapsed": true
   },
   "outputs": [],
   "source": [
    "# concatenate \n",
    "filenames = ['train_pos_processed.txt', 'train_neg_processed.txt', 'test_data_processed_no_id.txt']\n",
    "with open('all_short_processed.txt', \"w\", encoding='utf-8-sig') as outfile:\n",
    "    for fname in filenames:\n",
    "        with open(fname, 'r', encoding='utf-8-sig') as infile:\n",
    "            for line in infile:\n",
    "                outfile.write(line)\n",
    "        infile.close()\n",
    "outfile.close()"
   ]
  }
 ],
 "metadata": {
  "kernelspec": {
   "display_name": "Python 3",
   "language": "python",
   "name": "python3"
  },
  "language_info": {
   "codemirror_mode": {
    "name": "ipython",
    "version": 3
   },
   "file_extension": ".py",
   "mimetype": "text/x-python",
   "name": "python",
   "nbconvert_exporter": "python",
   "pygments_lexer": "ipython3",
   "version": "3.6.1"
  }
 },
 "nbformat": 4,
 "nbformat_minor": 2
}
