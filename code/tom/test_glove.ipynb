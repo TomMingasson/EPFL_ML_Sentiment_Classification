{
 "cells": [
  {
   "cell_type": "code",
   "execution_count": 1,
   "metadata": {
    "collapsed": true
   },
   "outputs": [],
   "source": [
    "%matplotlib inline\n",
    "%load_ext autoreload\n",
    "%autoreload 2\n",
    "\n",
    "from glove import Glove\n",
    "from glove import Corpus"
   ]
  },
  {
   "cell_type": "code",
   "execution_count": 2,
   "metadata": {
    "collapsed": true
   },
   "outputs": [],
   "source": [
    "import os\n",
    "os.chdir('D:\\Documents\\etudes\\epfl\\MA1\\cours\\MachineLearning\\Project2\\data')"
   ]
  },
  {
   "cell_type": "code",
   "execution_count": 3,
   "metadata": {
    "collapsed": true,
    "scrolled": true
   },
   "outputs": [],
   "source": [
    "def read_corpus(filename):\n",
    "\n",
    "    delchars = [chr(c) for c in range(256)]\n",
    "    delchars = [x for x in delchars if not x.isalnum()]\n",
    "    delchars.remove(' ')\n",
    "    delchars = ''.join(delchars)\n",
    "\n",
    "    with open(filename, 'r') as datafile:\n",
    "        for line in datafile:\n",
    "            yield line.lower().split(' ')"
   ]
  },
  {
   "cell_type": "code",
   "execution_count": 15,
   "metadata": {},
   "outputs": [
    {
     "name": "stdout",
     "output_type": "stream",
     "text": [
      "Pre-processing corpus\n",
      "Dict size: 63975\n",
      "Collocations: 2325245\n"
     ]
    }
   ],
   "source": [
    "# Build the corpus dictionary and the cooccurrence matrix.\n",
    "print('Pre-processing corpus')\n",
    "\n",
    "\n",
    "corpus_data = read_corpus('train_pos.txt')\n",
    "\n",
    "corpus_model = Corpus()\n",
    "corpus_model.fit(corpus_data, window=10)\n",
    "corpus_model.save('corpus.model')\n",
    "\n",
    "print('Dict size: %s' % len(corpus_model.dictionary))\n",
    "print('Collocations: %s' % corpus_model.matrix.nnz)\n"
   ]
  },
  {
   "cell_type": "code",
   "execution_count": 16,
   "metadata": {},
   "outputs": [
    {
     "name": "stdout",
     "output_type": "stream",
     "text": [
      "Training the GloVe model\n",
      "Performing 5 training epochs with 2 threads\n",
      "Epoch 0\n"
     ]
    },
    {
     "ename": "KeyboardInterrupt",
     "evalue": "",
     "output_type": "error",
     "traceback": [
      "\u001b[1;31m---------------------------------------------------------------------------\u001b[0m",
      "\u001b[1;31mKeyboardInterrupt\u001b[0m                         Traceback (most recent call last)",
      "\u001b[1;32m<ipython-input-16-40a9a64d673a>\u001b[0m in \u001b[0;36m<module>\u001b[1;34m()\u001b[0m\n\u001b[0;32m      3\u001b[0m \u001b[0mglove\u001b[0m \u001b[1;33m=\u001b[0m \u001b[0mGlove\u001b[0m\u001b[1;33m(\u001b[0m\u001b[0mno_components\u001b[0m\u001b[1;33m=\u001b[0m\u001b[1;36m100\u001b[0m\u001b[1;33m,\u001b[0m \u001b[0mlearning_rate\u001b[0m\u001b[1;33m=\u001b[0m\u001b[1;36m0.05\u001b[0m\u001b[1;33m)\u001b[0m\u001b[1;33m\u001b[0m\u001b[0m\n\u001b[0;32m      4\u001b[0m glove.fit(corpus_model.matrix, epochs=5,\n\u001b[1;32m----> 5\u001b[1;33m           no_threads=2, verbose=True)\n\u001b[0m\u001b[0;32m      6\u001b[0m \u001b[0mglove\u001b[0m\u001b[1;33m.\u001b[0m\u001b[0madd_dictionary\u001b[0m\u001b[1;33m(\u001b[0m\u001b[0mcorpus_model\u001b[0m\u001b[1;33m.\u001b[0m\u001b[0mdictionary\u001b[0m\u001b[1;33m)\u001b[0m\u001b[1;33m\u001b[0m\u001b[0m\n\u001b[0;32m      7\u001b[0m \u001b[1;33m\u001b[0m\u001b[0m\n",
      "\u001b[1;32mC:\\Users\\Tom\\Anaconda3\\lib\\site-packages\\glove_python-0.1.0-py3.6-win-amd64.egg\\glove\\glove.py\u001b[0m in \u001b[0;36mfit\u001b[1;34m(self, matrix, epochs, no_threads, verbose)\u001b[0m\n\u001b[0;32m    129\u001b[0m                         \u001b[0mself\u001b[0m\u001b[1;33m.\u001b[0m\u001b[0malpha\u001b[0m\u001b[1;33m,\u001b[0m\u001b[1;33m\u001b[0m\u001b[0m\n\u001b[0;32m    130\u001b[0m                         \u001b[0mself\u001b[0m\u001b[1;33m.\u001b[0m\u001b[0mmax_loss\u001b[0m\u001b[1;33m,\u001b[0m\u001b[1;33m\u001b[0m\u001b[0m\n\u001b[1;32m--> 131\u001b[1;33m                         int(no_threads))\n\u001b[0m\u001b[0;32m    132\u001b[0m \u001b[1;33m\u001b[0m\u001b[0m\n\u001b[0;32m    133\u001b[0m             \u001b[1;32mif\u001b[0m \u001b[1;32mnot\u001b[0m \u001b[0mnp\u001b[0m\u001b[1;33m.\u001b[0m\u001b[0misfinite\u001b[0m\u001b[1;33m(\u001b[0m\u001b[0mself\u001b[0m\u001b[1;33m.\u001b[0m\u001b[0mword_vectors\u001b[0m\u001b[1;33m)\u001b[0m\u001b[1;33m.\u001b[0m\u001b[0mall\u001b[0m\u001b[1;33m(\u001b[0m\u001b[1;33m)\u001b[0m\u001b[1;33m:\u001b[0m\u001b[1;33m\u001b[0m\u001b[0m\n",
      "\u001b[1;31mKeyboardInterrupt\u001b[0m: "
     ]
    }
   ],
   "source": [
    "print('Training the GloVe model')\n",
    "\n",
    "glove = Glove(no_components=100, learning_rate=0.05)\n",
    "glove.fit(corpus_model.matrix, epochs=5,\n",
    "          no_threads=2, verbose=True)\n",
    "glove.add_dictionary(corpus_model.dictionary)\n",
    "\n",
    "glove.save('glove.model')"
   ]
  },
  {
   "cell_type": "code",
   "execution_count": 7,
   "metadata": {},
   "outputs": [
    {
     "name": "stdout",
     "output_type": "stream",
     "text": [
      "[('fine', 0.2311488867247985), ('the', 0.22085546033737494), ('watching', 0.1736513902151508), ('not', 0.16389001089492275), ('casper', 0.13962104732615438), ('headache', 0.13347358500922321), ('no', 0.087921934898830351), ('tv', 0.081089422983185735), ('and', 0.072258915802794033)]\n"
     ]
    }
   ],
   "source": [
    "print(glove.most_similar('lol', number=10))"
   ]
  },
  {
   "cell_type": "code",
   "execution_count": 8,
   "metadata": {},
   "outputs": [
    {
     "name": "stdout",
     "output_type": "stream",
     "text": [
      "[[ -3.89492618e-03  -3.41829240e-03   3.01797998e-03 ...,  -2.09785238e-03\n",
      "   -3.99662221e-03   1.33136789e-04]\n",
      " [ -4.89690300e-03  -4.06752935e-03  -6.51891158e-04 ...,  -2.19545329e-03\n",
      "    1.05313735e-03   4.73387314e-03]\n",
      " [  3.67766083e-03   2.79067857e-03   2.34375463e-03 ...,  -1.49702504e-03\n",
      "    2.27315029e-03   3.29168809e-03]\n",
      " ..., \n",
      " [  4.07372474e-04  -3.41072814e-03  -3.94717501e-03 ...,  -3.49434684e-03\n",
      "   -1.47740247e-03   1.77908272e-03]\n",
      " [ -1.77174497e-03  -1.24059169e-03   3.60758609e-03 ...,   1.20013897e-03\n",
      "   -4.05230932e-05  -7.87787130e-04]\n",
      " [  2.44746519e-04  -4.02090068e-03   4.44959110e-03 ...,   3.98676710e-04\n",
      "   -3.54741017e-03  -3.89962386e-03]]\n"
     ]
    }
   ],
   "source": [
    "print(glove.word_vectors)"
   ]
  },
  {
   "cell_type": "code",
   "execution_count": 9,
   "metadata": {},
   "outputs": [
    {
     "name": "stdout",
     "output_type": "stream",
     "text": [
      "[-0.00698476 -0.00317696 -0.00317494 -0.00698624 -0.02145389 -0.01958643\n",
      " -0.01968069 -0.03337936 -0.03555757 -0.03086866 -0.03729527 -0.03801157\n",
      " -0.03353499 -0.03411142 -0.03078566 -0.02811813 -0.02836494 -0.03096615\n",
      " -0.0428921  -0.03374619 -0.03257315 -0.03632011 -0.04150746 -0.037051\n",
      " -0.0418943  -0.0371788  -0.04100793 -0.0339337  -0.03375234 -0.03071268\n",
      " -0.03099238]\n"
     ]
    }
   ],
   "source": [
    "print(glove.word_biases)"
   ]
  },
  {
   "cell_type": "code",
   "execution_count": 10,
   "metadata": {},
   "outputs": [
    {
     "name": "stdout",
     "output_type": "stream",
     "text": [
      "{'1,just': 0, 'put': 1, 'casper': 2, '\\n': 3, '4,<user>': 4, 'no': 5, \"ma'am\": 6, '!': 7, 'lol': 8, 'im': 9, 'perfectly': 10, 'fine': 11, 'and': 12, 'not': 13, 'contagious': 14, 'anymore': 15, 'lmao\\n': 16, '57,whenever': 17, 'i': 18, 'fall': 19, 'asleep': 20, 'watching': 21, 'the': 22, 'tv': 23, ',': 24, 'always': 25, 'wake': 26, 'up': 27, 'with': 28, 'a': 29, 'headache': 30} \n",
      "\n",
      "2\n"
     ]
    }
   ],
   "source": [
    "print(glove.dictionary, '\\n')\n",
    "print(glove.dictionary.get('casper'))"
   ]
  },
  {
   "cell_type": "code",
   "execution_count": 14,
   "metadata": {},
   "outputs": [
    {
     "name": "stdout",
     "output_type": "stream",
     "text": [
      "[  3.67766083e-03   2.79067857e-03   2.34375463e-03   1.56060996e-03\n",
      "   2.72973231e-03   3.72091244e-03   1.00580626e-03  -4.26005370e-04\n",
      "   1.62174493e-03   3.10910028e-04   2.08703369e-03  -2.91230147e-03\n",
      "  -4.69239730e-03   9.30599959e-04   2.55454774e-03   3.55187530e-03\n",
      "   1.35768388e-03   3.33347981e-03   1.97497810e-03   2.55812682e-03\n",
      "   2.11357746e-03   3.80029773e-03  -2.08029120e-03   1.47170906e-03\n",
      "  -1.17340688e-03   4.35921620e-03  -1.92652260e-03  -3.64629495e-03\n",
      "  -5.84346204e-04   2.14567663e-03  -3.92769619e-03   2.16358798e-03\n",
      "   2.88415335e-03  -2.93012484e-04  -3.42616981e-03   2.23841265e-03\n",
      "   9.09980902e-04   7.57930690e-04   9.18244636e-04  -4.37416354e-03\n",
      "  -6.04129317e-04  -7.32112804e-04  -1.77230510e-03  -2.98195093e-03\n",
      "  -2.49385397e-03  -2.69080873e-03  -1.40454780e-03  -2.20890887e-03\n",
      "   3.21217220e-04  -3.43712384e-03  -4.74186142e-03   5.01944207e-04\n",
      "  -1.47911058e-04   4.66700960e-03  -2.48612052e-04   1.89337040e-04\n",
      "   2.05920216e-03  -4.43002119e-03   2.10515609e-03  -3.89200612e-03\n",
      "   1.87478105e-03  -8.78676555e-04  -4.71648835e-03   6.79745176e-05\n",
      "  -2.77967883e-03  -1.70892575e-03  -2.02473846e-03  -1.75744608e-03\n",
      "  -1.51700989e-03  -2.99849099e-03   8.29732949e-04   1.68808885e-04\n",
      "   3.31373710e-03  -1.19774180e-03   4.79817382e-04   4.98778685e-03\n",
      "  -1.29109481e-03   1.05702708e-03   1.58385903e-03   3.35696819e-03\n",
      "  -1.46716460e-03  -3.73590696e-04  -9.49409209e-04   4.73565386e-04\n",
      "  -3.49372715e-04  -1.77189736e-03   4.30567596e-05   8.18479249e-04\n",
      "   4.21878973e-03  -2.16725953e-03   2.94820780e-03   5.89368638e-04\n",
      "  -4.59280812e-03   2.34315587e-03  -4.21141627e-03   1.74504632e-03\n",
      "  -2.94029258e-04  -1.49702504e-03   2.27315029e-03   3.29168809e-03]\n"
     ]
    }
   ],
   "source": [
    "print(glove.word_vectors[glove.dictionary.get('casper')])"
   ]
  },
  {
   "cell_type": "code",
   "execution_count": null,
   "metadata": {
    "collapsed": true
   },
   "outputs": [],
   "source": []
  }
 ],
 "metadata": {
  "kernelspec": {
   "display_name": "Python 3",
   "language": "python",
   "name": "python3"
  },
  "language_info": {
   "codemirror_mode": {
    "name": "ipython",
    "version": 3
   },
   "file_extension": ".py",
   "mimetype": "text/x-python",
   "name": "python",
   "nbconvert_exporter": "python",
   "pygments_lexer": "ipython3",
   "version": "3.6.1"
  }
 },
 "nbformat": 4,
 "nbformat_minor": 2
}
