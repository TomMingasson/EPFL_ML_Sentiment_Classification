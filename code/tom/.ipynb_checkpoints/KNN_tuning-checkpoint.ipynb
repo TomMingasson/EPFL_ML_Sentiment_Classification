{
 "cells": [
  {
   "cell_type": "code",
   "execution_count": 1,
   "metadata": {},
   "outputs": [],
   "source": [
    "%matplotlib inline\n",
    "%load_ext autoreload\n",
    "%autoreload 2\n",
    "\n",
    "# change path if necessary\n",
    "import sys\n",
    "my_path = r'D:\\Documents\\etudes\\epfl\\MA1\\cours\\MachineLearning\\Project2'\n",
    "sys.path.insert(0,my_path + r'/code/COMMON')\n",
    "\n",
    "# imports\n",
    "import numpy as np \n",
    "import matplotlib.pyplot as plt"
   ]
  },
  {
   "cell_type": "markdown",
   "metadata": {},
   "source": [
    "# Load Glove model"
   ]
  },
  {
   "cell_type": "code",
   "execution_count": 2,
   "metadata": {
    "collapsed": true
   },
   "outputs": [],
   "source": [
    "from dictionary_helpers import build_glove_dict"
   ]
  },
  {
   "cell_type": "code",
   "execution_count": 3,
   "metadata": {
    "collapsed": true
   },
   "outputs": [],
   "source": [
    "import os\n",
    "os.chdir(r'D:/Documents/etudes/epfl/MA1/cours/MachineLearning/Project2/data/twitter_datasets_stanford/')"
   ]
  },
  {
   "cell_type": "code",
   "execution_count": 4,
   "metadata": {
    "collapsed": true
   },
   "outputs": [],
   "source": [
    "filename_glove_dict = 'glove.twitter.27B.25d.txt'\n",
    "\n",
    "glove = build_glove_dict(filename_glove_dict)"
   ]
  },
  {
   "cell_type": "markdown",
   "metadata": {},
   "source": [
    "# Load stop words"
   ]
  },
  {
   "cell_type": "code",
   "execution_count": 5,
   "metadata": {
    "collapsed": true
   },
   "outputs": [],
   "source": [
    "import os\n",
    "os.chdir(r'D:/Documents/etudes/epfl/MA1/cours/MachineLearning/Project2/data/stop_words/')"
   ]
  },
  {
   "cell_type": "code",
   "execution_count": 6,
   "metadata": {},
   "outputs": [
    {
     "name": "stdout",
     "output_type": "stream",
     "text": [
      "File : stop_word_freq_min_100_ratio_marg_0.1.txt\n",
      "Number of stop words : 630\n"
     ]
    }
   ],
   "source": [
    "filename_stopwords = 'stop_word_freq_min_100_ratio_marg_0.1.txt'\n",
    "\n",
    "stop_words = []\n",
    "with open(filename_stopwords, 'r', encoding='utf-8-sig') as f:\n",
    "    for line in f:\n",
    "        stop_words.append(line.lstrip().split()[0])\n",
    "    del stop_words[-1]\n",
    "    \n",
    "print(\"File :\", filename_stopwords)\n",
    "print(\"Number of stop words :\", len(stop_words))"
   ]
  },
  {
   "cell_type": "markdown",
   "metadata": {},
   "source": [
    "# Load tfid "
   ]
  },
  {
   "cell_type": "code",
   "execution_count": 7,
   "metadata": {
    "collapsed": true
   },
   "outputs": [],
   "source": [
    "import os\n",
    "os.chdir(r'D:/Documents/etudes/epfl/MA1/cours/MachineLearning/Project2/data/tfidf/')"
   ]
  },
  {
   "cell_type": "code",
   "execution_count": 8,
   "metadata": {
    "collapsed": true
   },
   "outputs": [],
   "source": [
    "filename_tfidf = 'tfidf.txt'\n",
    "\n",
    "tfidf = {}\n",
    "with open(filename_tfidf, 'r', encoding='utf-8-sig') as f:\n",
    "    next(f) # skip headers\n",
    "    for line in f:\n",
    "        word = line.strip().split()[0]\n",
    "        tf = float(line.strip().split()[1])\n",
    "        idf = float(line.strip().split()[2])\n",
    "        tfidf[word] = [tf, idf]"
   ]
  },
  {
   "cell_type": "markdown",
   "metadata": {},
   "source": [
    "# Build tweet vector method"
   ]
  },
  {
   "cell_type": "code",
   "execution_count": 9,
   "metadata": {
    "collapsed": true
   },
   "outputs": [],
   "source": [
    "import os\n",
    "os.chdir(r'D:/Documents/etudes/epfl/MA1/cours/MachineLearning/Project2/code/tom/')"
   ]
  },
  {
   "cell_type": "code",
   "execution_count": 10,
   "metadata": {
    "collapsed": true
   },
   "outputs": [],
   "source": [
    "from tweet_processings import build_tweet_vector"
   ]
  },
  {
   "cell_type": "code",
   "execution_count": 11,
   "metadata": {
    "collapsed": true
   },
   "outputs": [],
   "source": [
    "# method to build tweet vector\n",
    "method = [\"mean\"]"
   ]
  },
  {
   "cell_type": "markdown",
   "metadata": {},
   "source": [
    "# Build tweet vectors TRAIN"
   ]
  },
  {
   "cell_type": "code",
   "execution_count": 12,
   "metadata": {
    "collapsed": true
   },
   "outputs": [],
   "source": [
    "import os\n",
    "os.chdir(r'D:\\Documents\\etudes\\epfl\\MA1\\cours\\MachineLearning\\Project2\\data\\twitter_datasets_epfl\\short')"
   ]
  },
  {
   "cell_type": "code",
   "execution_count": 13,
   "metadata": {
    "scrolled": false
   },
   "outputs": [
    {
     "name": "stdout",
     "output_type": "stream",
     "text": [
      "'lisining to music' is an empty tweet.\n",
      "'off to burgerboys' is an empty tweet.\n",
      "'walmart with mommiiee' is an empty tweet.\n",
      "'off to walmart' is an empty tweet.\n",
      "'up with andy' is an empty tweet.\n",
      "'with deanza' is an empty tweet.\n",
      "'going to crowely' is an empty tweet.\n"
     ]
    }
   ],
   "source": [
    "# build positive tweet feature set\n",
    "X_pos = []\n",
    "\n",
    "with open('train_pos_processed.txt') as f:\n",
    "    for line in f:\n",
    "        tweet = line.lstrip().split()\n",
    "        tweet_vector = build_tweet_vector(tweet, glove, tfidf, stop_words, method)\n",
    "        if len(tweet_vector):\n",
    "            X_pos.append(tweet_vector)\n",
    "        \n",
    "X_pos = np.array(X_pos)"
   ]
  },
  {
   "cell_type": "code",
   "execution_count": 14,
   "metadata": {
    "scrolled": true
   },
   "outputs": [
    {
     "name": "stdout",
     "output_type": "stream",
     "text": [
      "'enough' is an empty tweet.\n",
      "'im thinking too much' is an empty tweet.\n",
      "'kgnbgtini hugmepleaseprince ~' is an empty tweet.\n",
      "'scoiled my tongue' is an empty tweet.\n",
      "'so insanly busy' is an empty tweet.\n",
      "'<number><number> philly' is an empty tweet.\n",
      "'willy willy willy willy' is an empty tweet.\n"
     ]
    }
   ],
   "source": [
    "# build negative tweet feature set\n",
    "X_neg = []\n",
    "\n",
    "with open('train_neg_processed.txt') as f:\n",
    "    for line in f:\n",
    "        tweet = line.lstrip().split()\n",
    "        tweet_vector = build_tweet_vector(tweet, glove, tfidf, stop_words, method)\n",
    "        if len(tweet_vector):\n",
    "            X_neg.append(tweet_vector)\n",
    "        \n",
    "X_neg = np.array(X_neg) "
   ]
  },
  {
   "cell_type": "code",
   "execution_count": 15,
   "metadata": {
    "collapsed": true
   },
   "outputs": [],
   "source": [
    "# labels\n",
    "y_pos = np.ones(X_pos.shape[0])\n",
    "y_neg = -np.ones(X_neg.shape[0])"
   ]
  },
  {
   "cell_type": "code",
   "execution_count": 16,
   "metadata": {
    "collapsed": true
   },
   "outputs": [],
   "source": [
    "# number of training samples\n",
    "N_samples_train = 50000\n",
    "\n",
    "# cut samples\n",
    "X_pos_cut = X_pos[:N_samples_train,:]\n",
    "X_neg_cut = X_neg[:N_samples_train,:]\n",
    "\n",
    "# cut targets\n",
    "y_pos_cut = y_pos[:N_samples_train]\n",
    "y_neg_cut = y_neg[:N_samples_train]\n",
    "\n",
    "# concatenate\n",
    "X_pos_neg = np.concatenate([X_pos_cut, X_neg_cut])\n",
    "y_pos_neg = np.concatenate([y_pos_cut, y_neg_cut])"
   ]
  },
  {
   "cell_type": "markdown",
   "metadata": {},
   "source": [
    "# Standardization"
   ]
  },
  {
   "cell_type": "code",
   "execution_count": 17,
   "metadata": {
    "collapsed": true
   },
   "outputs": [],
   "source": [
    "# set to \"True\" to standardize\n",
    "ifStandardize = False"
   ]
  },
  {
   "cell_type": "code",
   "execution_count": 18,
   "metadata": {
    "collapsed": true
   },
   "outputs": [],
   "source": [
    "from sklearn.preprocessing import StandardScaler\n",
    "\n",
    "if ifStandardize:\n",
    "    \n",
    "    scaler = StandardScaler()\n",
    "    scaler.fit(X_pos_neg)\n",
    "    X_pos_neg = scaler.transform(X_pos_neg)\n",
    "    \n",
    "else: \n",
    "    \n",
    "    X_pos_neg = X_pos_neg"
   ]
  },
  {
   "cell_type": "markdown",
   "metadata": {},
   "source": [
    "# Hyperparameter optimization (K)"
   ]
  },
  {
   "cell_type": "markdown",
   "metadata": {},
   "source": [
    "## Grid search and cross validation"
   ]
  },
  {
   "cell_type": "code",
   "execution_count": 19,
   "metadata": {},
   "outputs": [
    {
     "data": {
      "text/plain": [
       "GridSearchCV(cv=5, error_score='raise',\n",
       "       estimator=KNeighborsClassifier(algorithm='auto', leaf_size=30, metric='minkowski',\n",
       "           metric_params=None, n_jobs=1, n_neighbors=5, p=2,\n",
       "           weights='uniform'),\n",
       "       fit_params={}, iid=True, n_jobs=1,\n",
       "       param_grid=[{'n_neighbors': range(1, 10)}], pre_dispatch='2*n_jobs',\n",
       "       refit=True, return_train_score=True, scoring='accuracy', verbose=0)"
      ]
     },
     "execution_count": 19,
     "metadata": {},
     "output_type": "execute_result"
    }
   ],
   "source": [
    "from __future__ import print_function\n",
    "\n",
    "from sklearn.model_selection import train_test_split\n",
    "from sklearn.model_selection import GridSearchCV\n",
    "from sklearn.metrics import classification_report\n",
    "from sklearn.neighbors import KNeighborsClassifier\n",
    "\n",
    "# data\n",
    "X = X_pos_neg\n",
    "y = y_pos_neg\n",
    "\n",
    "# Split the dataset in two equal parts\n",
    "X_train, X_test, y_train, y_test = train_test_split(X, y, test_size=0.25, random_state=0)\n",
    "\n",
    "# range for hyperparameters\n",
    "K_range = range(1,10)\n",
    "\n",
    "# Set the parameters by cross-validation\n",
    "tuned_parameters = [{'n_neighbors': K_range}]\n",
    "                    \n",
    "# define grid search CV\n",
    "clf = GridSearchCV(KNeighborsClassifier(), tuned_parameters, cv=5, scoring= 'accuracy')\n",
    "\n",
    "# fit for every parameters combinations in grid search CV\n",
    "clf.fit(X_train, y_train)"
   ]
  },
  {
   "cell_type": "markdown",
   "metadata": {},
   "source": [
    "## Display results"
   ]
  },
  {
   "cell_type": "code",
   "execution_count": 20,
   "metadata": {},
   "outputs": [
    {
     "name": "stdout",
     "output_type": "stream",
     "text": [
      "Best parameters set found on development set:\n",
      "\n",
      "{'n_neighbors': 9}\n",
      "\n",
      "Grid scores on development set:\n",
      "\n",
      "0.657 (+/-0.012) for {'n_neighbors': 1}\n",
      "0.630 (+/-0.008) for {'n_neighbors': 2}\n",
      "0.676 (+/-0.008) for {'n_neighbors': 3}\n",
      "0.662 (+/-0.007) for {'n_neighbors': 4}\n",
      "0.686 (+/-0.007) for {'n_neighbors': 5}\n",
      "0.677 (+/-0.005) for {'n_neighbors': 6}\n",
      "0.693 (+/-0.006) for {'n_neighbors': 7}\n",
      "0.687 (+/-0.006) for {'n_neighbors': 8}\n",
      "0.698 (+/-0.004) for {'n_neighbors': 9}\n",
      "\n",
      "Detailed classification report:\n",
      "\n",
      "The model is trained on the full development set.\n",
      "The scores are computed on the full evaluation set.\n",
      "\n",
      "             precision    recall  f1-score   support\n",
      "\n",
      "       -1.0       0.71      0.66      0.68     12539\n",
      "        1.0       0.68      0.73      0.70     12461\n",
      "\n",
      "avg / total       0.70      0.69      0.69     25000\n",
      "\n",
      "\n"
     ]
    }
   ],
   "source": [
    "print(\"Best parameters set found on development set:\")\n",
    "print()\n",
    "print(clf.best_params_)\n",
    "print()\n",
    "print(\"Grid scores on development set:\")\n",
    "print()\n",
    "\n",
    "means = clf.cv_results_['mean_test_score']\n",
    "stds = clf.cv_results_['std_test_score']\n",
    "for mean, std, params in zip(means, stds, clf.cv_results_['params']):\n",
    "    print(\"%0.3f (+/-%0.03f) for %r\"\n",
    "          % (mean, std * 2, params))\n",
    "    \n",
    "print()\n",
    "print(\"Detailed classification report:\")\n",
    "print()\n",
    "print(\"The model is trained on the full development set.\")\n",
    "print(\"The scores are computed on the full evaluation set.\")\n",
    "print()\n",
    "y_true, y_pred = y_test, clf.predict(X_test)\n",
    "print(classification_report(y_true, y_pred))\n",
    "print()"
   ]
  },
  {
   "cell_type": "code",
   "execution_count": 30,
   "metadata": {},
   "outputs": [
    {
     "data": {
      "image/png": "[encoded data removed]",
      "text/plain": [
       "<matplotlib.figure.Figure at 0x85ce72e4e0>"
      ]
     },
     "metadata": {},
     "output_type": "display_data"
    },
    {
     "data": {
      "text/plain": [
       "<matplotlib.text.Text at 0x85ce8e3128>"
      ]
     },
     "execution_count": 30,
     "metadata": {},
     "output_type": "execute_result"
    },
    {
     "data": {
      "image/png": "[encoded data removed]",
      "text/plain": [
       "<matplotlib.figure.Figure at 0x85ce742390>"
      ]
     },
     "metadata": {},
     "output_type": "display_data"
    }
   ],
   "source": [
    "scores = clf.cv_results_['mean_test_score']\n",
    "\n",
    "plt.figure(figsize=(8, 6))\n",
    "plt.subplots_adjust(left=.2, right=0.95, bottom=0.15, top=0.95)\n",
    "plt.plot(K_range, scores)\n",
    "plt.xlabel('Number of Neighbors K')\n",
    "plt.ylabel('Accuracy')\n",
    "plt.show()\n",
    "plt.title('Validation accuracy')"
   ]
  },
  {
   "cell_type": "code",
   "execution_count": 29,
   "metadata": {},
   "outputs": [
    {
     "data": {
      "text/plain": [
       "(1, 9)"
      ]
     },
     "execution_count": 29,
     "metadata": {},
     "output_type": "execute_result"
    }
   ],
   "source": [
    "scores = clf.cv_results_['mean_test_score'].reshape(1, len(K_range))\n",
    "scores.shape"
   ]
  },
  {
   "cell_type": "code",
   "execution_count": null,
   "metadata": {
    "collapsed": true
   },
   "outputs": [],
   "source": []
  }
 ],
 "metadata": {
  "kernelspec": {
   "display_name": "Python 3",
   "language": "python",
   "name": "python3"
  },
  "language_info": {
   "codemirror_mode": {
    "name": "ipython",
    "version": 3
   },
   "file_extension": ".py",
   "mimetype": "text/x-python",
   "name": "python",
   "nbconvert_exporter": "python",
   "pygments_lexer": "ipython3",
   "version": "3.6.1"
  }
 },
 "nbformat": 4,
 "nbformat_minor": 2
}
