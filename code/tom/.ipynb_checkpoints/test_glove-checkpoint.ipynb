{
 "cells": [
  {
   "cell_type": "code",
   "execution_count": 1,
   "metadata": {},
   "outputs": [],
   "source": [
    "from glove import Glove\n",
    "from glove import Corpus"
   ]
  },
  {
   "cell_type": "code",
   "execution_count": 2,
   "metadata": {
    "collapsed": true
   },
   "outputs": [],
   "source": [
    "import os\n",
    "os.chdir('D:\\Documents\\etudes\\epfl\\MA1\\cours\\MachineLearning\\Project2\\data')"
   ]
  },
  {
   "cell_type": "code",
   "execution_count": 3,
   "metadata": {
    "collapsed": true,
    "scrolled": true
   },
   "outputs": [],
   "source": [
    "def read_corpus(filename):\n",
    "\n",
    "    delchars = [chr(c) for c in range(256)]\n",
    "    delchars = [x for x in delchars if not x.isalnum()]\n",
    "    delchars.remove(' ')\n",
    "    delchars = ''.join(delchars)\n",
    "\n",
    "    with open(filename, 'r') as datafile:\n",
    "        for line in datafile:\n",
    "            yield line.lower().split(' ')"
   ]
  },
  {
   "cell_type": "code",
   "execution_count": 4,
   "metadata": {},
   "outputs": [
    {
     "name": "stdout",
     "output_type": "stream",
     "text": [
      "Pre-processing corpus\n"
     ]
    },
    {
     "ename": "FileNotFoundError",
     "evalue": "[Errno 2] No such file or directory: 'my_corpus.txt'",
     "output_type": "error",
     "traceback": [
      "\u001b[1;31m---------------------------------------------------------------------------\u001b[0m",
      "\u001b[1;31mFileNotFoundError\u001b[0m                         Traceback (most recent call last)",
      "\u001b[1;32m<ipython-input-4-481976b68e0f>\u001b[0m in \u001b[0;36m<module>\u001b[1;34m()\u001b[0m\n\u001b[0;32m      6\u001b[0m \u001b[1;33m\u001b[0m\u001b[0m\n\u001b[0;32m      7\u001b[0m \u001b[0mcorpus_model\u001b[0m \u001b[1;33m=\u001b[0m \u001b[0mCorpus\u001b[0m\u001b[1;33m(\u001b[0m\u001b[1;33m)\u001b[0m\u001b[1;33m\u001b[0m\u001b[0m\n\u001b[1;32m----> 8\u001b[1;33m \u001b[0mcorpus_model\u001b[0m\u001b[1;33m.\u001b[0m\u001b[0mfit\u001b[0m\u001b[1;33m(\u001b[0m\u001b[0mcorpus_data\u001b[0m\u001b[1;33m,\u001b[0m \u001b[0mwindow\u001b[0m\u001b[1;33m=\u001b[0m\u001b[1;36m10\u001b[0m\u001b[1;33m)\u001b[0m\u001b[1;33m\u001b[0m\u001b[0m\n\u001b[0m\u001b[0;32m      9\u001b[0m \u001b[0mcorpus_model\u001b[0m\u001b[1;33m.\u001b[0m\u001b[0msave\u001b[0m\u001b[1;33m(\u001b[0m\u001b[1;34m'corpus.model'\u001b[0m\u001b[1;33m)\u001b[0m\u001b[1;33m\u001b[0m\u001b[0m\n\u001b[0;32m     10\u001b[0m \u001b[1;33m\u001b[0m\u001b[0m\n",
      "\u001b[1;32mC:\\Users\\Tom\\Anaconda3\\lib\\site-packages\\glove_python-0.1.0-py3.6-win-amd64.egg\\glove\\corpus.py\u001b[0m in \u001b[0;36mfit\u001b[1;34m(self, corpus, window, ignore_missing)\u001b[0m\n\u001b[0;32m     62\u001b[0m                                                     \u001b[0mint\u001b[0m\u001b[1;33m(\u001b[0m\u001b[0mself\u001b[0m\u001b[1;33m.\u001b[0m\u001b[0mdictionary_supplied\u001b[0m\u001b[1;33m)\u001b[0m\u001b[1;33m,\u001b[0m\u001b[1;33m\u001b[0m\u001b[0m\n\u001b[0;32m     63\u001b[0m                                                     \u001b[0mint\u001b[0m\u001b[1;33m(\u001b[0m\u001b[0mwindow\u001b[0m\u001b[1;33m)\u001b[0m\u001b[1;33m,\u001b[0m\u001b[1;33m\u001b[0m\u001b[0m\n\u001b[1;32m---> 64\u001b[1;33m                                                     int(ignore_missing))\n\u001b[0m\u001b[0;32m     65\u001b[0m \u001b[1;33m\u001b[0m\u001b[0m\n\u001b[0;32m     66\u001b[0m     \u001b[1;32mdef\u001b[0m \u001b[0msave\u001b[0m\u001b[1;33m(\u001b[0m\u001b[0mself\u001b[0m\u001b[1;33m,\u001b[0m \u001b[0mfilename\u001b[0m\u001b[1;33m)\u001b[0m\u001b[1;33m:\u001b[0m\u001b[1;33m\u001b[0m\u001b[0m\n",
      "\u001b[1;32mglove\\corpus_cython.pyx\u001b[0m in \u001b[0;36mglove.corpus_cython.construct_cooccurrence_matrix\u001b[1;34m()\u001b[0m\n",
      "\u001b[1;32m<ipython-input-3-dd388df09f80>\u001b[0m in \u001b[0;36mread_corpus\u001b[1;34m(filename)\u001b[0m\n\u001b[0;32m      6\u001b[0m     \u001b[0mdelchars\u001b[0m \u001b[1;33m=\u001b[0m \u001b[1;34m''\u001b[0m\u001b[1;33m.\u001b[0m\u001b[0mjoin\u001b[0m\u001b[1;33m(\u001b[0m\u001b[0mdelchars\u001b[0m\u001b[1;33m)\u001b[0m\u001b[1;33m\u001b[0m\u001b[0m\n\u001b[0;32m      7\u001b[0m \u001b[1;33m\u001b[0m\u001b[0m\n\u001b[1;32m----> 8\u001b[1;33m     \u001b[1;32mwith\u001b[0m \u001b[0mopen\u001b[0m\u001b[1;33m(\u001b[0m\u001b[0mfilename\u001b[0m\u001b[1;33m,\u001b[0m \u001b[1;34m'r'\u001b[0m\u001b[1;33m)\u001b[0m \u001b[1;32mas\u001b[0m \u001b[0mdatafile\u001b[0m\u001b[1;33m:\u001b[0m\u001b[1;33m\u001b[0m\u001b[0m\n\u001b[0m\u001b[0;32m      9\u001b[0m         \u001b[1;32mfor\u001b[0m \u001b[0mline\u001b[0m \u001b[1;32min\u001b[0m \u001b[0mdatafile\u001b[0m\u001b[1;33m:\u001b[0m\u001b[1;33m\u001b[0m\u001b[0m\n\u001b[0;32m     10\u001b[0m             \u001b[1;32myield\u001b[0m \u001b[0mline\u001b[0m\u001b[1;33m.\u001b[0m\u001b[0mlower\u001b[0m\u001b[1;33m(\u001b[0m\u001b[1;33m)\u001b[0m\u001b[1;33m.\u001b[0m\u001b[0msplit\u001b[0m\u001b[1;33m(\u001b[0m\u001b[1;34m' '\u001b[0m\u001b[1;33m)\u001b[0m\u001b[1;33m\u001b[0m\u001b[0m\n",
      "\u001b[1;31mFileNotFoundError\u001b[0m: [Errno 2] No such file or directory: 'my_corpus.txt'"
     ]
    }
   ],
   "source": [
    "# Build the corpus dictionary and the cooccurrence matrix.\n",
    "print('Pre-processing corpus')\n",
    "\n",
    "\n",
    "corpus_data = read_corpus('my_test.txt')\n",
    "\n",
    "corpus_model = Corpus()\n",
    "corpus_model.fit(corpus_data, window=10)\n",
    "corpus_model.save('corpus.model')\n",
    "\n",
    "print('Dict size: %s' % len(corpus_model.dictionary))\n",
    "print('Collocations: %s' % corpus_model.matrix.nnz)\n"
   ]
  },
  {
   "cell_type": "code",
   "execution_count": 4,
   "metadata": {},
   "outputs": [
    {
     "name": "stdout",
     "output_type": "stream",
     "text": [
      "Training the GloVe model\n",
      "Performing 5 training epochs with 2 threads\n",
      "Epoch 0\n",
      "Epoch 1\n",
      "Epoch 2\n",
      "Epoch 3\n",
      "Epoch 4\n"
     ]
    }
   ],
   "source": [
    "print('Training the GloVe model')\n",
    "\n",
    "glove = Glove(no_components=100, learning_rate=0.05)\n",
    "glove.fit(corpus_model.matrix, epochs=5,\n",
    "          no_threads=2, verbose=True)\n",
    "glove.add_dictionary(corpus_model.dictionary)\n",
    "\n",
    "glove.save('glove.model')"
   ]
  },
  {
   "cell_type": "code",
   "execution_count": 5,
   "metadata": {},
   "outputs": [
    {
     "name": "stdout",
     "output_type": "stream",
     "text": [
      "[('<user>', 0.26226447088079019), ('the', 0.20171041910270657), ('not', 0.18345209401348533), ('4,', 0.18209034567283), ('and', 0.16186963924016098), ('just', 0.13817251185918911), ('perfectly', 0.12001788516331292), ('fine', 0.11465205786839693), (',', 0.10324629907235182)]\n"
     ]
    }
   ],
   "source": [
    "print(glove.most_similar('lol', number=10))"
   ]
  },
  {
   "cell_type": "code",
   "execution_count": 6,
   "metadata": {},
   "outputs": [
    {
     "name": "stdout",
     "output_type": "stream",
     "text": [
      "[[-0.00019217 -0.00112179  0.00400359 ...,  0.00091812 -0.00276676\n",
      "   0.0009201 ]\n",
      " [ 0.0008879  -0.00377693  0.00492922 ..., -0.00258124  0.00487242\n",
      "  -0.00203824]\n",
      " [ 0.00334447  0.00247717 -0.00271339 ..., -0.00351144  0.0037677\n",
      "  -0.0031986 ]\n",
      " ..., \n",
      " [ 0.00428559  0.00207887 -0.00428202 ..., -0.00053952 -0.0006631\n",
      "   0.00063119]\n",
      " [ 0.00016678 -0.00155669  0.00352993 ...,  0.00288899  0.00032773\n",
      "  -0.00131182]\n",
      " [ 0.00275136  0.00174563 -0.00451232 ..., -0.0028045  -0.00430145\n",
      "  -0.00031279]]\n"
     ]
    }
   ],
   "source": [
    "print(glove.word_vectors)"
   ]
  },
  {
   "cell_type": "code",
   "execution_count": 7,
   "metadata": {},
   "outputs": [
    {
     "name": "stdout",
     "output_type": "stream",
     "text": [
      "[-0.01076669 -0.00687614 -0.00633065 -0.00688464 -0.01077054 -0.02257826\n",
      " -0.02125169 -0.02262599 -0.02326073 -0.03567725 -0.03890063 -0.03406424\n",
      " -0.04043843 -0.04107016 -0.03351988 -0.03411169 -0.03076336 -0.02809791\n",
      " -0.02834121 -0.0271478  -0.03070076 -0.04516803 -0.03725633 -0.03617083\n",
      " -0.03986911 -0.04492571 -0.04044207 -0.0452009  -0.04019198 -0.0409481\n",
      " -0.03391263 -0.03375928 -0.0307026  -0.03098443]\n"
     ]
    }
   ],
   "source": [
    "print(glove.word_biases)"
   ]
  },
  {
   "cell_type": "code",
   "execution_count": 8,
   "metadata": {},
   "outputs": [
    {
     "name": "stdout",
     "output_type": "stream",
     "text": [
      "{'1,': 0, 'just': 1, 'put': 2, 'casper': 3, '\\n': 4, '4,': 5, '<user>': 6, 'no': 7, \"ma'am\": 8, '!': 9, 'lol': 10, 'im': 11, 'perfectly': 12, 'fine': 13, 'and': 14, 'not': 15, 'contagious': 16, 'anymore': 17, 'lmao\\n': 18, '57,': 19, 'whenever': 20, 'i': 21, 'fall': 22, 'asleep': 23, 'watching': 24, 'the': 25, 'tv': 26, ',': 27, 'always': 28, 'wake': 29, 'up': 30, 'with': 31, 'a': 32, 'headache': 33} \n",
      "\n",
      "3\n"
     ]
    }
   ],
   "source": [
    "print(glove.dictionary, '\\n')\n",
    "print(glove.dictionary.get('casper'))"
   ]
  },
  {
   "cell_type": "code",
   "execution_count": 9,
   "metadata": {},
   "outputs": [
    {
     "ename": "SyntaxError",
     "evalue": "invalid syntax (<ipython-input-9-2d9474c74f1e>, line 1)",
     "output_type": "error",
     "traceback": [
      "\u001b[1;36m  File \u001b[1;32m\"<ipython-input-9-2d9474c74f1e>\"\u001b[1;36m, line \u001b[1;32m1\u001b[0m\n\u001b[1;33m    print(glove.word_vectors. glove.dictionary.get('casper')))\u001b[0m\n\u001b[1;37m                                                             ^\u001b[0m\n\u001b[1;31mSyntaxError\u001b[0m\u001b[1;31m:\u001b[0m invalid syntax\n"
     ]
    }
   ],
   "source": [
    "print(glove.word_vectors. glove.dictionary.get('casper')))"
   ]
  },
  {
   "cell_type": "code",
   "execution_count": null,
   "metadata": {
    "collapsed": true
   },
   "outputs": [],
   "source": []
  }
 ],
 "metadata": {
  "kernelspec": {
   "display_name": "Python 3",
   "language": "python",
   "name": "python3"
  },
  "language_info": {
   "codemirror_mode": {
    "name": "ipython",
    "version": 3
   },
   "file_extension": ".py",
   "mimetype": "text/x-python",
   "name": "python",
   "nbconvert_exporter": "python",
   "pygments_lexer": "ipython3",
   "version": "3.6.1"
  }
 },
 "nbformat": 4,
 "nbformat_minor": 2
}
