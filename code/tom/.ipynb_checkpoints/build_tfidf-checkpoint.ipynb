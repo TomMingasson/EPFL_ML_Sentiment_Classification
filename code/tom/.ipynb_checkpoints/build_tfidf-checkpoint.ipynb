{
 "cells": [
  {
   "cell_type": "code",
   "execution_count": 114,
   "metadata": {
    "scrolled": true
   },
   "outputs": [
    {
     "name": "stdout",
     "output_type": "stream",
     "text": [
      "The autoreload extension is already loaded. To reload it, use:\n",
      "  %reload_ext autoreload\n"
     ]
    }
   ],
   "source": [
    "%load_ext autoreload\n",
    "%autoreload 2\n",
    "\n",
    "# change path if necessary\n",
    "import sys\n",
    "my_path = r'D:\\Documents\\etudes\\epfl\\MA1\\cours\\MachineLearning\\Project2'\n",
    "sys.path.insert(0,my_path + r'/code/COMMON')\n",
    "\n",
    "# imports\n",
    "import numpy as np "
   ]
  },
  {
   "cell_type": "code",
   "execution_count": 243,
   "metadata": {},
   "outputs": [
    {
     "data": {
      "text/plain": [
       "['1514471', '<user>']"
      ]
     },
     "execution_count": 243,
     "metadata": {},
     "output_type": "execute_result"
    }
   ],
   "source": [
    "\"1514471 <user>\".split()\n"
   ]
  },
  {
   "cell_type": "code",
   "execution_count": 303,
   "metadata": {},
   "outputs": [],
   "source": [
    "def compute_TFIDF(filename_vocab, filename_tweet, min_tf, min_idf):\n",
    "    \n",
    "    tfidf_dict = {}\n",
    "\n",
    "    # term frequency (tf) \n",
    "    print(\"Read the term frequencies...\")\n",
    "    with open(filename_vocab, 'r', encoding='utf-8') as datafile:\n",
    "        for line in datafile:\n",
    "            tf = int(line.strip().split()[0])\n",
    "            word = line.strip().split()[1]\n",
    "            if '\\ufeff' in word:\n",
    "                word = \"<user>\"\n",
    "            if tf > min_tf:\n",
    "                tfidf_dict[word] = [1 + np.log(tf), 0]\n",
    "            else: \n",
    "                tfidf_dict[word] = [0, 0]\n",
    "                \n",
    "    # inverse document frequency (idf)\n",
    "    print(\"Compute the inverse document frequencies...\")\n",
    "    N_tweet = 0\n",
    "    with open(filename_tweet, 'r', encoding='utf-8') as datafile:\n",
    "        for line in datafile:\n",
    "            N_tweet += 1\n",
    "            for word in line.split(' '):\n",
    "                if word in tfidf_dict:\n",
    "                     tfidf_dict[word][1] += 1\n",
    "    print(\"Number of tweets analized: \", N_tweet)\n",
    "\n",
    "    # apply normalization\n",
    "    print(\"Apply log smooth normalization to the tf and idf...\")\n",
    "    for word, freq in tfidf_dict.items():\n",
    "        tf = freq[0]\n",
    "        idf = freq[1]\n",
    "        if idf > min_idf and tf > 0:\n",
    "            tfidf_dict[word] = [1+np.log(tf), np.log(1+N_tweet/idf)] \n",
    "    print(\"Finished.\")\n",
    "    \n",
    "    return tfidf_dict\n"
   ]
  },
  {
   "cell_type": "code",
   "execution_count": 304,
   "metadata": {
    "collapsed": true
   },
   "outputs": [],
   "source": [
    "import os\n",
    "os.chdir(r'D:/Documents/etudes/epfl/MA1/cours/MachineLearning/Project2/data/twitter_datasets_epfl/full/')"
   ]
  },
  {
   "cell_type": "code",
   "execution_count": 305,
   "metadata": {
    "scrolled": true
   },
   "outputs": [
    {
     "name": "stdout",
     "output_type": "stream",
     "text": [
      "Read the term frequencies...\n",
      "Compute the inverse document frequencies...\n",
      "Number of tweets analized:  2280482\n",
      "Apply log smooth normalization to the tf and idf...\n",
      "Finished.\n"
     ]
    }
   ],
   "source": [
    "# read word occurences in a dictionary\n",
    "filename_vocab = 'vocab_all_full_processed.txt'\n",
    "filename_tweet = 'all_full_processed.txt'\n",
    "min_tf = 100\n",
    "min_idf = 100\n",
    "tfidf = compute_TFIDF(filename_vocab, filename_tweet, min_tf, min_idf)"
   ]
  },
  {
   "cell_type": "code",
   "execution_count": 306,
   "metadata": {
    "collapsed": true
   },
   "outputs": [],
   "source": [
    "import os\n",
    "os.chdir(r'D:/Documents/etudes/epfl/MA1/cours/MachineLearning/Project2/data/tfidf/')"
   ]
  },
  {
   "cell_type": "code",
   "execution_count": 307,
   "metadata": {},
   "outputs": [],
   "source": [
    "# save in a text file\n",
    "filenameout = 'tfidf.txt'\n",
    "with open(filenameout, 'w', encoding='utf-8-sig') as datafile:\n",
    "    datafile.write(\"word tf idf\")\n",
    "    for word, freq in tfidf.items():\n",
    "        line = word + ' ' + str(freq[0]) + ' ' + str(freq[1])\n",
    "        datafile.write(line)\n",
    "        datafile.write(\"\\n\")"
   ]
  },
  {
   "cell_type": "code",
   "execution_count": 308,
   "metadata": {},
   "outputs": [
    {
     "name": "stdout",
     "output_type": "stream",
     "text": [
      "[3.4440351455514566, 4.1924472758399158]\n",
      "[3.4103774399216173, 4.6724596591215795]\n",
      "[0, 1]\n",
      "[3.7233050362512361, 0.93824271062852527]\n",
      "[0, 1]\n"
     ]
    }
   ],
   "source": [
    "print(tfidf['happy'])\n",
    "print(tfidf['sad'])\n",
    "print(tfidf['--'])\n",
    "print(tfidf['<user>'])\n",
    "print(tfidf[\"g'nightt\"])"
   ]
  }
 ],
 "metadata": {
  "kernelspec": {
   "display_name": "Python 3",
   "language": "python",
   "name": "python3"
  },
  "language_info": {
   "codemirror_mode": {
    "name": "ipython",
    "version": 3
   },
   "file_extension": ".py",
   "mimetype": "text/x-python",
   "name": "python",
   "nbconvert_exporter": "python",
   "pygments_lexer": "ipython3",
   "version": "3.6.1"
  }
 },
 "nbformat": 4,
 "nbformat_minor": 2
}
