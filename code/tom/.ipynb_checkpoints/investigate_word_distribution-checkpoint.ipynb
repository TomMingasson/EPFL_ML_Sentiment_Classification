{
 "cells": [
  {
   "cell_type": "code",
   "execution_count": 1,
   "metadata": {
    "collapsed": true
   },
   "outputs": [],
   "source": [
    "%matplotlib inline\n",
    "%load_ext autoreload\n",
    "%autoreload 2\n",
    "\n",
    "import matplotlib.pyplot as plt\n",
    "import numpy as np\n",
    "import os"
   ]
  },
  {
   "cell_type": "code",
   "execution_count": 2,
   "metadata": {
    "collapsed": true
   },
   "outputs": [],
   "source": [
    "def read_vocab(filename):\n",
    "    \n",
    "    dict_ = {}\n",
    "    with open(filename, 'r', encoding='utf-8-sig') as datafile:\n",
    "        for line in datafile:\n",
    "            occurence = line.strip().split(' ')[0]\n",
    "            word = line.strip().split(' ')[1]\n",
    "            dict_[word] = int(occurence)\n",
    "    return dict_"
   ]
  },
  {
   "cell_type": "code",
   "execution_count": 3,
   "metadata": {
    "collapsed": true
   },
   "outputs": [],
   "source": [
    "import os\n",
    "os.chdir(r'D:/Documents/etudes/epfl/MA1/cours/MachineLearning/Project2/data/twitter_datasets_epfl/full/')"
   ]
  },
  {
   "cell_type": "code",
   "execution_count": 21,
   "metadata": {
    "collapsed": true
   },
   "outputs": [],
   "source": [
    "# adapt the name indide the 'build_vocab.sh' for 'neg' and 'pos'\n",
    "os.system('build_vocab.sh')"
   ]
  },
  {
   "cell_type": "code",
   "execution_count": 198,
   "metadata": {
    "collapsed": true
   },
   "outputs": [],
   "source": [
    "# read the vocabs\n",
    "vocab_neg = read_vocab('vocab_train_neg_full_unique.txt')\n",
    "vocab_pos = read_vocab('vocab_train_pos_full_unique.txt')"
   ]
  },
  {
   "cell_type": "code",
   "execution_count": 33,
   "metadata": {
    "collapsed": true
   },
   "outputs": [],
   "source": [
    "import operator\n",
    "\n",
    "def extract_most_freq(vocab_dict, max_words=10):\n",
    "    \n",
    "    most_freq_words = []\n",
    "    vocab_list_sorted = sorted(vocab_dict.copy().items(), key=operator.itemgetter(1), reverse = True)\n",
    "\n",
    "    for i in range(max_words):\n",
    "        most_freq_words.append((vocab_list_sorted[i][0], vocab_list_sorted[i][1]))\n",
    "    \n",
    "    return most_freq_words"
   ]
  },
  {
   "cell_type": "code",
   "execution_count": 46,
   "metadata": {},
   "outputs": [
    {
     "name": "stdout",
     "output_type": "stream",
     "text": [
      "<user>\t557268\n",
      "i\t514794\n",
      "(\t461668\n",
      "the\t384629\n",
      "...\t361101\n"
     ]
    }
   ],
   "source": [
    "most_neg = extract_most_freq(vocab_neg, max_words=5)\n",
    "print(\"\\n\".join(\"{}\\t{}\".format(x[0], x[1]) for x in most_neg))"
   ]
  },
  {
   "cell_type": "code",
   "execution_count": 47,
   "metadata": {},
   "outputs": [
    {
     "name": "stdout",
     "output_type": "stream",
     "text": [
      "﻿<user>\t951004\n",
      "!\t585557\n",
      "i\t421402\n",
      "you\t352388\n",
      ".\t346378\n"
     ]
    }
   ],
   "source": [
    "most_pos = extract_most_freq(vocab_pos, max_words=5)\n",
    "print(\"\\n\".join(\"{}\\t{}\".format(x[0], x[1]) for x in most_pos))"
   ]
  },
  {
   "cell_type": "code",
   "execution_count": 190,
   "metadata": {
    "collapsed": true
   },
   "outputs": [],
   "source": [
    "def label_word_in_vocab(vocab_dict_neg, vocab_dict_pos, ratio=0.7):\n",
    "    \n",
    "    most_freq_neg = {}\n",
    "    most_freq_pos = {}\n",
    "\n",
    "    # neg\n",
    "    for word_neg, occu_neg in vocab_dict_neg.items():  \n",
    "        \n",
    "        if word_neg in vocab_dict_pos:\n",
    "            \n",
    "            occu_pos = vocab_dict_pos.get(word_neg)\n",
    "\n",
    "            if occu_neg > ratio * occu_pos:\n",
    "\n",
    "                most_freq_neg[word_neg] = occu_neg/occu_pos\n",
    "                \n",
    "        else:\n",
    "            \n",
    "            most_freq_neg[word_neg] = 0\n",
    "     \n",
    "    # pos\n",
    "    for word_pos, occu_pos in vocab_dict_pos.items():  \n",
    "            \n",
    "        if word_pos in vocab_dict_neg:\n",
    "            \n",
    "            occu_neg = vocab_dict_neg.get(word_pos)\n",
    "\n",
    "            if occu_pos > ratio * occu_neg:\n",
    "\n",
    "                most_freq_pos[word_pos] = occu_pos/occu_neg\n",
    "\n",
    "        else:\n",
    "            \n",
    "            most_freq_pos[word_pos] = 0\n",
    "        \n",
    "    return most_freq_neg, most_freq_pos"
   ]
  },
  {
   "cell_type": "code",
   "execution_count": 206,
   "metadata": {
    "collapsed": true
   },
   "outputs": [],
   "source": [
    "freq_min = 500\n",
    "vocab_neg_thr = {k: v for k, v in vocab_neg.copy().items() if v > freq_min}\n",
    "vocab_pos_thr = {k: v for k, v in vocab_pos.copy().items() if v > freq_min}"
   ]
  },
  {
   "cell_type": "code",
   "execution_count": 207,
   "metadata": {
    "collapsed": true
   },
   "outputs": [],
   "source": [
    "most_freq_neg, most_freq_pos = label_word_in_vocab(vocab_neg_thr, vocab_pos_thr, ratio=0.5)"
   ]
  },
  {
   "cell_type": "code",
   "execution_count": 227,
   "metadata": {},
   "outputs": [
    {
     "name": "stdout",
     "output_type": "stream",
     "text": [
      "0.8598792286215181\n",
      "1.1629540134410632\n"
     ]
    }
   ],
   "source": [
    "print(most_freq_neg.get('..'))\n",
    "print(most_freq_pos.get('..'))"
   ]
  },
  {
   "cell_type": "code",
   "execution_count": 219,
   "metadata": {},
   "outputs": [
    {
     "name": "stdout",
     "output_type": "stream",
     "text": [
      "\t MOST FREQ IN NEGATIVE \n",
      "------------------------------------------\n",
      "pack\t41.3155487804878\n",
      "complete\t31.21445497630332\n",
      "series\t19.19496855345912\n",
      "cd\t17.8474025974026\n",
      "(\t14.227057010785824\n",
      "laptop\t13.989071038251366\n",
      "black\t12.83222748815166\n",
      "sad\t12.228136882129277\n",
      "size\t9.662751677852349\n",
      "crying\t9.408866995073891\n",
      "camera\t8.307952622673435\n",
      "case\t8.070579494799405\n",
      "screen\t7.987179487179487\n",
      "ugh\t7.94017094017094\n",
      "skin\t7.779964221824687\n",
      "gold\t7.779467680608365\n",
      "poor\t7.542772861356932\n",
      "brown\t7.409836065573771\n",
      "set\t7.226954177897574\n",
      "|\t7.127824402840543\n",
      "worst\t6.878836833602585\n",
      "ipod\t6.704264099037139\n",
      "cry\t6.324287652645862\n",
      "24\t6.314035087719298\n",
      "sucks\t6.209503239740821\n",
      "quality\t6.202602230483271\n",
      "h\t6.058919803600655\n",
      "history\t5.957227138643068\n",
      "picture\t5.856254484573069\n",
      "apple\t5.715596330275229\n",
      "via\t5.606953447259871\n",
      "release\t5.575707154742097\n",
      "power\t5.562645011600928\n",
      "6\t5.393379522709777\n",
      "12\t5.315731573157316\n",
      "sick\t5.203389830508475\n",
      "library\t5.179883945841393\n",
      "white\t5.16157591854803\n",
      "clear\t5.117850953206239\n",
      "broke\t4.985342019543974\n",
      "pain\t4.814681107099879\n",
      "book\t4.782706766917293\n",
      "blue\t4.725971370143149\n",
      "science\t4.71588785046729\n",
      "pair\t4.698815566835871\n",
      "nooo\t4.661335841956726\n",
      "dark\t4.591722595078299\n",
      "25\t4.589825119236884\n",
      "hate\t4.584725005566689\n",
      "american\t4.561833688699361\n"
     ]
    }
   ],
   "source": [
    "most_freq_neg_sorted = sorted(most_freq_neg.copy().items(), key=operator.itemgetter(1), reverse = True)\n",
    "print('\\t MOST FREQ IN NEGATIVE ')\n",
    "print('------------------------------------------')\n",
    "print(\"\\n\".join(\"{}\\t{}\".format(most_freq_neg_sorted[i][0], most_freq_neg_sorted[i][1]) for i in range(50)))"
   ]
  },
  {
   "cell_type": "code",
   "execution_count": 218,
   "metadata": {},
   "outputs": [
    {
     "name": "stdout",
     "output_type": "stream",
     "text": [
      "\t MOST FREQ IN POSITIVE \n",
      "------------------------------------------\n",
      "thank\t9.238340302348021\n",
      "thanks\t7.648054413160392\n",
      "smile\t6.35807560137457\n",
      "welcome\t6.276657060518732\n",
      "proud\t5.933643771827707\n",
      "shout\t5.887404580152672\n",
      "yay\t5.634972677595629\n",
      "glad\t5.53584102200142\n",
      "awesome\t5.439978563772776\n",
      "hehe\t4.6484375\n",
      "wonderful\t4.495798319327731\n",
      "goodnight\t4.458706467661692\n",
      "happy\t4.370222812453888\n",
      "hey\t4.129188814421077\n",
      "birthday\t4.055902004454343\n",
      "lovely\t4.003720238095238\n",
      "excited\t3.982998454404946\n",
      "hello\t3.7459807073954985\n",
      "bitches\t3.5719769673704413\n",
      "amazing\t3.522298221614227\n",
      "worry\t3.4469424460431655\n",
      "let's\t3.3879641485275287\n",
      "gorgeous\t3.3381770145310434\n",
      "nice\t3.310603222180592\n",
      "hi\t3.307149727476755\n"
     ]
    }
   ],
   "source": [
    "most_freq_pos_sorted = sorted(most_freq_pos.copy().items(), key=operator.itemgetter(1), reverse = True)\n",
    "print('\\t MOST FREQ IN POSITIVE ')\n",
    "print('------------------------------------------')\n",
    "print(\"\\n\".join(\"{}\\t{}\".format(most_freq_pos_sorted[i][0], most_freq_pos_sorted[i][1]) for i in range(25)))"
   ]
  },
  {
   "cell_type": "code",
   "execution_count": 221,
   "metadata": {},
   "outputs": [
    {
     "data": {
      "text/plain": [
       "1112"
      ]
     },
     "execution_count": 221,
     "metadata": {},
     "output_type": "execute_result"
    }
   ],
   "source": [
    "vocab_neg['worry']"
   ]
  },
  {
   "cell_type": "code",
   "execution_count": 222,
   "metadata": {},
   "outputs": [
    {
     "data": {
      "text/plain": [
       "3833"
      ]
     },
     "execution_count": 222,
     "metadata": {},
     "output_type": "execute_result"
    }
   ],
   "source": [
    "vocab_pos['worry']"
   ]
  },
  {
   "cell_type": "code",
   "execution_count": null,
   "metadata": {
    "collapsed": true
   },
   "outputs": [],
   "source": []
  }
 ],
 "metadata": {
  "kernelspec": {
   "display_name": "Python 3",
   "language": "python",
   "name": "python3"
  },
  "language_info": {
   "codemirror_mode": {
    "name": "ipython",
    "version": 3
   },
   "file_extension": ".py",
   "mimetype": "text/x-python",
   "name": "python",
   "nbconvert_exporter": "python",
   "pygments_lexer": "ipython3",
   "version": "3.6.1"
  }
 },
 "nbformat": 4,
 "nbformat_minor": 2
}
