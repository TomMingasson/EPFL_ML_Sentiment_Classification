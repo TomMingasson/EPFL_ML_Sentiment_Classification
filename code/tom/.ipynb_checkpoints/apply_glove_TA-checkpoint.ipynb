{
 "cells": [
  {
   "cell_type": "code",
   "execution_count": 2,
   "metadata": {},
   "outputs": [
    {
     "ename": "NameError",
     "evalue": "name 'pickle_vocab' is not defined",
     "output_type": "error",
     "traceback": [
      "\u001b[1;31m---------------------------------------------------------------------------\u001b[0m",
      "\u001b[1;31mNameError\u001b[0m                                 Traceback (most recent call last)",
      "\u001b[1;32m<ipython-input-2-09a252d8a90c>\u001b[0m in \u001b[0;36m<module>\u001b[1;34m()\u001b[0m\n\u001b[0;32m     12\u001b[0m \u001b[1;32mimport\u001b[0m \u001b[0mmatplotlib\u001b[0m\u001b[1;33m.\u001b[0m\u001b[0mpyplot\u001b[0m \u001b[1;32mas\u001b[0m \u001b[0mplt\u001b[0m\u001b[1;33m\u001b[0m\u001b[0m\n\u001b[0;32m     13\u001b[0m \u001b[1;32mimport\u001b[0m \u001b[0mpickle\u001b[0m\u001b[1;33m\u001b[0m\u001b[0m\n\u001b[1;32m---> 14\u001b[1;33m \u001b[0mpickle_vocab\u001b[0m\u001b[1;33m(\u001b[0m\u001b[1;33m)\u001b[0m\u001b[1;33m\u001b[0m\u001b[0m\n\u001b[0m",
      "\u001b[1;31mNameError\u001b[0m: name 'pickle_vocab' is not defined"
     ]
    }
   ],
   "source": [
    "%matplotlib inline\n",
    "%load_ext autoreload\n",
    "%autoreload 2\n",
    "\n",
    "# change path if necessary\n",
    "import sys\n",
    "my_path = r'D:\\Documents\\etudes\\epfl\\MA1\\cours\\MachineLearning\\Project2'\n",
    "sys.path.insert(0,my_path + r'/code/COMMON')\n",
    "\n",
    "# imports\n",
    "import numpy as np \n",
    "import matplotlib.pyplot as plt\n",
    "import pickle"
   ]
  },
  {
   "cell_type": "markdown",
   "metadata": {},
   "source": [
    "# Build features through Matrix Factorization"
   ]
  },
  {
   "cell_type": "code",
   "execution_count": null,
   "metadata": {
    "collapsed": true
   },
   "outputs": [],
   "source": [
    "import os\n",
    "os.chdir(r'D:\\Documents\\etudes\\epfl\\MA1\\cours\\MachineLearning\\Project2\\data\\twitter_datasets_epfl')"
   ]
  },
  {
   "cell_type": "code",
   "execution_count": null,
   "metadata": {},
   "outputs": [],
   "source": [
    "from pickle_vocab import main as pickle_vocab\n",
    "\n",
    "os.system('build_vocab.sh')\n",
    "os.system('cut_vocab.sh')\n",
    "pickle_vocab()"
   ]
  },
  {
   "cell_type": "code",
   "execution_count": null,
   "metadata": {
    "scrolled": true
   },
   "outputs": [],
   "source": [
    "from cooc import main as cooc\n",
    "\n",
    "cooc()# cooccurrence matrix"
   ]
  },
  {
   "cell_type": "code",
   "execution_count": null,
   "metadata": {
    "collapsed": true
   },
   "outputs": [],
   "source": [
    "from glove_solution import main as glove\n",
    "\n",
    "glove()"
   ]
  },
  {
   "cell_type": "code",
   "execution_count": null,
   "metadata": {},
   "outputs": [],
   "source": [
    "X = np.load('embeddings.npy')\n",
    "print(X.shape)"
   ]
  },
  {
   "cell_type": "code",
   "execution_count": null,
   "metadata": {
    "collapsed": true
   },
   "outputs": [],
   "source": [
    "with open('vocab.pkl', 'rb') as f:\n",
    "    vocab = pickle.load(f)"
   ]
  },
  {
   "cell_type": "code",
   "execution_count": null,
   "metadata": {
    "collapsed": true
   },
   "outputs": [],
   "source": [
    "remove_list = [',']"
   ]
  },
  {
   "cell_type": "code",
   "execution_count": null,
   "metadata": {
    "collapsed": true
   },
   "outputs": [],
   "source": [
    "# build positive tweet feature set\n",
    "X_pos = []\n",
    "\n",
    "with open('train_pos.txt') as f:\n",
    "    \n",
    "    for line in f:\n",
    "        \n",
    "        tweet = line.lstrip().split()\n",
    "        tweet = ' '.join([word for word in tweet if word not in remove_list])\n",
    "\n",
    "        X_tweet = []\n",
    "        for w, word in enumerate(tweet.split()):\n",
    "\n",
    "            if word in vocab:\n",
    "                X_tweet.append(X[vocab.get(word),:])\n",
    "                \n",
    "        if X_tweet:\n",
    "            X_pos.append(list(np.mean(X_tweet, 0)))\n",
    "        \n",
    "    X_pos = np.array(X_pos)"
   ]
  },
  {
   "cell_type": "code",
   "execution_count": null,
   "metadata": {
    "collapsed": true
   },
   "outputs": [],
   "source": [
    "# build negative tweet feature set\n",
    "X_neg = []\n",
    "\n",
    "with open('train_neg.txt') as f:\n",
    "    \n",
    "    for line in f:\n",
    "        \n",
    "        tweet = line.lstrip().split()\n",
    "        tweet = ' '.join([word for word in tweet if word not in remove_list])\n",
    "\n",
    "        X_tweet = []\n",
    "        for w, word in enumerate(tweet.split()):\n",
    "\n",
    "            if word in vocab:\n",
    "                X_tweet.append(X[vocab.get(word),:])\n",
    "                \n",
    "        if X_tweet:\n",
    "            X_neg.append(list(np.mean(X_tweet, 0)))\n",
    "        \n",
    "    X_neg = np.array(X_neg)     "
   ]
  },
  {
   "cell_type": "code",
   "execution_count": null,
   "metadata": {
    "collapsed": true
   },
   "outputs": [],
   "source": [
    "y_pos = np.ones(X_pos.shape[0])\n",
    "y_neg = -np.ones(X_neg.shape[0])"
   ]
  },
  {
   "cell_type": "code",
   "execution_count": null,
   "metadata": {
    "scrolled": true
   },
   "outputs": [],
   "source": [
    "print(X_pos.shape)\n",
    "print(X_neg.shape)"
   ]
  },
  {
   "cell_type": "code",
   "execution_count": null,
   "metadata": {
    "collapsed": true
   },
   "outputs": [],
   "source": [
    "X_pos_neg = np.concatenate([X_pos, X_neg])\n",
    "y_pos_neg = np.concatenate([y_pos, y_neg])"
   ]
  },
  {
   "cell_type": "markdown",
   "metadata": {},
   "source": [
    "# Training and testing sets"
   ]
  },
  {
   "cell_type": "code",
   "execution_count": null,
   "metadata": {
    "collapsed": true,
    "scrolled": true
   },
   "outputs": [],
   "source": [
    "ind = np.arange(y_pos_neg.shape[0])\n",
    "np.random.shuffle(ind)\n",
    "\n",
    "r = 0.7\n",
    "ir = round(r*X_pos_neg.shape[0])\n",
    "\n",
    "X_tr = X_pos_neg[ind[:ir],:]\n",
    "X_te = X_pos_neg[ind[ir:],:]\n",
    "y_tr = y_pos_neg[ind[:ir]]\n",
    "y_te = y_pos_neg[ind[ir:]]"
   ]
  },
  {
   "cell_type": "markdown",
   "metadata": {},
   "source": [
    "# SVM "
   ]
  },
  {
   "cell_type": "code",
   "execution_count": null,
   "metadata": {},
   "outputs": [],
   "source": [
    "from sklearn.svm import SVC\n",
    "\n",
    "clf = SVC()\n",
    "clf.fit(X_pos_neg, y_pos_neg) "
   ]
  },
  {
   "cell_type": "markdown",
   "metadata": {},
   "source": [
    "# Submission"
   ]
  },
  {
   "cell_type": "code",
   "execution_count": null,
   "metadata": {
    "collapsed": true
   },
   "outputs": [],
   "source": [
    "X_test = []\n",
    "ids_test = []\n",
    "\n",
    "with open('my_test.txt') as f:\n",
    "    \n",
    "    for line in f:\n",
    "        print(line)\n",
    "        id_ = line.lstrip().split(',')[0]\n",
    "        ids_test.append(id_)\n",
    "        tweet = line.lstrip().split(',')[1]\n",
    "        print(id_)\n",
    "        print(tweet)\n",
    "        tweet = ' '.join([word for word in tweet if word not in remove_list])\n",
    "\n",
    "        X_tweet = []\n",
    "        for w, word in enumerate(tweet.split()):\n",
    "\n",
    "            if word in vocab:\n",
    "                X_tweet.append(X[vocab.get(word),:])\n",
    "                \n",
    "        if X_tweet:\n",
    "            X_test.append(list(np.mean(X_tweet, 0)))\n",
    "        \n",
    "X_test = np.array(X_test)\n",
    "ids_test = np.array(ids_test)"
   ]
  },
  {
   "cell_type": "code",
   "execution_count": null,
   "metadata": {
    "collapsed": true
   },
   "outputs": [],
   "source": [
    "y_pred = clf.predict(X_test)"
   ]
  },
  {
   "cell_type": "code",
   "execution_count": null,
   "metadata": {
    "collapsed": true
   },
   "outputs": [],
   "source": [
    "from create_csv_submission import create_csv_submission\n",
    "\n",
    "name = 'sub512'\n",
    "create_csv_submission(ids_test, y_pred, name)"
   ]
  },
  {
   "cell_type": "code",
   "execution_count": null,
   "metadata": {
    "collapsed": true
   },
   "outputs": [],
   "source": []
  }
 ],
 "metadata": {
  "kernelspec": {
   "display_name": "Python 3",
   "language": "python",
   "name": "python3"
  }
 },
 "nbformat": 4,
 "nbformat_minor": 2
}
