{
 "cells": [
  {
   "cell_type": "code",
   "execution_count": 28,
   "metadata": {
    "scrolled": true
   },
   "outputs": [
    {
     "name": "stdout",
     "output_type": "stream",
     "text": [
      "The autoreload extension is already loaded. To reload it, use:\n",
      "  %reload_ext autoreload\n"
     ]
    }
   ],
   "source": [
    "%matplotlib inline\n",
    "%load_ext autoreload\n",
    "%autoreload 2\n",
    "\n",
    "# change path if necessary\n",
    "import sys\n",
    "my_path = r'D:\\Documents\\etudes\\epfl\\MA1\\cours\\MachineLearning\\Project2'\n",
    "sys.path.insert(0,my_path + r'/code/tom')\n",
    "from preprocessings import preprocess_txt_file\n",
    "from preprocessings import process"
   ]
  },
  {
   "cell_type": "markdown",
   "metadata": {},
   "source": [
    "# simple example to test"
   ]
  },
  {
   "cell_type": "code",
   "execution_count": 29,
   "metadata": {
    "scrolled": true
   },
   "outputs": [
    {
     "data": {
      "text/plain": [
       "'i have been you are <smile> ! <repeat> <url> <heart> <number>'"
      ]
     },
     "execution_count": 29,
     "metadata": {},
     "output_type": "execute_result"
    }
   ],
   "source": [
    "process(\"I've been you're :) !!! www.site.com <3 3.111    \")"
   ]
  },
  {
   "cell_type": "code",
   "execution_count": 30,
   "metadata": {},
   "outputs": [
    {
     "name": "stdout",
     "output_type": "stream",
     "text": [
      "Number of duplicates:  0\n",
      "(!!! One new empty line added at the end !!!)\n"
     ]
    }
   ],
   "source": [
    "import os \n",
    "os.chdir(r'D:\\Documents\\etudes\\epfl\\MA1\\cours\\MachineLearning\\Project2\\data\\twitter_datasets_epfl\\full')\n",
    "preprocess_txt_file('example.txt', 'example_proccessed.txt', removeDuplicates=True)"
   ]
  },
  {
   "cell_type": "markdown",
   "metadata": {},
   "source": [
    "# FULL"
   ]
  },
  {
   "cell_type": "code",
   "execution_count": 46,
   "metadata": {
    "collapsed": true
   },
   "outputs": [],
   "source": [
    "import os \n",
    "os.chdir(r'D:\\Documents\\etudes\\epfl\\MA1\\cours\\MachineLearning\\Project2\\data\\twitter_datasets_epfl\\full')"
   ]
  },
  {
   "cell_type": "code",
   "execution_count": 47,
   "metadata": {
    "collapsed": true
   },
   "outputs": [],
   "source": [
    "# remove id in 'test_data.txt'\n",
    "outfile = open('test_data_no_id.txt', \"w\", encoding='utf-8-sig')\n",
    "with open('test_data.txt', 'r', encoding='utf-8-sig') as f:\n",
    "    for line in f:\n",
    "        tweet = line.split(',')[1:]\n",
    "        outfile.write(''.join(tweet))      \n",
    "outfile.close()"
   ]
  },
  {
   "cell_type": "code",
   "execution_count": 48,
   "metadata": {},
   "outputs": [
    {
     "name": "stdout",
     "output_type": "stream",
     "text": [
      "Eventual duplicates not removed.\n",
      "(!!! One new empty line added at the end !!!)\n"
     ]
    }
   ],
   "source": [
    "# test data\n",
    "infilename = 'test_data_no_id.txt'\n",
    "outfilename = infilename[:-4] + '_processed.txt'\n",
    "preprocess_txt_file(infilename, outfilename, removeDuplicates=False)"
   ]
  },
  {
   "cell_type": "code",
   "execution_count": 49,
   "metadata": {},
   "outputs": [
    {
     "name": "stdout",
     "output_type": "stream",
     "text": [
      "Number of duplicates:  107162\n",
      "(!!! One new empty line added at the end !!!)\n"
     ]
    }
   ],
   "source": [
    "# train_neg_full\n",
    "infilename = 'train_neg_full.txt'\n",
    "outfilename = infilename[:-4] + '_processed.txt'\n",
    "preprocess_txt_file(infilename, outfilename, removeDuplicates=True)"
   ]
  },
  {
   "cell_type": "code",
   "execution_count": 50,
   "metadata": {},
   "outputs": [
    {
     "name": "stdout",
     "output_type": "stream",
     "text": [
      "Number of duplicates:  122356\n",
      "(!!! One new empty line added at the end !!!)\n"
     ]
    }
   ],
   "source": [
    "# train_pos_full\n",
    "infilename = 'train_pos_full.txt'\n",
    "outfilename = infilename[:-4] + '_processed.txt'\n",
    "preprocess_txt_file(infilename, outfilename, removeDuplicates=True)"
   ]
  },
  {
   "cell_type": "code",
   "execution_count": 51,
   "metadata": {
    "collapsed": true
   },
   "outputs": [],
   "source": [
    "# concatenate \n",
    "filenames = ['train_pos_full_processed.txt', 'train_neg_full_processed.txt', 'test_data_no_id_processed.txt']\n",
    "with open('all_full_processed.txt', 'w', encoding='utf-8-sig') as outfile:\n",
    "    for fname in filenames:\n",
    "        with open(fname, 'r', encoding='utf-8-sig') as infile:\n",
    "            for line in infile:\n",
    "                outfile.write(line)"
   ]
  },
  {
   "cell_type": "markdown",
   "metadata": {},
   "source": [
    "# Short"
   ]
  },
  {
   "cell_type": "code",
   "execution_count": 39,
   "metadata": {
    "collapsed": true
   },
   "outputs": [],
   "source": [
    "import os \n",
    "os.chdir(r'D:\\Documents\\etudes\\epfl\\MA1\\cours\\MachineLearning\\Project2\\data\\twitter_datasets_epfl\\short')"
   ]
  },
  {
   "cell_type": "code",
   "execution_count": 40,
   "metadata": {
    "collapsed": true
   },
   "outputs": [],
   "source": [
    "# remove id in 'test_data.txt'\n",
    "outfile = open('test_data_no_id.txt', \"w\", encoding='utf-8-sig')\n",
    "with open('test_data.txt', 'r', encoding='utf-8-sig') as f:\n",
    "    for line in f:\n",
    "        tweet = line.split(',')[1:]\n",
    "        outfile.write(''.join(tweet))  "
   ]
  },
  {
   "cell_type": "code",
   "execution_count": 41,
   "metadata": {},
   "outputs": [
    {
     "name": "stdout",
     "output_type": "stream",
     "text": [
      "Eventual duplicates not removed.\n",
      "(!!! One new empty line added at the end !!!)\n"
     ]
    }
   ],
   "source": [
    "# test data\n",
    "infilename = 'test_data_no_id.txt'\n",
    "outfilename = infilename[:-4] + '_processed.txt'\n",
    "preprocess_txt_file(infilename, outfilename, removeDuplicates=False)"
   ]
  },
  {
   "cell_type": "code",
   "execution_count": 42,
   "metadata": {},
   "outputs": [
    {
     "name": "stdout",
     "output_type": "stream",
     "text": [
      "Number of duplicates:  9767\n",
      "(!!! One new empty line added at the end !!!)\n"
     ]
    }
   ],
   "source": [
    "# train_pos\n",
    "infilename = 'train_pos.txt'\n",
    "outfilename = infilename[:-4] + '_processed.txt'\n",
    "preprocess_txt_file(infilename, outfilename, removeDuplicates=True)"
   ]
  },
  {
   "cell_type": "code",
   "execution_count": 43,
   "metadata": {},
   "outputs": [
    {
     "name": "stdout",
     "output_type": "stream",
     "text": [
      "Number of duplicates:  8912\n",
      "(!!! One new empty line added at the end !!!)\n"
     ]
    }
   ],
   "source": [
    "# train_neg\n",
    "infilename = 'train_neg.txt'\n",
    "outfilename = infilename[:-4] + '_processed.txt'\n",
    "preprocess_txt_file(infilename, outfilename, removeDuplicates=True)"
   ]
  },
  {
   "cell_type": "code",
   "execution_count": 45,
   "metadata": {
    "collapsed": true
   },
   "outputs": [],
   "source": [
    "# concatenate \n",
    "filenames = ['train_pos_processed.txt', 'train_neg_processed.txt', 'test_data_no_id_processed.txt']\n",
    "with open('all_short_processed.txt', \"w\", encoding='utf-8-sig') as outfile:\n",
    "    for fname in filenames:\n",
    "        with open(fname, 'r', encoding='utf-8-sig') as infile:\n",
    "            for line in infile:\n",
    "                outfile.write(line)\n",
    "        infile.close()\n",
    "outfile.close()"
   ]
  },
  {
   "cell_type": "code",
   "execution_count": null,
   "metadata": {
    "collapsed": true
   },
   "outputs": [],
   "source": []
  }
 ],
 "metadata": {
  "kernelspec": {
   "display_name": "Python 3",
   "language": "python",
   "name": "python3"
  },
  "language_info": {
   "codemirror_mode": {
    "name": "ipython",
    "version": 3
   },
   "file_extension": ".py",
   "mimetype": "text/x-python",
   "name": "python",
   "nbconvert_exporter": "python",
   "pygments_lexer": "ipython3",
   "version": "3.6.1"
  }
 },
 "nbformat": 4,
 "nbformat_minor": 2
}
