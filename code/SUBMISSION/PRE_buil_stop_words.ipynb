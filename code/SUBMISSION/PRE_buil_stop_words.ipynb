{
 "cells": [
  {
   "cell_type": "code",
   "execution_count": 1,
   "metadata": {
    "collapsed": true
   },
   "outputs": [],
   "source": [
    "%load_ext autoreload\n",
    "%autoreload 2\n",
    "\n",
    "import numpy as np\n",
    "import os"
   ]
  },
  {
   "cell_type": "code",
   "execution_count": 2,
   "metadata": {
    "collapsed": true
   },
   "outputs": [],
   "source": [
    "def read_vocab(filename):\n",
    "    \n",
    "    dict_ = {}\n",
    "    with open(filename, 'r', encoding='utf-8-sig') as datafile:\n",
    "        for line in datafile:\n",
    "            occurence = line.strip().split()[0]\n",
    "            word = line.strip().split()[1]\n",
    "            dict_[word] = int(occurence)\n",
    "    return dict_"
   ]
  },
  {
   "cell_type": "code",
   "execution_count": 3,
   "metadata": {
    "collapsed": true
   },
   "outputs": [],
   "source": [
    "import os\n",
    "os.chdir(r'D:/Documents/etudes/epfl/MA1/cours/MachineLearning/Project2/data/twitter_datasets_epfl/full/')"
   ]
  },
  {
   "cell_type": "code",
   "execution_count": null,
   "metadata": {
    "collapsed": true
   },
   "outputs": [],
   "source": [
    "#  vocab pos\n",
    "os.system('build_vocab_pos_full.sh')\n",
    "os.system('cut_vocab_pos_full.sh')\n",
    "\n",
    "#  vocab neg\n",
    "os.system('build_vocab_neg_full.sh')\n",
    "os.system('cut_vocab_neg_full.sh')"
   ]
  },
  {
   "cell_type": "code",
   "execution_count": 4,
   "metadata": {},
   "outputs": [
    {
     "ename": "FileNotFoundError",
     "evalue": "[Errno 2] No such file or directory: 'cut_vocab_pos_full.txt'",
     "output_type": "error",
     "traceback": [
      "\u001b[1;31m---------------------------------------------------------------------------\u001b[0m",
      "\u001b[1;31mFileNotFoundError\u001b[0m                         Traceback (most recent call last)",
      "\u001b[1;32m<ipython-input-4-da6e69f57406>\u001b[0m in \u001b[0;36m<module>\u001b[1;34m()\u001b[0m\n\u001b[0;32m      1\u001b[0m \u001b[1;31m# read the vocabs\u001b[0m\u001b[1;33m\u001b[0m\u001b[1;33m\u001b[0m\u001b[0m\n\u001b[1;32m----> 2\u001b[1;33m \u001b[0mvocab_neg\u001b[0m \u001b[1;33m=\u001b[0m \u001b[0mread_vocab\u001b[0m\u001b[1;33m(\u001b[0m\u001b[1;34m'cut_vocab_pos_full.txt'\u001b[0m\u001b[1;33m)\u001b[0m\u001b[1;33m\u001b[0m\u001b[0m\n\u001b[0m\u001b[0;32m      3\u001b[0m \u001b[0mvocab_pos\u001b[0m \u001b[1;33m=\u001b[0m \u001b[0mread_vocab\u001b[0m\u001b[1;33m(\u001b[0m\u001b[1;34m'cut_vocab_neg_full.txt'\u001b[0m\u001b[1;33m)\u001b[0m\u001b[1;33m\u001b[0m\u001b[0m\n",
      "\u001b[1;32m<ipython-input-2-49fa14e6511b>\u001b[0m in \u001b[0;36mread_vocab\u001b[1;34m(filename)\u001b[0m\n\u001b[0;32m      2\u001b[0m \u001b[1;33m\u001b[0m\u001b[0m\n\u001b[0;32m      3\u001b[0m     \u001b[0mdict_\u001b[0m \u001b[1;33m=\u001b[0m \u001b[1;33m{\u001b[0m\u001b[1;33m}\u001b[0m\u001b[1;33m\u001b[0m\u001b[0m\n\u001b[1;32m----> 4\u001b[1;33m     \u001b[1;32mwith\u001b[0m \u001b[0mopen\u001b[0m\u001b[1;33m(\u001b[0m\u001b[0mfilename\u001b[0m\u001b[1;33m,\u001b[0m \u001b[1;34m'r'\u001b[0m\u001b[1;33m,\u001b[0m \u001b[0mencoding\u001b[0m\u001b[1;33m=\u001b[0m\u001b[1;34m'utf-8-sig'\u001b[0m\u001b[1;33m)\u001b[0m \u001b[1;32mas\u001b[0m \u001b[0mdatafile\u001b[0m\u001b[1;33m:\u001b[0m\u001b[1;33m\u001b[0m\u001b[0m\n\u001b[0m\u001b[0;32m      5\u001b[0m         \u001b[1;32mfor\u001b[0m \u001b[0mline\u001b[0m \u001b[1;32min\u001b[0m \u001b[0mdatafile\u001b[0m\u001b[1;33m:\u001b[0m\u001b[1;33m\u001b[0m\u001b[0m\n\u001b[0;32m      6\u001b[0m             \u001b[0moccurence\u001b[0m \u001b[1;33m=\u001b[0m \u001b[0mline\u001b[0m\u001b[1;33m.\u001b[0m\u001b[0mstrip\u001b[0m\u001b[1;33m(\u001b[0m\u001b[1;33m)\u001b[0m\u001b[1;33m.\u001b[0m\u001b[0msplit\u001b[0m\u001b[1;33m(\u001b[0m\u001b[1;33m)\u001b[0m\u001b[1;33m[\u001b[0m\u001b[1;36m0\u001b[0m\u001b[1;33m]\u001b[0m\u001b[1;33m\u001b[0m\u001b[0m\n",
      "\u001b[1;31mFileNotFoundError\u001b[0m: [Errno 2] No such file or directory: 'cut_vocab_pos_full.txt'"
     ]
    }
   ],
   "source": [
    "# read the vocabs\n",
    "vocab_neg = read_vocab('vocab_pos_full.txt')\n",
    "vocab_pos = read_vocab('vocab_neg_full.txt')"
   ]
  },
  {
   "cell_type": "code",
   "execution_count": null,
   "metadata": {
    "collapsed": true
   },
   "outputs": [],
   "source": [
    "import operator\n",
    "\n",
    "def extract_most_freq(vocab_dict, max_words=10):\n",
    "    \n",
    "    most_freq_words = []\n",
    "    vocab_list_sorted = sorted(vocab_dict.copy().items(), key=operator.itemgetter(1), reverse = True)\n",
    "\n",
    "    for i in range(max_words):\n",
    "        most_freq_words.append((vocab_list_sorted[i][0], vocab_list_sorted[i][1]))\n",
    "    \n",
    "    return most_freq_words"
   ]
  },
  {
   "cell_type": "code",
   "execution_count": null,
   "metadata": {},
   "outputs": [],
   "source": [
    "most_neg = extract_most_freq(vocab_neg, max_words=10)\n",
    "print(\"\\n\".join(\"{}\\t{}\".format(x[0], x[1]) for x in most_neg))"
   ]
  },
  {
   "cell_type": "code",
   "execution_count": null,
   "metadata": {},
   "outputs": [],
   "source": [
    "most_pos = extract_most_freq(vocab_pos, max_words=10)\n",
    "print(\"\\n\".join(\"{}\\t{}\".format(x[0], x[1]) for x in most_pos))"
   ]
  },
  {
   "cell_type": "code",
   "execution_count": null,
   "metadata": {
    "collapsed": true
   },
   "outputs": [],
   "source": [
    "def word_ratio_neg_pos(vocab_dict_neg, vocab_dict_pos):\n",
    "    \n",
    "    word_ratio = {}\n",
    "\n",
    "    # scan negative tweets\n",
    "    for word_neg, occu_neg in vocab_dict_neg.items():  \n",
    "        \n",
    "        # if word in both neg and pos vocab\n",
    "        if word_neg in vocab_dict_pos:\n",
    "            \n",
    "            # get occurence in positive tweets\n",
    "            occu_pos = vocab_dict_pos.get(word_neg)\n",
    "            \n",
    "            # compute the ratio\n",
    "            word_ratio[word_neg] = [occu_neg/occu_pos, occu_neg, occu_pos]\n",
    "            \n",
    "    return word_ratio"
   ]
  },
  {
   "cell_type": "code",
   "execution_count": null,
   "metadata": {
    "collapsed": true
   },
   "outputs": [],
   "source": [
    "freq_min = 1\n",
    "vocab_neg_thr = {k: v for k, v in vocab_neg.copy().items() if v > freq_min}\n",
    "vocab_pos_thr = {k: v for k, v in vocab_pos.copy().items() if v > freq_min}"
   ]
  },
  {
   "cell_type": "code",
   "execution_count": null,
   "metadata": {
    "collapsed": true
   },
   "outputs": [],
   "source": [
    "word_ratio = word_ratio_neg_pos(vocab_neg_thr, vocab_pos_thr)"
   ]
  },
  {
   "cell_type": "code",
   "execution_count": null,
   "metadata": {},
   "outputs": [],
   "source": [
    "print(word_ratio.get('happy'))\n",
    "print(word_ratio.get('not'))"
   ]
  },
  {
   "cell_type": "code",
   "execution_count": null,
   "metadata": {},
   "outputs": [],
   "source": [
    "# build exclusion vocab with stop words\n",
    "ratio_margin = 0.1\n",
    "freq_min = 100\n",
    "stop_vocab = {}\n",
    "\n",
    "for word, values in word_ratio.items():\n",
    "    \n",
    "    ratio = values[0]\n",
    "    occu_neg = values[1]\n",
    "    occu_pos = values[2]\n",
    "    \n",
    "    # remove non discriminant word\n",
    "    if ratio > 1 - ratio_margin and ratio < 1 + ratio_margin:\n",
    "        stop_vocab[word] = values\n",
    "        \n",
    "    # remove unfrequent word\n",
    "    if occu_neg < freq_min and occu_pos < freq_min:\n",
    "        stop_vocab[word] = values\n",
    "    \n",
    "print(\"Number of stop words: \", len(stop_vocab))"
   ]
  },
  {
   "cell_type": "code",
   "execution_count": null,
   "metadata": {},
   "outputs": [],
   "source": [
    "print(\"\\n\".join(\"{}\\t{}\".format(k,v) for k,v in stop_vocab.items()))"
   ]
  },
  {
   "cell_type": "code",
   "execution_count": null,
   "metadata": {
    "collapsed": true
   },
   "outputs": [],
   "source": [
    "import os\n",
    "os.chdir(r'D:/Documents/etudes/epfl/MA1/cours/MachineLearning/Project2/data/stop_words/')"
   ]
  },
  {
   "cell_type": "code",
   "execution_count": null,
   "metadata": {
    "collapsed": true
   },
   "outputs": [],
   "source": [
    "# write stop word in a text\n",
    "outputfilename = \"stop_word_\" + \"freq_min_\" + str(freq_min) + \"_ratio_marg_\" + str(ratio_margin) + \".txt\"\n",
    "with open(outputfilename, 'w', encoding='utf-8-sig') as outfile:\n",
    "    for word, value in stop_vocab.items():\n",
    "        outfile.write(word)   \n",
    "        outfile.write(\"\\n\")      \n",
    "outfile.close()"
   ]
  }
 ],
 "metadata": {
  "kernelspec": {
   "display_name": "Python 3",
   "language": "python",
   "name": "python3"
  },
  "language_info": {
   "codemirror_mode": {
    "name": "ipython",
    "version": 3
   },
   "file_extension": ".py",
   "mimetype": "text/x-python",
   "name": "python",
   "nbconvert_exporter": "python",
   "pygments_lexer": "ipython3",
   "version": "3.6.1"
  }
 },
 "nbformat": 4,
 "nbformat_minor": 2
}
