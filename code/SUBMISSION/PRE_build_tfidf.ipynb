{
 "cells": [
  {
   "cell_type": "markdown",
   "metadata": {},
   "source": [
    "# Setup"
   ]
  },
  {
   "cell_type": "code",
   "execution_count": 1,
   "metadata": {
    "collapsed": true,
    "scrolled": false
   },
   "outputs": [],
   "source": [
    "%load_ext autoreload\n",
    "%autoreload 2\n",
    "\n",
    "# modules\n",
    "import numpy as np \n",
    "import os"
   ]
  },
  {
   "cell_type": "markdown",
   "metadata": {},
   "source": [
    "# Build Term Frequency inverse Document Frequency (TFiDF)"
   ]
  },
  {
   "cell_type": "code",
   "execution_count": 2,
   "metadata": {
    "collapsed": true
   },
   "outputs": [],
   "source": [
    "def build_tfidf(filename_vocab, filename_tweet, min_tf, min_idf):\n",
    "    \n",
    "    tfidf_dict = {}\n",
    "\n",
    "    # term frequency (tf) \n",
    "    print(\"Read the term frequencies...\")\n",
    "    with open(filename_vocab, 'r', encoding='utf-8') as datafile:\n",
    "        for line in datafile:\n",
    "            tf = int(line.strip().split()[0])\n",
    "            word = line.strip().split()[1]\n",
    "            if '\\ufeff' in word:\n",
    "                word = \"<user>\"\n",
    "            if tf > min_tf:\n",
    "                tfidf_dict[word] = [1 + np.log(tf), 0]\n",
    "            else: \n",
    "                tfidf_dict[word] = [0, 0]\n",
    "                \n",
    "    # inverse document frequency (idf)\n",
    "    print(\"Compute the inverse document frequencies...\")\n",
    "    N_tweet = 0\n",
    "    with open(filename_tweet, 'r', encoding='utf-8') as datafile:\n",
    "        for line in datafile:\n",
    "            N_tweet += 1\n",
    "            for word in line.split(' '):\n",
    "                if word in tfidf_dict:\n",
    "                     tfidf_dict[word][1] += 1\n",
    "    print(\"Number of tweets analized: \", N_tweet)\n",
    "\n",
    "    # apply normalization\n",
    "    print(\"Apply log smooth normalization to the tf and idf...\")\n",
    "    for word, freq in tfidf_dict.items():\n",
    "        tf = freq[0]\n",
    "        idf = freq[1]\n",
    "        if idf > min_idf and tf > 0:\n",
    "            tfidf_dict[word] = [1+np.log(tf), np.log(1+N_tweet/idf)] \n",
    "    print(\"Finished.\")\n",
    "    \n",
    "    return tfidf_dict\n"
   ]
  },
  {
   "cell_type": "code",
   "execution_count": 3,
   "metadata": {
    "collapsed": true
   },
   "outputs": [],
   "source": [
    "# adapt path\n",
    "os.chdir(r'D:/Documents/etudes/epfl/MA1/cours/MachineLearning/Project2/data/twitter_datasets_epfl/full/')"
   ]
  },
  {
   "cell_type": "code",
   "execution_count": 4,
   "metadata": {
    "scrolled": false
   },
   "outputs": [
    {
     "name": "stdout",
     "output_type": "stream",
     "text": [
      "Read the term frequencies...\n",
      "Compute the inverse document frequencies...\n",
      "Number of tweets analized:  2280482\n",
      "Apply log smooth normalization to the tf and idf...\n",
      "Finished.\n"
     ]
    }
   ],
   "source": [
    "# read word occurences in a dictionary\n",
    "filename_vocab = 'vocab_all_full_processed.txt'\n",
    "filename_tweet = 'all_full_processed.txt'\n",
    "min_tf = 100\n",
    "min_idf = 100\n",
    "tfidf = build_tfidf(filename_vocab, filename_tweet, min_tf, min_idf)"
   ]
  },
  {
   "cell_type": "markdown",
   "metadata": {},
   "source": [
    "# Save the tfidf in a text file"
   ]
  },
  {
   "cell_type": "code",
   "execution_count": 5,
   "metadata": {
    "collapsed": true
   },
   "outputs": [],
   "source": [
    "# adapt path\n",
    "os.chdir(r'D:/Documents/etudes/epfl/MA1/cours/MachineLearning/Project2/data/tfidf/')"
   ]
  },
  {
   "cell_type": "code",
   "execution_count": null,
   "metadata": {
    "collapsed": true
   },
   "outputs": [],
   "source": [
    "# filename\n",
    "filenameout = 'tfidf.txt'\n",
    "\n",
    "# write\n",
    "with open(filenameout, 'w', encoding='utf-8-sig') as datafile:\n",
    "    datafile.write(\"word tf idf\")\n",
    "    for word, freq in tfidf.items():\n",
    "        line = word + ' ' + str(freq[0]) + ' ' + str(freq[1])\n",
    "        datafile.write(line)\n",
    "        datafile.write(\"\\n\")"
   ]
  }
 ],
 "metadata": {
  "kernelspec": {
   "display_name": "Python 3",
   "language": "python",
   "name": "python3"
  },
  "language_info": {
   "codemirror_mode": {
    "name": "ipython",
    "version": 3
   },
   "file_extension": ".py",
   "mimetype": "text/x-python",
   "name": "python",
   "nbconvert_exporter": "python",
   "pygments_lexer": "ipython3",
   "version": "3.6.1"
  }
 },
 "nbformat": 4,
 "nbformat_minor": 2
}
