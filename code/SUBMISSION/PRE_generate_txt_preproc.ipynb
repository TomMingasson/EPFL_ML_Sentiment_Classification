{
 "cells": [
  {
   "cell_type": "markdown",
   "metadata": {},
   "source": [
    "# Setup"
   ]
  },
  {
   "cell_type": "code",
   "execution_count": null,
   "metadata": {
    "collapsed": true,
    "scrolled": true
   },
   "outputs": [],
   "source": [
    "%matplotlib inline\n",
    "%load_ext autoreload\n",
    "%autoreload 2\n",
    "\n",
    "# preprocessing function\n",
    "from preprocessings import preprocess_txt_file\n",
    "\n",
    "# other\n",
    "import os "
   ]
  },
  {
   "cell_type": "markdown",
   "metadata": {},
   "source": [
    "# Pre-process the FULL tweet positive and negative collections"
   ]
  },
  {
   "cell_type": "code",
   "execution_count": null,
   "metadata": {
    "collapsed": true
   },
   "outputs": [],
   "source": [
    "# adapt path\n",
    "os.chdir(r'D:\\Documents\\etudes\\epfl\\MA1\\cours\\MachineLearning\\Project2\\data\\twitter_datasets_epfl\\full')"
   ]
  },
  {
   "cell_type": "code",
   "execution_count": null,
   "metadata": {
    "collapsed": true
   },
   "outputs": [],
   "source": [
    "# remove id in 'test_data.txt'\n",
    "outfile = open('test_data_no_id.txt', \"w\", encoding='utf-8-sig')\n",
    "with open('test_data.txt', 'r', encoding='utf-8-sig') as f:\n",
    "    for line in f:\n",
    "        tweet = line.split(',')[1:]\n",
    "        outfile.write(''.join(tweet))      \n",
    "outfile.close()"
   ]
  },
  {
   "cell_type": "code",
   "execution_count": null,
   "metadata": {
    "collapsed": true
   },
   "outputs": [],
   "source": [
    "# test data\n",
    "infilename = 'test_data_no_id.txt'\n",
    "outfilename = infilename[:-4] + '_processed.txt'\n",
    "preprocess_txt_file(infilename, outfilename, removeDuplicates=False)"
   ]
  },
  {
   "cell_type": "code",
   "execution_count": null,
   "metadata": {
    "collapsed": true
   },
   "outputs": [],
   "source": [
    "# train_neg_full\n",
    "infilename = 'train_neg_full.txt'\n",
    "outfilename = infilename[:-4] + '_processed.txt'\n",
    "preprocess_txt_file(infilename, outfilename, removeDuplicates=True)"
   ]
  },
  {
   "cell_type": "code",
   "execution_count": null,
   "metadata": {
    "collapsed": true
   },
   "outputs": [],
   "source": [
    "# train_pos_full\n",
    "infilename = 'train_pos_full.txt'\n",
    "outfilename = infilename[:-4] + '_processed.txt'\n",
    "preprocess_txt_file(infilename, outfilename, removeDuplicates=True)"
   ]
  },
  {
   "cell_type": "code",
   "execution_count": null,
   "metadata": {
    "collapsed": true
   },
   "outputs": [],
   "source": [
    "# concatenate \n",
    "filenames = ['train_pos_full_processed.txt', 'train_neg_full_processed.txt', 'test_data_no_id_processed.txt']\n",
    "with open('all_full_processed.txt', 'w', encoding='utf-8-sig') as outfile:\n",
    "    for fname in filenames:\n",
    "        with open(fname, 'r', encoding='utf-8-sig') as infile:\n",
    "            for line in infile:\n",
    "                outfile.write(line)"
   ]
  },
  {
   "cell_type": "markdown",
   "metadata": {},
   "source": [
    "# Pre-process the SHORT tweet positive and negative collections"
   ]
  },
  {
   "cell_type": "code",
   "execution_count": null,
   "metadata": {
    "collapsed": true
   },
   "outputs": [],
   "source": [
    "# adapt path\n",
    "os.chdir(r'D:\\Documents\\etudes\\epfl\\MA1\\cours\\MachineLearning\\Project2\\data\\twitter_datasets_epfl\\short')"
   ]
  },
  {
   "cell_type": "code",
   "execution_count": null,
   "metadata": {
    "collapsed": true
   },
   "outputs": [],
   "source": [
    "# remove id in 'test_data.txt'\n",
    "outfile = open('test_data_no_id.txt', \"w\", encoding='utf-8-sig')\n",
    "with open('test_data.txt', 'r', encoding='utf-8-sig') as f:\n",
    "    for line in f:\n",
    "        tweet = line.split(',')[1:]\n",
    "        outfile.write(''.join(tweet))  "
   ]
  },
  {
   "cell_type": "code",
   "execution_count": null,
   "metadata": {
    "collapsed": true
   },
   "outputs": [],
   "source": [
    "# test data\n",
    "infilename = 'test_data_no_id.txt'\n",
    "outfilename = infilename[:-4] + '_processed.txt'\n",
    "preprocess_txt_file(infilename, outfilename, removeDuplicates=False)"
   ]
  },
  {
   "cell_type": "code",
   "execution_count": null,
   "metadata": {
    "collapsed": true
   },
   "outputs": [],
   "source": [
    "# train_pos\n",
    "infilename = 'train_pos.txt'\n",
    "outfilename = infilename[:-4] + '_processed.txt'\n",
    "preprocess_txt_file(infilename, outfilename, removeDuplicates=True)"
   ]
  },
  {
   "cell_type": "code",
   "execution_count": null,
   "metadata": {
    "collapsed": true
   },
   "outputs": [],
   "source": [
    "# train_neg\n",
    "infilename = 'train_neg.txt'\n",
    "outfilename = infilename[:-4] + '_processed.txt'\n",
    "preprocess_txt_file(infilename, outfilename, removeDuplicates=True)"
   ]
  },
  {
   "cell_type": "code",
   "execution_count": null,
   "metadata": {
    "collapsed": true
   },
   "outputs": [],
   "source": [
    "# concatenate \n",
    "filenames = ['train_pos_processed.txt', 'train_neg_processed.txt', 'test_data_no_id_processed.txt']\n",
    "with open('all_short_processed.txt', \"w\", encoding='utf-8-sig') as outfile:\n",
    "    for fname in filenames:\n",
    "        with open(fname, 'r', encoding='utf-8-sig') as infile:\n",
    "            for line in infile:\n",
    "                outfile.write(line)\n",
    "        infile.close()\n",
    "outfile.close()"
   ]
  }
 ],
 "metadata": {
  "kernelspec": {
   "display_name": "Python 3",
   "language": "python",
   "name": "python3"
  },
  "language_info": {
   "codemirror_mode": {
    "name": "ipython",
    "version": 3
   },
   "file_extension": ".py",
   "mimetype": "text/x-python",
   "name": "python",
   "nbconvert_exporter": "python",
   "pygments_lexer": "ipython3",
   "version": "3.6.1"
  }
 },
 "nbformat": 4,
 "nbformat_minor": 2
}
