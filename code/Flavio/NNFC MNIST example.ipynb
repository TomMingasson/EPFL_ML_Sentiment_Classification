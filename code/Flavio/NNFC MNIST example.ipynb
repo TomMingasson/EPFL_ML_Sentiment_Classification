{
 "cells": [
  {
   "cell_type": "code",
   "execution_count": 3,
   "metadata": {
    "collapsed": true
   },
   "outputs": [],
   "source": [
    "import tensorflow as tf"
   ]
  },
  {
   "cell_type": "markdown",
   "metadata": {},
   "source": [
    "# Example with MNIST dataset"
   ]
  },
  {
   "cell_type": "code",
   "execution_count": 5,
   "metadata": {},
   "outputs": [
    {
     "name": "stdout",
     "output_type": "stream",
     "text": [
      "TensorFLow imported\n",
      "Extracting tmp/data/train-images-idx3-ubyte.gz\n",
      "Extracting tmp/data/train-labels-idx1-ubyte.gz\n",
      "Extracting tmp/data/t10k-images-idx3-ubyte.gz\n",
      "Extracting tmp/data/t10k-labels-idx1-ubyte.gz\n",
      "Data loaded\n",
      "Epoch 0 completed out of 20 loss: 1665577.77307\n",
      "Epoch 1 completed out of 20 loss: 387172.967516\n",
      "Epoch 2 completed out of 20 loss: 207676.153325\n",
      "Epoch 3 completed out of 20 loss: 120377.314398\n",
      "Epoch 4 completed out of 20 loss: 67405.8014398\n",
      "Epoch 5 completed out of 20 loss: 45422.2060228\n",
      "Epoch 6 completed out of 20 loss: 28810.3491093\n",
      "Epoch 7 completed out of 20 loss: 23129.4906805\n",
      "Epoch 8 completed out of 20 loss: 19304.0563766\n",
      "Epoch 9 completed out of 20 loss: 16574.6107382\n",
      "Epoch 10 completed out of 20 loss: 15154.5244332\n",
      "Epoch 11 completed out of 20 loss: 13466.0273048\n",
      "Epoch 12 completed out of 20 loss: 14943.4470334\n",
      "Epoch 13 completed out of 20 loss: 14684.4717692\n",
      "Epoch 14 completed out of 20 loss: 13630.6850181\n",
      "Epoch 15 completed out of 20 loss: 9878.4122062\n",
      "Epoch 16 completed out of 20 loss: 11255.0297544\n",
      "Epoch 17 completed out of 20 loss: 10230.7835152\n",
      "Epoch 18 completed out of 20 loss: 9912.26024343\n",
      "Epoch 19 completed out of 20 loss: 8295.31161523\n",
      "Accuracy: 0.9617\n"
     ]
    }
   ],
   "source": [
    "from tensorflow.examples.tutorials.mnist import input_data\n",
    "\n",
    "print('TensorFLow imported')\n",
    "\n",
    "mnist = input_data.read_data_sets(\"tmp/data/\", one_hot=True)\n",
    "\n",
    "print('Data loaded')\n",
    "\n",
    "n_nodes_hl1 = 500\n",
    "n_nodes_hl2 = 500\n",
    "n_nodes_hl3 = 500\n",
    "\n",
    "n_classes = 10\n",
    "batch_size = 100\n",
    "\n",
    "# input feature size = 28x28 pixels = 784\n",
    "x = tf.placeholder('float', [None, 784])\n",
    "y = tf.placeholder('float')\n",
    "\n",
    "#DEFINITION OF THE NETWORK:\n",
    "#1) random initialization of the various layer with respectives dimensions, the layer is a DICTIONARY of weigths and biases\n",
    "#2) application of weights and biases and activation function to each layer\n",
    "\n",
    "\n",
    "def neural_network_model(data):\n",
    " # input_data * weights + biases\n",
    "\n",
    " #tf.random_normal returns an array of the specified dimension filled with randomly distributed numbers\n",
    " #tf.Variable = object to be created that works in the tensorflow session, just a wrapper.\n",
    " hidden_l1 = {'weights': tf.Variable(tf.random_normal([784, n_nodes_hl1])),\n",
    "    'biases': tf.Variable(tf.random_normal([n_nodes_hl1]))}\n",
    "    \n",
    " hidden_l2 = {'weights': tf.Variable(tf.random_normal([n_nodes_hl1, n_nodes_hl2])),\n",
    "    'biases': tf.Variable(tf.random_normal([n_nodes_hl2]))}\n",
    "\n",
    " hidden_l3 = {'weights': tf.Variable(tf.random_normal([n_nodes_hl2, n_nodes_hl3])),\n",
    "    'biases': tf.Variable(tf.random_normal([n_nodes_hl3]))}\n",
    "\n",
    " output_l  = {'weights': tf.Variable(tf.random_normal([n_nodes_hl3, n_classes])),\n",
    "    'biases': tf.Variable(tf.random_normal([n_classes]))}\n",
    "\n",
    " l1 = tf.add(tf.matmul(data, hidden_l1['weights']), hidden_l1['biases'])\n",
    " l1 = tf.nn.relu(l1)\n",
    "\n",
    " l2 = tf.add(tf.matmul(l1, hidden_l2['weights']), hidden_l2['biases'])\n",
    " l2 = tf.nn.relu(l2)\n",
    "\n",
    " l3 = tf.add(tf.matmul(l2, hidden_l3['weights']), hidden_l3['biases'])\n",
    " l3 = tf.nn.relu(l3)\n",
    "\n",
    " output = tf.add(tf.matmul(l3, output_l['weights']), output_l['biases'])\n",
    " return output\n",
    "\n",
    "def train_neural_network(x):\n",
    " prediction = neural_network_model(x)\n",
    " cost = tf.reduce_mean(tf.nn.softmax_cross_entropy_with_logits(logits=prediction, labels=y))   # v1.0 changes\n",
    "  # optimizer value = 0.001, Adam similar to SGD\n",
    "  # everything is updating through this optimizer, i don't know how.... problem!? maybe better not to know\n",
    " optimizer = tf.train.AdamOptimizer().minimize(cost)\n",
    " epochs_no = 20\n",
    " \n",
    " with tf.Session() as sess:\n",
    "  sess.run(tf.global_variables_initializer())   # v1.0 changes\n",
    "  \n",
    "  # training\n",
    "  for epoch in range(epochs_no):\n",
    "   epoch_loss = 0\n",
    "   for _ in range(int(mnist.train.num_examples/batch_size)):\n",
    "    epoch_x, epoch_y = mnist.train.next_batch(batch_size)\n",
    "    _, c = sess.run([optimizer, cost], feed_dict = {x: epoch_x, y: epoch_y})\n",
    "      # code that optimizes the weights & biases\n",
    "    epoch_loss += c\n",
    "   print('Epoch', epoch, 'completed out of', epochs_no, 'loss:', epoch_loss)\n",
    "  \n",
    "  # testing\n",
    "  correct = tf.equal(tf.argmax(prediction, 1), tf.argmax(y, 1))\n",
    "  accuracy = tf.reduce_mean(tf.cast(correct, 'float'))\n",
    "  print('Accuracy:', accuracy.eval({x: mnist.test.images, y: mnist.test.labels}))\n",
    "\n",
    "train_neural_network(x)"
   ]
  },
  {
   "cell_type": "code",
   "execution_count": null,
   "metadata": {
    "collapsed": true
   },
   "outputs": [],
   "source": []
  }
 ],
 "metadata": {
  "kernelspec": {
   "display_name": "Python 3",
   "language": "python",
   "name": "python3"
  },
  "language_info": {
   "codemirror_mode": {
    "name": "ipython",
    "version": 3
   },
   "file_extension": ".py",
   "mimetype": "text/x-python",
   "name": "python",
   "nbconvert_exporter": "python",
   "pygments_lexer": "ipython3",
   "version": "3.6.2"
  }
 },
 "nbformat": 4,
 "nbformat_minor": 2
}
