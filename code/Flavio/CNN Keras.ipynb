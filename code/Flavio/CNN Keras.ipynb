{
 "cells": [
  {
   "cell_type": "code",
   "execution_count": 21,
   "metadata": {
    "collapsed": true
   },
   "outputs": [],
   "source": [
    "import numpy as np\n",
    "\n",
    "a = np.array([[1,2,3],[3,4,5],[5,6,7],[7,8,9]])"
   ]
  },
  {
   "cell_type": "code",
   "execution_count": 22,
   "metadata": {},
   "outputs": [
    {
     "data": {
      "text/plain": [
       "array([[1, 2, 3],\n",
       "       [3, 4, 5],\n",
       "       [5, 6, 7],\n",
       "       [7, 8, 9]])"
      ]
     },
     "execution_count": 22,
     "metadata": {},
     "output_type": "execute_result"
    }
   ],
   "source": [
    "a"
   ]
  },
  {
   "cell_type": "code",
   "execution_count": 23,
   "metadata": {},
   "outputs": [
    {
     "name": "stdout",
     "output_type": "stream",
     "text": [
      "[[5 6 7]\n",
      " [7 8 9]]\n"
     ]
    }
   ],
   "source": [
    "a = np.delete(a, range(0,2) ,0)\n",
    "print(a)"
   ]
  },
  {
   "cell_type": "code",
   "execution_count": null,
   "metadata": {
    "collapsed": true
   },
   "outputs": [],
   "source": [
    "%matplotlib inline\n",
    "%load_ext autoreload\n",
    "%autoreload 2\n",
    "\n",
    "# change path if necessary\n",
    "import sys\n",
    "my_path = r'C:\\Users\\utente\\Documents\\GitHub\\Project2'\n",
    "sys.path.insert(0,my_path + r'/code/Flavio')\n",
    "\n",
    "import matplotlib.pyplot as plt\n",
    "import numpy as np\n",
    "import os\n",
    "import tensorflow as tf\n",
    "print('TensorFlow imported')\n",
    "\n",
    "import dictionary_helpers as dh\n",
    "\n",
    "# imports\n",
    "import numpy as np \n",
    "import matplotlib.pyplot as plt\n",
    "\n",
    "from keras.models import Sequential\n",
    "from keras.layers import Dense\n",
    "\n",
    "print('Keras imported')\n",
    "\n",
    "# fix random seed for reproducibility\n",
    "np.random.seed(666)"
   ]
  },
  {
   "cell_type": "code",
   "execution_count": null,
   "metadata": {
    "collapsed": true
   },
   "outputs": [],
   "source": [
    "import os\n",
    "os.chdir(r'C:\\Users\\utente\\Desktop\\data\\twitter_datasets_stanford')\n",
    "\n",
    "glove_dict = dh.build_glove_dict('glove.twitter.27B.100d.txt')\n",
    "\n",
    "print('glove_dict length = ' ,len(glove_dict))\n",
    "\n",
    "print('Features of \\',\\' : \\n', glove_dict[','])\n"
   ]
  },
  {
   "cell_type": "code",
   "execution_count": null,
   "metadata": {
    "collapsed": true
   },
   "outputs": [],
   "source": [
    "import os\n",
    "os.chdir(r'C:\\Users\\utente\\Desktop\\data\\twitter_datasets_epfl\\short')\n",
    "#os.chdir(r'C:\\Users\\utente\\Desktop\\data\\twitter_datasets_epfl\\full')\n",
    "\n",
    "tweets = dh.build_tweets_matrix('all_short_processed.txt')\n",
    "        \n",
    "print('tweets lenght: ', len(tweets))\n",
    "\n",
    "print('tweets sample (tweets[0]) :', tweets[1])"
   ]
  },
  {
   "cell_type": "code",
   "execution_count": null,
   "metadata": {
    "collapsed": true
   },
   "outputs": [],
   "source": []
  },
  {
   "cell_type": "code",
   "execution_count": null,
   "metadata": {
    "collapsed": true
   },
   "outputs": [],
   "source": [
    "import progressbar\n",
    "\n",
    "tweetlen = len(tweets)\n",
    "\n",
    "bar = progressbar.ProgressBar(maxval=tweetlen, widgets=[progressbar.Bar('=', '[', ']'), ' ', progressbar.Percentage()])\n",
    "\n",
    "feat_size = 100\n",
    "\n",
    "sent_size = 10\n",
    "\n",
    "delete_win = 1000"
   ]
  },
  {
   "cell_type": "code",
   "execution_count": null,
   "metadata": {
    "collapsed": true
   },
   "outputs": [],
   "source": [
    "X = np.empty([len(tweets), feat_size*sent_size])\n",
    "\n",
    "bar.start()\n",
    "\n",
    "k = 0\n",
    "\n",
    "i = 0\n",
    "\n",
    "while i < tweetlen:\n",
    "    \n",
    "    if (i%delete_win == 0 & i!=0):\n",
    "        tweets = np.delete(tweets, arange(0,delete_win) ,0)\n",
    "        k = k+1\n",
    "        gc.collect()\n",
    "    \n",
    "    feats = []\n",
    "    for j in range(len(tweets[i-k*delete_win])):\n",
    "        if tweets[i-k*delete_win][j] in glove_dict:\n",
    "            feats.append(glove_dict[tweets[i-k*delete_win][j]])\n",
    "        else:\n",
    "            feats.append([0]*feat_size)\n",
    "\n",
    "    X[i]= np.hstack((np.mean(feats, axis=0), np.amax(feats, axis=0), np.amin(feats, axis=0)))\n",
    "        \n",
    "    i = i+1\n",
    "    \n",
    "    bar.update(i)\n",
    "    \n",
    "bar.finish()\n",
    "    \n",
    "print('X shape: ' , X.shape)\n",
    "print('X[9][5] = ', X[9][5], ' ', type(X[9][5]))\n",
    "print('X[9] = ', X[9])\n",
    "\n",
    "\n",
    "labels = []\n",
    "\n",
    "#halfway = 1127644 #For the full dataset\n",
    "halfway = 90233    #For the short dataset\n",
    "\n",
    "#For the full dataset---\n",
    "\n",
    "for i in range(halfway):\n",
    "    labels.append(1)\n",
    "for i in range(len(tweets)-halfway):\n",
    "    labels.append(0)\n",
    "\n",
    "Y = np.asarray(labels)"
   ]
  }
 ],
 "metadata": {
  "kernelspec": {
   "display_name": "Python 3",
   "language": "python",
   "name": "python3"
  },
  "language_info": {
   "codemirror_mode": {
    "name": "ipython",
    "version": 3
   },
   "file_extension": ".py",
   "mimetype": "text/x-python",
   "name": "python",
   "nbconvert_exporter": "python",
   "pygments_lexer": "ipython3",
   "version": "3.6.2"
  }
 },
 "nbformat": 4,
 "nbformat_minor": 2
}
